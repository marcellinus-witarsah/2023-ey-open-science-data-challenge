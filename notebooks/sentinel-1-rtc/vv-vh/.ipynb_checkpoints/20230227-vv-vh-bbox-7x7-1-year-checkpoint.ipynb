{
 "cells": [
  {
   "cell_type": "markdown",
   "id": "626a022d-5469-4e2c-aba7-c6b00be60b54",
   "metadata": {},
   "source": [
    "# Level 1: Rice Crop Discovery Tool Notebook"
   ]
  },
  {
   "cell_type": "markdown",
   "id": "ccfd5ecb-92da-4356-860f-64cec7534b45",
   "metadata": {},
   "source": [
    "## Challenge Level 1 Overview"
   ]
  },
  {
   "cell_type": "markdown",
   "id": "e854b5f4-ee16-40da-a6d1-81898cc52aae",
   "metadata": {},
   "source": [
    "<p align=\"justify\">Welcome to the EY Open Science Data Challenge 2023! This challenge consists of two levels – Level 1 and Level 2. This is the Level 1 challenge aimed at participants who are beginners or have intermediate skill sets in data science and programming. The goal of Level 1 is to predict the presence of rice crops at a given location using satellite data. By the time you complete this level, you will have developed a rice crop classification model, which can distinguish between rice and non-rice fields. \n",
    "</p>"
   ]
  },
  {
   "cell_type": "markdown",
   "id": "5f5c6226-0341-48c1-82b6-3fb000064462",
   "metadata": {},
   "source": [
    "<b>Challenge Aim: </b><p align=\"justify\"> <p>"
   ]
  },
  {
   "cell_type": "markdown",
   "id": "8bdd1b29",
   "metadata": {},
   "source": [
    "<p align=\"justify\">In this notebook, we will demonstrate a basic model workflow that can serve as a starting point for the challenge. The basic model has been built to predict rice crops against non-rice crops (which might include forest, other vegetation and water bodies) using features from the Sentinel-1 Radiometrically Terrain Corrected (RTC)  dataset as predictor variables. In this demonstration, we have used two features from the Sentinel-1 dataset, namely VV (Vertical polarization – Vertical polarization) and VH (Vertical polarization – Horizontal polarization) and trained a logistic regression model with these features. We have extracted the VV band and VH band data from the Sentinel-1 dataset for one day (21st March 2020), with an assumption that VV and VH values for this day are representative of VV and VH values for the entire year (2020) for a given location.\n",
    "\n",
    "Most of the functions presented in this notebook were adapted from the <a href=\"https://planetarycomputer.microsoft.com/dataset/sentinel-1-rtc#Example-Notebook\">Sentinel-1-RTC notebook</a> found in the Planetary Computer portal.</p>\n",
    "    \n",
    "<p align=\"justify\"> Please note that this notebook is just a starting point. We have made many assumptions in this notebook that you may think are not best for solving the challenge effectively. You are encouraged to modify these functions, rewrite them, or try an entirely new approach.</p>"
   ]
  },
  {
   "cell_type": "markdown",
   "id": "2cb152d6-21e5-46c6-931d-11e99e6a6798",
   "metadata": {},
   "source": [
    "## Load In Dependencies"
   ]
  },
  {
   "cell_type": "markdown",
   "id": "093dca36-dae9-4b87-9026-7508740cd746",
   "metadata": {},
   "source": [
    "To run this demonstration notebook, you will need to have the following packages imported below installed. This may take some time.  "
   ]
  },
  {
   "cell_type": "markdown",
   "id": "c546caac-b5a5-494f-95e8-19a01e117492",
   "metadata": {},
   "source": [
    "#### Note: Environment setup\n",
    "Running this notebook requires an API key.\n",
    "\n",
    "To use your API key locally, set the environment variable <i><b>PC_SDK_SUBSCRIPTION_KEY</i></b> or use <i><b>planetary_computer.settings.set_subscription_key(<YOUR API Key>)</i></b><br>\n",
    "See <a href=\"https://planetarycomputer.microsoft.com/docs/concepts/sas/#when-an-account-is-needed\">when an account is needed for more </a>, and <a href=\"https://planetarycomputer.microsoft.com/account/request\">request</a> an account if needed."
   ]
  },
  {
   "cell_type": "code",
   "execution_count": 1,
   "id": "3a03723e-78ae-4150-ba22-e2e485b95cdb",
   "metadata": {},
   "outputs": [],
   "source": [
    "# Supress Warnings\n",
    "import warnings\n",
    "warnings.filterwarnings('ignore')\n",
    "\n",
    "# Visualization\n",
    "import ipyleaflet\n",
    "import matplotlib.pyplot as plt\n",
    "from IPython.display import Image\n",
    "import seaborn as sns\n",
    "\n",
    "# Data Science\n",
    "import numpy as np\n",
    "import pandas as pd\n",
    "import xarray as xr\n",
    "\n",
    "# Feature Engineering\n",
    "from sklearn.preprocessing import StandardScaler, MinMaxScaler, RobustScaler\n",
    "from sklearn.model_selection import train_test_split\n",
    "\n",
    "# Machine Learning\n",
    "from sklearn.linear_model import LogisticRegression\n",
    "from sklearn.svm import SVC\n",
    "from sklearn.ensemble import RandomForestClassifier, GradientBoostingClassifier, VotingClassifier, AdaBoostClassifier\n",
    "from sklearn.naive_bayes import BernoulliNB\n",
    "from sklearn.neighbors import KNeighborsClassifier\n",
    "from sklearn.metrics import confusion_matrix, make_scorer, accuracy_score, precision_score, recall_score, f1_score, classification_report\n",
    "\n",
    "# Evaluation and Tuning\n",
    "from sklearn.model_selection import cross_val_score, KFold\n",
    "from sklearn.model_selection import RandomizedSearchCV, GridSearchCV\n",
    "\n",
    "# Planetary Computer Tools\n",
    "import pystac\n",
    "import pystac_client\n",
    "import odc\n",
    "from pystac_client import Client\n",
    "from pystac.extensions.eo import EOExtension as eo\n",
    "from odc.stac import stac_load\n",
    "import planetary_computer as pc\n",
    "pc.settings.set_subscription_key('cf5657d28bb2408ba8fd775642c2e1cb')\n",
    "\n",
    "# Others\n",
    "import requests\n",
    "import rich.table\n",
    "from itertools import cycle\n",
    "from tqdm import tqdm\n",
    "tqdm.pandas()\n",
    "from datetime import datetime\n",
    "import os\n",
    "from glob import glob\n",
    "import time"
   ]
  },
  {
   "cell_type": "markdown",
   "id": "25ce8c4b-e390-4486-bf0a-227ef5b55e8d",
   "metadata": {},
   "source": [
    "## Scope"
   ]
  },
  {
   "cell_type": "markdown",
   "id": "d18d0604-65c7-42be-9ba2-13f2b8689d57",
   "metadata": {},
   "source": [
    "<p>\n",
    "    The scope for this notebook will be using data with area of 1x1 with a time window of <b>1st January 2022</b> until <b>31th December 2022</b>\n",
    "</p>"
   ]
  },
  {
   "cell_type": "markdown",
   "id": "4f3349ee-3e3c-42e7-a5df-24e2194a6532",
   "metadata": {},
   "source": [
    "## Set Constants and Random State"
   ]
  },
  {
   "cell_type": "code",
   "execution_count": 2,
   "id": "426a13a7-4cee-4fe0-94b0-a382f124aa05",
   "metadata": {},
   "outputs": [],
   "source": [
    "# set constant\n",
    "TIME_SLICE = \"2022-01-01/2022-12-31\"\n",
    "# prepare bounding box\n",
    "BOX_SIZE_DEG_3x3 = 0.0002 # Surrounding box in degrees, yields approximately 3x3 pixel region\n",
    "BOX_SIZE_DEG_5x5 = 0.0004 # Surrounding box in degrees, yields approximately 5x5 pixel region\n",
    "BOX_SIZE_DEG_7x7 = 0.0006 # Surrounding box in degrees, yields approximately 7x7 pixel region\n",
    "BOX_SIZE_DEG_10x10 = 0.0009 # Surrounding box in degrees, yields approximately 10x10 pixel region\n",
    "\n",
    "def create_bbox(lat_long, box_size_deg):\n",
    "    lat, lon = float(lat_long[0]), float(lat_long[1])\n",
    "    min_lon = lon-box_size_deg/2\n",
    "    min_lat = lat-box_size_deg/2\n",
    "    max_lon = lon+box_size_deg/2\n",
    "    max_lat = lat+box_size_deg/2\n",
    "    return (min_lon, min_lat, max_lon, max_lat)\n",
    "\n",
    "# random state\n",
    "np.random.seed(42)"
   ]
  },
  {
   "cell_type": "markdown",
   "id": "1c268cf6",
   "metadata": {},
   "source": [
    "## Response Variable"
   ]
  },
  {
   "cell_type": "markdown",
   "id": "f80dbf04",
   "metadata": {},
   "source": [
    "Before building the model, we need to load in the rice crop presence data. We have curated for you data from a certain region in Vietnam for the year 2020. The data consists of  geo locations (Latitude and Longitude) with a tag specifying if the crop present in each geo location is rice or not.  "
   ]
  },
  {
   "cell_type": "code",
   "execution_count": 3,
   "id": "0f1da678",
   "metadata": {},
   "outputs": [
    {
     "data": {
      "text/html": [
       "<div>\n",
       "<style scoped>\n",
       "    .dataframe tbody tr th:only-of-type {\n",
       "        vertical-align: middle;\n",
       "    }\n",
       "\n",
       "    .dataframe tbody tr th {\n",
       "        vertical-align: top;\n",
       "    }\n",
       "\n",
       "    .dataframe thead th {\n",
       "        text-align: right;\n",
       "    }\n",
       "</style>\n",
       "<table border=\"1\" class=\"dataframe\">\n",
       "  <thead>\n",
       "    <tr style=\"text-align: right;\">\n",
       "      <th></th>\n",
       "      <th>Latitude and Longitude</th>\n",
       "      <th>Class of Land</th>\n",
       "    </tr>\n",
       "  </thead>\n",
       "  <tbody>\n",
       "    <tr>\n",
       "      <th>0</th>\n",
       "      <td>(10.323727047081501, 105.2516346045924)</td>\n",
       "      <td>Rice</td>\n",
       "    </tr>\n",
       "    <tr>\n",
       "      <th>1</th>\n",
       "      <td>(10.322364360592521, 105.27843410554115)</td>\n",
       "      <td>Rice</td>\n",
       "    </tr>\n",
       "    <tr>\n",
       "      <th>2</th>\n",
       "      <td>(10.321455902933202, 105.25254306225168)</td>\n",
       "      <td>Rice</td>\n",
       "    </tr>\n",
       "    <tr>\n",
       "      <th>3</th>\n",
       "      <td>(10.324181275911162, 105.25118037576274)</td>\n",
       "      <td>Rice</td>\n",
       "    </tr>\n",
       "    <tr>\n",
       "      <th>4</th>\n",
       "      <td>(10.324635504740822, 105.27389181724476)</td>\n",
       "      <td>Rice</td>\n",
       "    </tr>\n",
       "  </tbody>\n",
       "</table>\n",
       "</div>"
      ],
      "text/plain": [
       "                     Latitude and Longitude Class of Land\n",
       "0   (10.323727047081501, 105.2516346045924)          Rice\n",
       "1  (10.322364360592521, 105.27843410554115)          Rice\n",
       "2  (10.321455902933202, 105.25254306225168)          Rice\n",
       "3  (10.324181275911162, 105.25118037576274)          Rice\n",
       "4  (10.324635504740822, 105.27389181724476)          Rice"
      ]
     },
     "execution_count": 3,
     "metadata": {},
     "output_type": "execute_result"
    }
   ],
   "source": [
    "crop_presence_data = pd.read_csv(\"../../../data/Crop_Location_Data.csv\")\n",
    "crop_presence_data.head()"
   ]
  },
  {
   "cell_type": "markdown",
   "id": "b3b6812c-7137-4873-b4ed-2dcdd470209b",
   "metadata": {},
   "source": [
    "## Predictor Variables"
   ]
  },
  {
   "cell_type": "markdown",
   "id": "1487a9dc-1308-4c05-a69a-ccfe60bc9100",
   "metadata": {},
   "source": [
    "<p align = \"justify\">Sentinel-1 radar data penetrates through the clouds, thus helping us to get the band values with minimal atmospheric attenuation. Band values such as VV and VH help us in distinguishing between the rice and non rice crops. Hence we are choosing VV and VH as predictor variables for this experiment. \n",
    "        \n",
    "<ul>\n",
    "<li>VV - gamma naught values of signal transmitted with vertical polarization and received with vertical polarization with radiometric terrain correction applied.\n",
    "\n",
    "<li>VH - gamma naught values of signal transmitted with vertical polarization and received with horizontal polarization with radiometric terrain correction applied.\n",
    "</ul>"
   ]
  },
  {
   "cell_type": "markdown",
   "id": "0c85257f-4a48-49e8-8036-10e9a6b69894",
   "metadata": {},
   "source": [
    "### Accessing the Sentinel-1 Data"
   ]
  },
  {
   "cell_type": "markdown",
   "id": "a4fa5edf-285d-4917-8773-214dab99346a",
   "metadata": {},
   "source": [
    "Based on Random Forest Feature from `20230302-vv-vh-bbox-1x1-1-year.ipynb`, the top 5 predictors that really have high influence on predicting rice crop classification are `median_vh`, `mean_vh`, `mean_vv`, `median_vv`, and `min_vh`. For this experiment we will use with feature importance value **above 0.1**. Thats's why the author use `median_vh`, `mean_vh`, `mean_vv`, and `median_vv` throughout the experiment."
   ]
  },
  {
   "cell_type": "code",
   "execution_count": 4,
   "id": "5e339a34-cfa7-4899-9165-63ca7c01bbb9",
   "metadata": {},
   "outputs": [],
   "source": [
    "def get_sentinel_data(latlong,time_slice,assets, box_size_deg=None):\n",
    "    '''\n",
    "    Returns VV and VH values for a given latitude and longitude \n",
    "    Attributes:\n",
    "    latlong - A tuple with 2 elements - latitude and longitude\n",
    "    time_slice - Timeframe for which the VV and VH values have to be extracted\n",
    "    assets - A list of bands to be extracted\n",
    "    '''\n",
    "    # 1. extract the longitude and latitude from string\n",
    "    latlong=latlong.replace('(','').replace(')','').replace(' ','').split(',')\n",
    "    \n",
    "    # 2. if the box_size_deg is none then the pixel area will be set to 1x1\n",
    "    if box_size_deg is None:\n",
    "        bbox_of_interest = (float(latlong[1]) , float(latlong[0]), float(latlong[1]) , float(latlong[0]))\n",
    "    else:\n",
    "        bbox_of_interest = create_bbox(latlong, box_size_deg)\n",
    "    time_of_interest = time_slice\n",
    "    \n",
    "    # 3. access the Azure Blob Storage that holding the data\n",
    "    catalog = pystac_client.Client.open(\n",
    "        \"https://planetarycomputer.microsoft.com/api/stac/v1\"\n",
    "    )\n",
    "    \n",
    "    # 4. search the data\n",
    "    search = catalog.search(\n",
    "        collections=[\"sentinel-1-rtc\"], bbox=bbox_of_interest, datetime=time_of_interest\n",
    "    )\n",
    "    items = list(search.get_all_items())\n",
    "    \n",
    "    # 5. load the data bands\n",
    "    bands_of_interest = assests\n",
    "    data = stac_load(items, patch_url=pc.sign, bbox=bbox_of_interest)\n",
    "    return data"
   ]
  },
  {
   "cell_type": "markdown",
   "id": "baeaaf35-fd72-437b-ab8a-ddd2e1cd6e65",
   "metadata": {},
   "source": [
    "### RUN THIS BELOW CODE IF YOU DON'T HAVE THE DATA DOWNLOADED"
   ]
  },
  {
   "cell_type": "code",
   "execution_count": 18,
   "id": "80e0393c-fe3c-480a-8fa3-cbe53b49e3bc",
   "metadata": {
    "tags": []
   },
   "outputs": [],
   "source": [
    "# # Function call to extract VV,VH Values\n",
    "# assests = ['vh','vv']\n",
    "# vh_vv = []\n",
    "\n",
    "# for coordinates in tqdm(crop_presence_data['Latitude and Longitude']):\n",
    "#     data = get_sentinel_data(coordinates,TIME_SLICE,assests,BOX_SIZE_DEG_7x7)\n",
    "    \n",
    "#     # calculate mean\n",
    "#     mean = data.mean(dim=['y', 'x', 'time']).compute()\n",
    "#     mean_vh = mean[\"vh\"].values.tolist()\n",
    "#     mean_vv = mean[\"vv\"].values.tolist()\n",
    "    \n",
    "#     # calculate median\n",
    "#     median = data.median(dim=['y', 'x', 'time']).compute()\n",
    "#     median_vh = median[\"vh\"].values.tolist()\n",
    "#     median_vv = median[\"vv\"].values.tolist()\n",
    "#     vh_vv.append((mean_vh, mean_vv, median_vh, median_vv))\n",
    "    \n",
    "# vh_vv_data = pd.DataFrame(vh_vv,columns =['mean_vh', 'mean_vv', 'median_vh', 'median_vv'])"
   ]
  },
  {
   "cell_type": "code",
   "execution_count": 5,
   "id": "4c51cd6e-41e2-4df4-ae07-349be861f0f0",
   "metadata": {},
   "outputs": [
    {
     "name": "stderr",
     "output_type": "stream",
     "text": [
      " 34%|███▎      | 201/600 [00:02<00:04, 81.14it/s] \n"
     ]
    },
    {
     "ename": "FileNotFoundError",
     "evalue": "[Errno 2] No such file or directory: b'/home/jovyan/2023-ey-open-science-data-challenge-1/data/train/sentinel-1-rtc/1-year-202201-202212/vh-vv-7x7/(9.973062390583982, 105.5209923005689).nc'",
     "output_type": "error",
     "traceback": [
      "\u001b[0;31m---------------------------------------------------------------------------\u001b[0m",
      "\u001b[0;31mKeyError\u001b[0m                                  Traceback (most recent call last)",
      "File \u001b[0;32m/srv/conda/envs/notebook/lib/python3.10/site-packages/xarray/backends/file_manager.py:201\u001b[0m, in \u001b[0;36mCachingFileManager._acquire_with_cache_info\u001b[0;34m(self, needs_lock)\u001b[0m\n\u001b[1;32m    200\u001b[0m \u001b[38;5;28;01mtry\u001b[39;00m:\n\u001b[0;32m--> 201\u001b[0m     file \u001b[38;5;241m=\u001b[39m \u001b[38;5;28;43mself\u001b[39;49m\u001b[38;5;241;43m.\u001b[39;49m\u001b[43m_cache\u001b[49m\u001b[43m[\u001b[49m\u001b[38;5;28;43mself\u001b[39;49m\u001b[38;5;241;43m.\u001b[39;49m\u001b[43m_key\u001b[49m\u001b[43m]\u001b[49m\n\u001b[1;32m    202\u001b[0m \u001b[38;5;28;01mexcept\u001b[39;00m \u001b[38;5;167;01mKeyError\u001b[39;00m:\n",
      "File \u001b[0;32m/srv/conda/envs/notebook/lib/python3.10/site-packages/xarray/backends/lru_cache.py:55\u001b[0m, in \u001b[0;36mLRUCache.__getitem__\u001b[0;34m(self, key)\u001b[0m\n\u001b[1;32m     54\u001b[0m \u001b[38;5;28;01mwith\u001b[39;00m \u001b[38;5;28mself\u001b[39m\u001b[38;5;241m.\u001b[39m_lock:\n\u001b[0;32m---> 55\u001b[0m     value \u001b[38;5;241m=\u001b[39m \u001b[38;5;28;43mself\u001b[39;49m\u001b[38;5;241;43m.\u001b[39;49m\u001b[43m_cache\u001b[49m\u001b[43m[\u001b[49m\u001b[43mkey\u001b[49m\u001b[43m]\u001b[49m\n\u001b[1;32m     56\u001b[0m     \u001b[38;5;28mself\u001b[39m\u001b[38;5;241m.\u001b[39m_cache\u001b[38;5;241m.\u001b[39mmove_to_end(key)\n",
      "\u001b[0;31mKeyError\u001b[0m: [<class 'netCDF4._netCDF4.Dataset'>, ('/home/jovyan/2023-ey-open-science-data-challenge-1/data/train/sentinel-1-rtc/1-year-202201-202212/vh-vv-7x7/(9.973062390583982, 105.5209923005689).nc',), 'r', (('clobber', True), ('diskless', False), ('format', 'NETCDF4'), ('persist', False))]",
      "\nDuring handling of the above exception, another exception occurred:\n",
      "\u001b[0;31mFileNotFoundError\u001b[0m                         Traceback (most recent call last)",
      "Cell \u001b[0;32mIn [5], line 6\u001b[0m\n\u001b[1;32m      3\u001b[0m vh_vv \u001b[38;5;241m=\u001b[39m []\n\u001b[1;32m      5\u001b[0m \u001b[38;5;28;01mfor\u001b[39;00m coordinates \u001b[38;5;129;01min\u001b[39;00m tqdm(crop_presence_data[\u001b[38;5;124m'\u001b[39m\u001b[38;5;124mLatitude and Longitude\u001b[39m\u001b[38;5;124m'\u001b[39m]):\n\u001b[0;32m----> 6\u001b[0m     data \u001b[38;5;241m=\u001b[39m \u001b[43mxr\u001b[49m\u001b[38;5;241;43m.\u001b[39;49m\u001b[43mopen_dataset\u001b[49m\u001b[43m(\u001b[49m\u001b[43mdirectory\u001b[49m\u001b[43m \u001b[49m\u001b[38;5;241;43m+\u001b[39;49m\u001b[43m \u001b[49m\u001b[43mcoordinates\u001b[49m\u001b[43m \u001b[49m\u001b[38;5;241;43m+\u001b[39;49m\u001b[43m \u001b[49m\u001b[38;5;124;43m\"\u001b[39;49m\u001b[38;5;124;43m.nc\u001b[39;49m\u001b[38;5;124;43m\"\u001b[39;49m\u001b[43m)\u001b[49m\n\u001b[1;32m      8\u001b[0m     \u001b[38;5;66;03m# calculate mean\u001b[39;00m\n\u001b[1;32m      9\u001b[0m     mean \u001b[38;5;241m=\u001b[39m data\u001b[38;5;241m.\u001b[39mmean(dim\u001b[38;5;241m=\u001b[39m[\u001b[38;5;124m'\u001b[39m\u001b[38;5;124my\u001b[39m\u001b[38;5;124m'\u001b[39m, \u001b[38;5;124m'\u001b[39m\u001b[38;5;124mx\u001b[39m\u001b[38;5;124m'\u001b[39m, \u001b[38;5;124m'\u001b[39m\u001b[38;5;124mtime\u001b[39m\u001b[38;5;124m'\u001b[39m])\u001b[38;5;241m.\u001b[39mcompute()\n",
      "File \u001b[0;32m/srv/conda/envs/notebook/lib/python3.10/site-packages/xarray/backends/api.py:531\u001b[0m, in \u001b[0;36mopen_dataset\u001b[0;34m(filename_or_obj, engine, chunks, cache, decode_cf, mask_and_scale, decode_times, decode_timedelta, use_cftime, concat_characters, decode_coords, drop_variables, inline_array, backend_kwargs, **kwargs)\u001b[0m\n\u001b[1;32m    519\u001b[0m decoders \u001b[38;5;241m=\u001b[39m _resolve_decoders_kwargs(\n\u001b[1;32m    520\u001b[0m     decode_cf,\n\u001b[1;32m    521\u001b[0m     open_backend_dataset_parameters\u001b[38;5;241m=\u001b[39mbackend\u001b[38;5;241m.\u001b[39mopen_dataset_parameters,\n\u001b[0;32m   (...)\u001b[0m\n\u001b[1;32m    527\u001b[0m     decode_coords\u001b[38;5;241m=\u001b[39mdecode_coords,\n\u001b[1;32m    528\u001b[0m )\n\u001b[1;32m    530\u001b[0m overwrite_encoded_chunks \u001b[38;5;241m=\u001b[39m kwargs\u001b[38;5;241m.\u001b[39mpop(\u001b[38;5;124m\"\u001b[39m\u001b[38;5;124moverwrite_encoded_chunks\u001b[39m\u001b[38;5;124m\"\u001b[39m, \u001b[38;5;28;01mNone\u001b[39;00m)\n\u001b[0;32m--> 531\u001b[0m backend_ds \u001b[38;5;241m=\u001b[39m \u001b[43mbackend\u001b[49m\u001b[38;5;241;43m.\u001b[39;49m\u001b[43mopen_dataset\u001b[49m\u001b[43m(\u001b[49m\n\u001b[1;32m    532\u001b[0m \u001b[43m    \u001b[49m\u001b[43mfilename_or_obj\u001b[49m\u001b[43m,\u001b[49m\n\u001b[1;32m    533\u001b[0m \u001b[43m    \u001b[49m\u001b[43mdrop_variables\u001b[49m\u001b[38;5;241;43m=\u001b[39;49m\u001b[43mdrop_variables\u001b[49m\u001b[43m,\u001b[49m\n\u001b[1;32m    534\u001b[0m \u001b[43m    \u001b[49m\u001b[38;5;241;43m*\u001b[39;49m\u001b[38;5;241;43m*\u001b[39;49m\u001b[43mdecoders\u001b[49m\u001b[43m,\u001b[49m\n\u001b[1;32m    535\u001b[0m \u001b[43m    \u001b[49m\u001b[38;5;241;43m*\u001b[39;49m\u001b[38;5;241;43m*\u001b[39;49m\u001b[43mkwargs\u001b[49m\u001b[43m,\u001b[49m\n\u001b[1;32m    536\u001b[0m \u001b[43m\u001b[49m\u001b[43m)\u001b[49m\n\u001b[1;32m    537\u001b[0m ds \u001b[38;5;241m=\u001b[39m _dataset_from_backend_dataset(\n\u001b[1;32m    538\u001b[0m     backend_ds,\n\u001b[1;32m    539\u001b[0m     filename_or_obj,\n\u001b[0;32m   (...)\u001b[0m\n\u001b[1;32m    547\u001b[0m     \u001b[38;5;241m*\u001b[39m\u001b[38;5;241m*\u001b[39mkwargs,\n\u001b[1;32m    548\u001b[0m )\n\u001b[1;32m    549\u001b[0m \u001b[38;5;28;01mreturn\u001b[39;00m ds\n",
      "File \u001b[0;32m/srv/conda/envs/notebook/lib/python3.10/site-packages/xarray/backends/netCDF4_.py:555\u001b[0m, in \u001b[0;36mNetCDF4BackendEntrypoint.open_dataset\u001b[0;34m(self, filename_or_obj, mask_and_scale, decode_times, concat_characters, decode_coords, drop_variables, use_cftime, decode_timedelta, group, mode, format, clobber, diskless, persist, lock, autoclose)\u001b[0m\n\u001b[1;32m    534\u001b[0m \u001b[38;5;28;01mdef\u001b[39;00m \u001b[38;5;21mopen_dataset\u001b[39m(\n\u001b[1;32m    535\u001b[0m     \u001b[38;5;28mself\u001b[39m,\n\u001b[1;32m    536\u001b[0m     filename_or_obj,\n\u001b[0;32m   (...)\u001b[0m\n\u001b[1;32m    551\u001b[0m     autoclose\u001b[38;5;241m=\u001b[39m\u001b[38;5;28;01mFalse\u001b[39;00m,\n\u001b[1;32m    552\u001b[0m ):\n\u001b[1;32m    554\u001b[0m     filename_or_obj \u001b[38;5;241m=\u001b[39m _normalize_path(filename_or_obj)\n\u001b[0;32m--> 555\u001b[0m     store \u001b[38;5;241m=\u001b[39m \u001b[43mNetCDF4DataStore\u001b[49m\u001b[38;5;241;43m.\u001b[39;49m\u001b[43mopen\u001b[49m\u001b[43m(\u001b[49m\n\u001b[1;32m    556\u001b[0m \u001b[43m        \u001b[49m\u001b[43mfilename_or_obj\u001b[49m\u001b[43m,\u001b[49m\n\u001b[1;32m    557\u001b[0m \u001b[43m        \u001b[49m\u001b[43mmode\u001b[49m\u001b[38;5;241;43m=\u001b[39;49m\u001b[43mmode\u001b[49m\u001b[43m,\u001b[49m\n\u001b[1;32m    558\u001b[0m \u001b[43m        \u001b[49m\u001b[38;5;28;43mformat\u001b[39;49m\u001b[38;5;241;43m=\u001b[39;49m\u001b[38;5;28;43mformat\u001b[39;49m\u001b[43m,\u001b[49m\n\u001b[1;32m    559\u001b[0m \u001b[43m        \u001b[49m\u001b[43mgroup\u001b[49m\u001b[38;5;241;43m=\u001b[39;49m\u001b[43mgroup\u001b[49m\u001b[43m,\u001b[49m\n\u001b[1;32m    560\u001b[0m \u001b[43m        \u001b[49m\u001b[43mclobber\u001b[49m\u001b[38;5;241;43m=\u001b[39;49m\u001b[43mclobber\u001b[49m\u001b[43m,\u001b[49m\n\u001b[1;32m    561\u001b[0m \u001b[43m        \u001b[49m\u001b[43mdiskless\u001b[49m\u001b[38;5;241;43m=\u001b[39;49m\u001b[43mdiskless\u001b[49m\u001b[43m,\u001b[49m\n\u001b[1;32m    562\u001b[0m \u001b[43m        \u001b[49m\u001b[43mpersist\u001b[49m\u001b[38;5;241;43m=\u001b[39;49m\u001b[43mpersist\u001b[49m\u001b[43m,\u001b[49m\n\u001b[1;32m    563\u001b[0m \u001b[43m        \u001b[49m\u001b[43mlock\u001b[49m\u001b[38;5;241;43m=\u001b[39;49m\u001b[43mlock\u001b[49m\u001b[43m,\u001b[49m\n\u001b[1;32m    564\u001b[0m \u001b[43m        \u001b[49m\u001b[43mautoclose\u001b[49m\u001b[38;5;241;43m=\u001b[39;49m\u001b[43mautoclose\u001b[49m\u001b[43m,\u001b[49m\n\u001b[1;32m    565\u001b[0m \u001b[43m    \u001b[49m\u001b[43m)\u001b[49m\n\u001b[1;32m    567\u001b[0m     store_entrypoint \u001b[38;5;241m=\u001b[39m StoreBackendEntrypoint()\n\u001b[1;32m    568\u001b[0m     \u001b[38;5;28;01mwith\u001b[39;00m close_on_error(store):\n",
      "File \u001b[0;32m/srv/conda/envs/notebook/lib/python3.10/site-packages/xarray/backends/netCDF4_.py:384\u001b[0m, in \u001b[0;36mNetCDF4DataStore.open\u001b[0;34m(cls, filename, mode, format, group, clobber, diskless, persist, lock, lock_maker, autoclose)\u001b[0m\n\u001b[1;32m    378\u001b[0m kwargs \u001b[38;5;241m=\u001b[39m \u001b[38;5;28mdict\u001b[39m(\n\u001b[1;32m    379\u001b[0m     clobber\u001b[38;5;241m=\u001b[39mclobber, diskless\u001b[38;5;241m=\u001b[39mdiskless, persist\u001b[38;5;241m=\u001b[39mpersist, \u001b[38;5;28mformat\u001b[39m\u001b[38;5;241m=\u001b[39m\u001b[38;5;28mformat\u001b[39m\n\u001b[1;32m    380\u001b[0m )\n\u001b[1;32m    381\u001b[0m manager \u001b[38;5;241m=\u001b[39m CachingFileManager(\n\u001b[1;32m    382\u001b[0m     netCDF4\u001b[38;5;241m.\u001b[39mDataset, filename, mode\u001b[38;5;241m=\u001b[39mmode, kwargs\u001b[38;5;241m=\u001b[39mkwargs\n\u001b[1;32m    383\u001b[0m )\n\u001b[0;32m--> 384\u001b[0m \u001b[38;5;28;01mreturn\u001b[39;00m \u001b[38;5;28;43mcls\u001b[39;49m\u001b[43m(\u001b[49m\u001b[43mmanager\u001b[49m\u001b[43m,\u001b[49m\u001b[43m \u001b[49m\u001b[43mgroup\u001b[49m\u001b[38;5;241;43m=\u001b[39;49m\u001b[43mgroup\u001b[49m\u001b[43m,\u001b[49m\u001b[43m \u001b[49m\u001b[43mmode\u001b[49m\u001b[38;5;241;43m=\u001b[39;49m\u001b[43mmode\u001b[49m\u001b[43m,\u001b[49m\u001b[43m \u001b[49m\u001b[43mlock\u001b[49m\u001b[38;5;241;43m=\u001b[39;49m\u001b[43mlock\u001b[49m\u001b[43m,\u001b[49m\u001b[43m \u001b[49m\u001b[43mautoclose\u001b[49m\u001b[38;5;241;43m=\u001b[39;49m\u001b[43mautoclose\u001b[49m\u001b[43m)\u001b[49m\n",
      "File \u001b[0;32m/srv/conda/envs/notebook/lib/python3.10/site-packages/xarray/backends/netCDF4_.py:332\u001b[0m, in \u001b[0;36mNetCDF4DataStore.__init__\u001b[0;34m(self, manager, group, mode, lock, autoclose)\u001b[0m\n\u001b[1;32m    330\u001b[0m \u001b[38;5;28mself\u001b[39m\u001b[38;5;241m.\u001b[39m_group \u001b[38;5;241m=\u001b[39m group\n\u001b[1;32m    331\u001b[0m \u001b[38;5;28mself\u001b[39m\u001b[38;5;241m.\u001b[39m_mode \u001b[38;5;241m=\u001b[39m mode\n\u001b[0;32m--> 332\u001b[0m \u001b[38;5;28mself\u001b[39m\u001b[38;5;241m.\u001b[39mformat \u001b[38;5;241m=\u001b[39m \u001b[38;5;28;43mself\u001b[39;49m\u001b[38;5;241;43m.\u001b[39;49m\u001b[43mds\u001b[49m\u001b[38;5;241m.\u001b[39mdata_model\n\u001b[1;32m    333\u001b[0m \u001b[38;5;28mself\u001b[39m\u001b[38;5;241m.\u001b[39m_filename \u001b[38;5;241m=\u001b[39m \u001b[38;5;28mself\u001b[39m\u001b[38;5;241m.\u001b[39mds\u001b[38;5;241m.\u001b[39mfilepath()\n\u001b[1;32m    334\u001b[0m \u001b[38;5;28mself\u001b[39m\u001b[38;5;241m.\u001b[39mis_remote \u001b[38;5;241m=\u001b[39m is_remote_uri(\u001b[38;5;28mself\u001b[39m\u001b[38;5;241m.\u001b[39m_filename)\n",
      "File \u001b[0;32m/srv/conda/envs/notebook/lib/python3.10/site-packages/xarray/backends/netCDF4_.py:393\u001b[0m, in \u001b[0;36mNetCDF4DataStore.ds\u001b[0;34m(self)\u001b[0m\n\u001b[1;32m    391\u001b[0m \u001b[38;5;129m@property\u001b[39m\n\u001b[1;32m    392\u001b[0m \u001b[38;5;28;01mdef\u001b[39;00m \u001b[38;5;21mds\u001b[39m(\u001b[38;5;28mself\u001b[39m):\n\u001b[0;32m--> 393\u001b[0m     \u001b[38;5;28;01mreturn\u001b[39;00m \u001b[38;5;28;43mself\u001b[39;49m\u001b[38;5;241;43m.\u001b[39;49m\u001b[43m_acquire\u001b[49m\u001b[43m(\u001b[49m\u001b[43m)\u001b[49m\n",
      "File \u001b[0;32m/srv/conda/envs/notebook/lib/python3.10/site-packages/xarray/backends/netCDF4_.py:387\u001b[0m, in \u001b[0;36mNetCDF4DataStore._acquire\u001b[0;34m(self, needs_lock)\u001b[0m\n\u001b[1;32m    386\u001b[0m \u001b[38;5;28;01mdef\u001b[39;00m \u001b[38;5;21m_acquire\u001b[39m(\u001b[38;5;28mself\u001b[39m, needs_lock\u001b[38;5;241m=\u001b[39m\u001b[38;5;28;01mTrue\u001b[39;00m):\n\u001b[0;32m--> 387\u001b[0m     \u001b[38;5;28;01mwith\u001b[39;00m \u001b[38;5;28mself\u001b[39m\u001b[38;5;241m.\u001b[39m_manager\u001b[38;5;241m.\u001b[39macquire_context(needs_lock) \u001b[38;5;28;01mas\u001b[39;00m root:\n\u001b[1;32m    388\u001b[0m         ds \u001b[38;5;241m=\u001b[39m _nc4_require_group(root, \u001b[38;5;28mself\u001b[39m\u001b[38;5;241m.\u001b[39m_group, \u001b[38;5;28mself\u001b[39m\u001b[38;5;241m.\u001b[39m_mode)\n\u001b[1;32m    389\u001b[0m     \u001b[38;5;28;01mreturn\u001b[39;00m ds\n",
      "File \u001b[0;32m/srv/conda/envs/notebook/lib/python3.10/contextlib.py:135\u001b[0m, in \u001b[0;36m_GeneratorContextManager.__enter__\u001b[0;34m(self)\u001b[0m\n\u001b[1;32m    133\u001b[0m \u001b[38;5;28;01mdel\u001b[39;00m \u001b[38;5;28mself\u001b[39m\u001b[38;5;241m.\u001b[39margs, \u001b[38;5;28mself\u001b[39m\u001b[38;5;241m.\u001b[39mkwds, \u001b[38;5;28mself\u001b[39m\u001b[38;5;241m.\u001b[39mfunc\n\u001b[1;32m    134\u001b[0m \u001b[38;5;28;01mtry\u001b[39;00m:\n\u001b[0;32m--> 135\u001b[0m     \u001b[38;5;28;01mreturn\u001b[39;00m \u001b[38;5;28;43mnext\u001b[39;49m\u001b[43m(\u001b[49m\u001b[38;5;28;43mself\u001b[39;49m\u001b[38;5;241;43m.\u001b[39;49m\u001b[43mgen\u001b[49m\u001b[43m)\u001b[49m\n\u001b[1;32m    136\u001b[0m \u001b[38;5;28;01mexcept\u001b[39;00m \u001b[38;5;167;01mStopIteration\u001b[39;00m:\n\u001b[1;32m    137\u001b[0m     \u001b[38;5;28;01mraise\u001b[39;00m \u001b[38;5;167;01mRuntimeError\u001b[39;00m(\u001b[38;5;124m\"\u001b[39m\u001b[38;5;124mgenerator didn\u001b[39m\u001b[38;5;124m'\u001b[39m\u001b[38;5;124mt yield\u001b[39m\u001b[38;5;124m\"\u001b[39m) \u001b[38;5;28;01mfrom\u001b[39;00m \u001b[38;5;28mNone\u001b[39m\n",
      "File \u001b[0;32m/srv/conda/envs/notebook/lib/python3.10/site-packages/xarray/backends/file_manager.py:189\u001b[0m, in \u001b[0;36mCachingFileManager.acquire_context\u001b[0;34m(self, needs_lock)\u001b[0m\n\u001b[1;32m    186\u001b[0m \u001b[38;5;129m@contextlib\u001b[39m\u001b[38;5;241m.\u001b[39mcontextmanager\n\u001b[1;32m    187\u001b[0m \u001b[38;5;28;01mdef\u001b[39;00m \u001b[38;5;21macquire_context\u001b[39m(\u001b[38;5;28mself\u001b[39m, needs_lock\u001b[38;5;241m=\u001b[39m\u001b[38;5;28;01mTrue\u001b[39;00m):\n\u001b[1;32m    188\u001b[0m     \u001b[38;5;124;03m\"\"\"Context manager for acquiring a file.\"\"\"\u001b[39;00m\n\u001b[0;32m--> 189\u001b[0m     file, cached \u001b[38;5;241m=\u001b[39m \u001b[38;5;28;43mself\u001b[39;49m\u001b[38;5;241;43m.\u001b[39;49m\u001b[43m_acquire_with_cache_info\u001b[49m\u001b[43m(\u001b[49m\u001b[43mneeds_lock\u001b[49m\u001b[43m)\u001b[49m\n\u001b[1;32m    190\u001b[0m     \u001b[38;5;28;01mtry\u001b[39;00m:\n\u001b[1;32m    191\u001b[0m         \u001b[38;5;28;01myield\u001b[39;00m file\n",
      "File \u001b[0;32m/srv/conda/envs/notebook/lib/python3.10/site-packages/xarray/backends/file_manager.py:207\u001b[0m, in \u001b[0;36mCachingFileManager._acquire_with_cache_info\u001b[0;34m(self, needs_lock)\u001b[0m\n\u001b[1;32m    205\u001b[0m     kwargs \u001b[38;5;241m=\u001b[39m kwargs\u001b[38;5;241m.\u001b[39mcopy()\n\u001b[1;32m    206\u001b[0m     kwargs[\u001b[38;5;124m\"\u001b[39m\u001b[38;5;124mmode\u001b[39m\u001b[38;5;124m\"\u001b[39m] \u001b[38;5;241m=\u001b[39m \u001b[38;5;28mself\u001b[39m\u001b[38;5;241m.\u001b[39m_mode\n\u001b[0;32m--> 207\u001b[0m file \u001b[38;5;241m=\u001b[39m \u001b[38;5;28;43mself\u001b[39;49m\u001b[38;5;241;43m.\u001b[39;49m\u001b[43m_opener\u001b[49m\u001b[43m(\u001b[49m\u001b[38;5;241;43m*\u001b[39;49m\u001b[38;5;28;43mself\u001b[39;49m\u001b[38;5;241;43m.\u001b[39;49m\u001b[43m_args\u001b[49m\u001b[43m,\u001b[49m\u001b[43m \u001b[49m\u001b[38;5;241;43m*\u001b[39;49m\u001b[38;5;241;43m*\u001b[39;49m\u001b[43mkwargs\u001b[49m\u001b[43m)\u001b[49m\n\u001b[1;32m    208\u001b[0m \u001b[38;5;28;01mif\u001b[39;00m \u001b[38;5;28mself\u001b[39m\u001b[38;5;241m.\u001b[39m_mode \u001b[38;5;241m==\u001b[39m \u001b[38;5;124m\"\u001b[39m\u001b[38;5;124mw\u001b[39m\u001b[38;5;124m\"\u001b[39m:\n\u001b[1;32m    209\u001b[0m     \u001b[38;5;66;03m# ensure file doesn't get overridden when opened again\u001b[39;00m\n\u001b[1;32m    210\u001b[0m     \u001b[38;5;28mself\u001b[39m\u001b[38;5;241m.\u001b[39m_mode \u001b[38;5;241m=\u001b[39m \u001b[38;5;124m\"\u001b[39m\u001b[38;5;124ma\u001b[39m\u001b[38;5;124m\"\u001b[39m\n",
      "File \u001b[0;32msrc/netCDF4/_netCDF4.pyx:2463\u001b[0m, in \u001b[0;36mnetCDF4._netCDF4.Dataset.__init__\u001b[0;34m()\u001b[0m\n",
      "File \u001b[0;32msrc/netCDF4/_netCDF4.pyx:2026\u001b[0m, in \u001b[0;36mnetCDF4._netCDF4._ensure_nc_success\u001b[0;34m()\u001b[0m\n",
      "\u001b[0;31mFileNotFoundError\u001b[0m: [Errno 2] No such file or directory: b'/home/jovyan/2023-ey-open-science-data-challenge-1/data/train/sentinel-1-rtc/1-year-202201-202212/vh-vv-7x7/(9.973062390583982, 105.5209923005689).nc'"
     ]
    }
   ],
   "source": [
    "# Function call to extract VV,VH Values\n",
    "directory = \"../../../data/train/sentinel-1-rtc/1-year-202201-202212/vh-vv-7x7/\"\n",
    "vh_vv = []\n",
    "\n",
    "for coordinates in tqdm(crop_presence_data['Latitude and Longitude']):\n",
    "    data = xr.open_dataset(directory + coordinates + \".nc\")\n",
    "    \n",
    "    # calculate mean\n",
    "    mean = data.mean(dim=['y', 'x', 'time']).compute()\n",
    "    mean_vh = mean[\"vh\"].values.tolist()\n",
    "    mean_vv = mean[\"vv\"].values.tolist()\n",
    "    \n",
    "    # calculate median\n",
    "    median = data.median(dim=['y', 'x', 'time']).compute()\n",
    "    median_vh = median[\"vh\"].values.tolist()\n",
    "    median_vv = median[\"vv\"].values.tolist()\n",
    "    \n",
    "    \n",
    "    vh_vv.append((\n",
    "        mean_vh, mean_vv, \n",
    "        median_vh, median_vv,\n",
    "\n",
    "    ))\n",
    "\n",
    "columns =  [\n",
    "    'mean_vh', 'mean_vv', \n",
    "    'median_vh', 'median_vv',\n",
    "]\n",
    "vh_vv_data = pd.DataFrame(vh_vv, columns = columns)"
   ]
  },
  {
   "cell_type": "markdown",
   "id": "aa872546-7567-418c-af04-1d8b4fa5bd60",
   "metadata": {
    "tags": []
   },
   "source": [
    "## Joining the predictor variables and response variables\n",
    "Now that we have extracted our predictor variables, we need to join them onto the response variable . We use the function <i><b>combine_two_datasets</b></i> to combine the predictor variables and response variables.The <i><b>concat</b></i> function from pandas comes in handy here."
   ]
  },
  {
   "cell_type": "code",
   "execution_count": null,
   "id": "96296d95-8290-4f26-80f9-9e221bfcfc81",
   "metadata": {},
   "outputs": [],
   "source": [
    "def combine_two_datasets(dataset1,dataset2):\n",
    "    '''\n",
    "    Returns a  vertically concatenated dataset.\n",
    "    Attributes:\n",
    "    dataset1 - Dataset 1 to be combined \n",
    "    dataset2 - Dataset 2 to be combined\n",
    "    '''\n",
    "    data = pd.concat([dataset1,dataset2], axis=1)\n",
    "    return data"
   ]
  },
  {
   "cell_type": "code",
   "execution_count": null,
   "id": "20fa2b5f-727b-4781-9ff4-cc70596cd3f0",
   "metadata": {},
   "outputs": [],
   "source": [
    "crop_data = combine_two_datasets(crop_presence_data,vh_vv_data)\n",
    "crop_data.head()"
   ]
  },
  {
   "cell_type": "markdown",
   "id": "fd4af7b5-41d1-4822-8d78-5e4bdc84b287",
   "metadata": {
    "tags": []
   },
   "source": [
    "## Model Building\n"
   ]
  },
  {
   "cell_type": "markdown",
   "id": "a664ca55-dba1-440b-a4ef-2b6934c03929",
   "metadata": {},
   "source": [
    "<p align=\"justify\"> Now let us select the columns required for our model building exercise. We will consider only VV and VH for our model. It does not make sense to use latitude and longitude as predictor variables as they do not have any impact on presence of rice crop.</p>"
   ]
  },
  {
   "cell_type": "code",
   "execution_count": null,
   "id": "536d53ad-2697-4283-8ceb-db94f93bad7e",
   "metadata": {},
   "outputs": [],
   "source": [
    "crop_data = crop_data[[\n",
    "    'mean_vh', 'mean_vv', \n",
    "    'median_vh', 'median_vv',\n",
    "    'Class of Land'\n",
    "]]"
   ]
  },
  {
   "cell_type": "markdown",
   "id": "fca40658-8003-4195-b0d1-5efe29929ac9",
   "metadata": {},
   "source": [
    "### Train and Test Split "
   ]
  },
  {
   "cell_type": "markdown",
   "id": "b46507f5-cfd1-43d8-8b05-aa09ce8016af",
   "metadata": {},
   "source": [
    "<p align=\"justify\">We will now split the data into 70% training data and 30% test data. Scikit-learn alias “sklearn” is a robust library for machine learning in Python. The scikit-learn library has a <i><b>model_selection</b></i> module in which there is a splitting function <i><b>train_test_split</b></i>. You can use the same.</p>"
   ]
  },
  {
   "cell_type": "code",
   "execution_count": 6,
   "id": "062ac03d-245d-49af-82d9-56d3ac581e85",
   "metadata": {},
   "outputs": [
    {
     "ename": "NameError",
     "evalue": "name 'crop_data' is not defined",
     "output_type": "error",
     "traceback": [
      "\u001b[0;31m---------------------------------------------------------------------------\u001b[0m",
      "\u001b[0;31mNameError\u001b[0m                                 Traceback (most recent call last)",
      "Cell \u001b[0;32mIn [6], line 1\u001b[0m\n\u001b[0;32m----> 1\u001b[0m X \u001b[38;5;241m=\u001b[39m \u001b[43mcrop_data\u001b[49m\u001b[38;5;241m.\u001b[39mdrop(columns\u001b[38;5;241m=\u001b[39m[\u001b[38;5;124m'\u001b[39m\u001b[38;5;124mClass of Land\u001b[39m\u001b[38;5;124m'\u001b[39m])\u001b[38;5;241m.\u001b[39mvalues\n\u001b[1;32m      2\u001b[0m y \u001b[38;5;241m=\u001b[39m crop_data [\u001b[38;5;124m'\u001b[39m\u001b[38;5;124mClass of Land\u001b[39m\u001b[38;5;124m'\u001b[39m]\u001b[38;5;241m.\u001b[39mvalues\n\u001b[1;32m      3\u001b[0m X_train, X_test, y_train, y_test \u001b[38;5;241m=\u001b[39m train_test_split(X, y, test_size\u001b[38;5;241m=\u001b[39m\u001b[38;5;241m0.3\u001b[39m,stratify\u001b[38;5;241m=\u001b[39my)\n",
      "\u001b[0;31mNameError\u001b[0m: name 'crop_data' is not defined"
     ]
    }
   ],
   "source": [
    "X = crop_data.drop(columns=['Class of Land']).values\n",
    "y = crop_data ['Class of Land'].values\n",
    "X_train, X_test, y_train, y_test = train_test_split(X, y, test_size=0.3,stratify=y)"
   ]
  },
  {
   "cell_type": "markdown",
   "id": "b031607b-9e71-46c8-beb1-3610ab59c56a",
   "metadata": {},
   "source": [
    "### Feature Scaling "
   ]
  },
  {
   "cell_type": "markdown",
   "id": "3b2140c8-3fed-49a4-b9c5-7378c12c5784",
   "metadata": {},
   "source": [
    "<p align=\"justify\"> Before initiating the model training we may have to execute different data pre-processing steps. Here we are demonstrating the scaling of VV and VH variable by using Standard Scaler.</p>"
   ]
  },
  {
   "cell_type": "markdown",
   "id": "d859a23d-be08-4a7c-b27b-1a4afb03feb5",
   "metadata": {},
   "source": [
    "<p align = \"justify\">Feature Scaling is a data preprocessing step for numerical features. Many machine learning algorithms like Gradient descent methods, KNN algorithm, linear and logistic regression, etc. require data scaling to produce good results. Scikit learn provides functions that can be used to apply data scaling. Here we are using Standard Scaler.</p>"
   ]
  },
  {
   "cell_type": "code",
   "execution_count": 10,
   "id": "1506aede-aca0-4acc-a9b7-c7547dd9ed0a",
   "metadata": {},
   "outputs": [],
   "source": [
    "sc = StandardScaler()\n",
    "X_train = sc.fit_transform(X_train)\n",
    "X_test = sc.transform(X_test)"
   ]
  },
  {
   "cell_type": "markdown",
   "id": "ed1de27d-2b8b-4a3d-bf83-66f69f435402",
   "metadata": {
    "tags": []
   },
   "source": [
    "### Model Training"
   ]
  },
  {
   "cell_type": "markdown",
   "id": "c3e978bb-a1af-48d7-ae11-6912bbe45adf",
   "metadata": {},
   "source": [
    "<p justify =\"align\">\n",
    "For this model we are experimenting using 7 models:\n",
    "<ol>\n",
    "    <li>Logistic Regression,</li>\n",
    "    <li>Support Vector Machine,</li>\n",
    "    <li>Random Forest,</li>\n",
    "    <li>Gradient Boost</li>\n",
    "    <li>Ada Boost</li>\n",
    "    <li>Naive Bayes (Bernoulli), and</li>\n",
    "    <li>K-Nearest Neighbor</li>\n",
    "</ol>\n",
    "</p>"
   ]
  },
  {
   "cell_type": "code",
   "execution_count": 11,
   "id": "4b5290e8-700e-44dc-b273-c2a9b7baba20",
   "metadata": {},
   "outputs": [],
   "source": [
    "models = [\n",
    "    LogisticRegression(random_state=42), \n",
    "    SVC(random_state=42),\n",
    "    RandomForestClassifier(random_state=42),\n",
    "    GradientBoostingClassifier(random_state=42),\n",
    "    BernoulliNB(),\n",
    "    KNeighborsClassifier(),\n",
    "    AdaBoostClassifier(random_state=42)\n",
    "]"
   ]
  },
  {
   "cell_type": "markdown",
   "id": "5caa0cc5-9e2e-4512-b11e-883538322147",
   "metadata": {},
   "source": [
    "## Model Evaluation"
   ]
  },
  {
   "cell_type": "markdown",
   "id": "ce133b94-b435-4721-957b-20c412aa523f",
   "metadata": {},
   "source": [
    "Now that we have trained our model , all that is left is to evaluate it. For evaluation we will generate the classification report and will plot the confusion matrix. Scikit-learn provides many other metrics that can be used for evaluation. You can even write a code on your own."
   ]
  },
  {
   "cell_type": "markdown",
   "id": "6ba9d7e2-ba7b-4248-84be-7d13a96ba201",
   "metadata": {
    "tags": []
   },
   "source": [
    "### In-Sample Evaluation\n",
    "<p align=\"Jutisfy\"> We will be generating a classification report and a confusion matrix for the training data. It must be stressed that this is in-sample performance testing , which is the performance testing on the training dataset. These metrics are NOT truly indicative of the model's performance. You should wait to test the model performance on the test data before you feel confident about your model.</p>"
   ]
  },
  {
   "cell_type": "markdown",
   "id": "edfb817a-16cf-4029-bbeb-ca41dceeecb5",
   "metadata": {},
   "source": [
    "In this section, we make predictions on the training set and store them in the <b><i>insample_ predictions</i></b> variable. A confusion matrix is generated to gauge the robustness of the model. "
   ]
  },
  {
   "cell_type": "code",
   "execution_count": 12,
   "id": "ac5331bb-e152-4461-9483-f08e18400433",
   "metadata": {},
   "outputs": [],
   "source": [
    "def cv_comparison(models, X, y, cv):\n",
    "    # Initiate a DataFrame for the averages and a list for all measures\n",
    "    cv_accuracies = pd.DataFrame({\n",
    "        \"model\": [],\n",
    "        \"accuracy\": [],\n",
    "        \"precision\": [],\n",
    "        \"recall\": [],\n",
    "        \"f1_score\": [],\n",
    "    })\n",
    "    \n",
    "    for model in models:\n",
    "        accuracy = cross_val_score(model, X, y, scoring='accuracy', cv=cv)\n",
    "        mean_accuracy = round(accuracy.mean(), 4)\n",
    "        \n",
    "        recall = cross_val_score(model, X, y, scoring='recall_weighted', cv=cv)\n",
    "        mean_recall = round(recall.mean(), 4)\n",
    "        \n",
    "        precision = cross_val_score(model, X, y, scoring='precision_weighted', cv=cv)\n",
    "        mean_precision = round(precision.mean(), 4)\n",
    "        \n",
    "        f1_score = cross_val_score(model, X, y, scoring='f1_weighted', cv=cv)\n",
    "        mean_f1_score = round(f1_score.mean(), 4)\n",
    "        \n",
    "        cv_accuracies.loc[len(cv_accuracies.index)] = [\n",
    "            str(model), \n",
    "            mean_accuracy, \n",
    "            mean_precision, \n",
    "            mean_recall, \n",
    "            mean_f1_score,\n",
    "        ]        \n",
    "    return cv_accuracies"
   ]
  },
  {
   "cell_type": "code",
   "execution_count": 13,
   "id": "1e0e8e36-c3ae-48e3-8e0e-623ef28df000",
   "metadata": {},
   "outputs": [
    {
     "data": {
      "text/html": [
       "<div>\n",
       "<style scoped>\n",
       "    .dataframe tbody tr th:only-of-type {\n",
       "        vertical-align: middle;\n",
       "    }\n",
       "\n",
       "    .dataframe tbody tr th {\n",
       "        vertical-align: top;\n",
       "    }\n",
       "\n",
       "    .dataframe thead th {\n",
       "        text-align: right;\n",
       "    }\n",
       "</style>\n",
       "<table border=\"1\" class=\"dataframe\">\n",
       "  <thead>\n",
       "    <tr style=\"text-align: right;\">\n",
       "      <th></th>\n",
       "      <th>model</th>\n",
       "      <th>accuracy</th>\n",
       "      <th>precision</th>\n",
       "      <th>recall</th>\n",
       "      <th>f1_score</th>\n",
       "    </tr>\n",
       "  </thead>\n",
       "  <tbody>\n",
       "    <tr>\n",
       "      <th>0</th>\n",
       "      <td>LogisticRegression(random_state=42)</td>\n",
       "      <td>0.8071</td>\n",
       "      <td>0.8298</td>\n",
       "      <td>0.8071</td>\n",
       "      <td>0.8029</td>\n",
       "    </tr>\n",
       "    <tr>\n",
       "      <th>1</th>\n",
       "      <td>SVC(random_state=42)</td>\n",
       "      <td>0.9929</td>\n",
       "      <td>0.9930</td>\n",
       "      <td>0.9929</td>\n",
       "      <td>0.9929</td>\n",
       "    </tr>\n",
       "    <tr>\n",
       "      <th>2</th>\n",
       "      <td>RandomForestClassifier(random_state=42)</td>\n",
       "      <td>0.9952</td>\n",
       "      <td>0.9953</td>\n",
       "      <td>0.9952</td>\n",
       "      <td>0.9952</td>\n",
       "    </tr>\n",
       "    <tr>\n",
       "      <th>3</th>\n",
       "      <td>GradientBoostingClassifier(random_state=42)</td>\n",
       "      <td>1.0000</td>\n",
       "      <td>1.0000</td>\n",
       "      <td>1.0000</td>\n",
       "      <td>1.0000</td>\n",
       "    </tr>\n",
       "    <tr>\n",
       "      <th>4</th>\n",
       "      <td>BernoulliNB()</td>\n",
       "      <td>0.8143</td>\n",
       "      <td>0.8533</td>\n",
       "      <td>0.8143</td>\n",
       "      <td>0.8087</td>\n",
       "    </tr>\n",
       "    <tr>\n",
       "      <th>5</th>\n",
       "      <td>KNeighborsClassifier()</td>\n",
       "      <td>0.9952</td>\n",
       "      <td>0.9953</td>\n",
       "      <td>0.9952</td>\n",
       "      <td>0.9952</td>\n",
       "    </tr>\n",
       "    <tr>\n",
       "      <th>6</th>\n",
       "      <td>AdaBoostClassifier(random_state=42)</td>\n",
       "      <td>1.0000</td>\n",
       "      <td>1.0000</td>\n",
       "      <td>1.0000</td>\n",
       "      <td>1.0000</td>\n",
       "    </tr>\n",
       "  </tbody>\n",
       "</table>\n",
       "</div>"
      ],
      "text/plain": [
       "                                         model  accuracy  precision  recall  \\\n",
       "0          LogisticRegression(random_state=42)    0.8071     0.8298  0.8071   \n",
       "1                         SVC(random_state=42)    0.9929     0.9930  0.9929   \n",
       "2      RandomForestClassifier(random_state=42)    0.9952     0.9953  0.9952   \n",
       "3  GradientBoostingClassifier(random_state=42)    1.0000     1.0000  1.0000   \n",
       "4                                BernoulliNB()    0.8143     0.8533  0.8143   \n",
       "5                       KNeighborsClassifier()    0.9952     0.9953  0.9952   \n",
       "6          AdaBoostClassifier(random_state=42)    1.0000     1.0000  1.0000   \n",
       "\n",
       "   f1_score  \n",
       "0    0.8029  \n",
       "1    0.9929  \n",
       "2    0.9952  \n",
       "3    1.0000  \n",
       "4    0.8087  \n",
       "5    0.9952  \n",
       "6    1.0000  "
      ]
     },
     "metadata": {},
     "output_type": "display_data"
    },
    {
     "name": "stdout",
     "output_type": "stream",
     "text": [
      "[TIME]: 4.8798\n"
     ]
    }
   ],
   "source": [
    "start = time.time()\n",
    "df_cv = cv_comparison(models, X_train, y_train, 5)\n",
    "display(df_cv)\n",
    "print(\"[TIME]: %.4f\" % (time.time()-start))"
   ]
  },
  {
   "cell_type": "code",
   "execution_count": 14,
   "id": "f5662c7d-cc18-4f51-918f-43164c7d5b0d",
   "metadata": {},
   "outputs": [
    {
     "data": {
      "text/html": [
       "<div>\n",
       "<style scoped>\n",
       "    .dataframe tbody tr th:only-of-type {\n",
       "        vertical-align: middle;\n",
       "    }\n",
       "\n",
       "    .dataframe tbody tr th {\n",
       "        vertical-align: top;\n",
       "    }\n",
       "\n",
       "    .dataframe thead th {\n",
       "        text-align: right;\n",
       "    }\n",
       "</style>\n",
       "<table border=\"1\" class=\"dataframe\">\n",
       "  <thead>\n",
       "    <tr style=\"text-align: right;\">\n",
       "      <th></th>\n",
       "      <th>model</th>\n",
       "      <th>accuracy</th>\n",
       "      <th>precision</th>\n",
       "      <th>recall</th>\n",
       "      <th>f1_score</th>\n",
       "    </tr>\n",
       "  </thead>\n",
       "  <tbody>\n",
       "    <tr>\n",
       "      <th>3</th>\n",
       "      <td>GradientBoostingClassifier(random_state=42)</td>\n",
       "      <td>1.0000</td>\n",
       "      <td>1.0000</td>\n",
       "      <td>1.0000</td>\n",
       "      <td>1.0000</td>\n",
       "    </tr>\n",
       "    <tr>\n",
       "      <th>6</th>\n",
       "      <td>AdaBoostClassifier(random_state=42)</td>\n",
       "      <td>1.0000</td>\n",
       "      <td>1.0000</td>\n",
       "      <td>1.0000</td>\n",
       "      <td>1.0000</td>\n",
       "    </tr>\n",
       "    <tr>\n",
       "      <th>2</th>\n",
       "      <td>RandomForestClassifier(random_state=42)</td>\n",
       "      <td>0.9952</td>\n",
       "      <td>0.9953</td>\n",
       "      <td>0.9952</td>\n",
       "      <td>0.9952</td>\n",
       "    </tr>\n",
       "    <tr>\n",
       "      <th>5</th>\n",
       "      <td>KNeighborsClassifier()</td>\n",
       "      <td>0.9952</td>\n",
       "      <td>0.9953</td>\n",
       "      <td>0.9952</td>\n",
       "      <td>0.9952</td>\n",
       "    </tr>\n",
       "    <tr>\n",
       "      <th>1</th>\n",
       "      <td>SVC(random_state=42)</td>\n",
       "      <td>0.9929</td>\n",
       "      <td>0.9930</td>\n",
       "      <td>0.9929</td>\n",
       "      <td>0.9929</td>\n",
       "    </tr>\n",
       "    <tr>\n",
       "      <th>4</th>\n",
       "      <td>BernoulliNB()</td>\n",
       "      <td>0.8143</td>\n",
       "      <td>0.8533</td>\n",
       "      <td>0.8143</td>\n",
       "      <td>0.8087</td>\n",
       "    </tr>\n",
       "    <tr>\n",
       "      <th>0</th>\n",
       "      <td>LogisticRegression(random_state=42)</td>\n",
       "      <td>0.8071</td>\n",
       "      <td>0.8298</td>\n",
       "      <td>0.8071</td>\n",
       "      <td>0.8029</td>\n",
       "    </tr>\n",
       "  </tbody>\n",
       "</table>\n",
       "</div>"
      ],
      "text/plain": [
       "                                         model  accuracy  precision  recall  \\\n",
       "3  GradientBoostingClassifier(random_state=42)    1.0000     1.0000  1.0000   \n",
       "6          AdaBoostClassifier(random_state=42)    1.0000     1.0000  1.0000   \n",
       "2      RandomForestClassifier(random_state=42)    0.9952     0.9953  0.9952   \n",
       "5                       KNeighborsClassifier()    0.9952     0.9953  0.9952   \n",
       "1                         SVC(random_state=42)    0.9929     0.9930  0.9929   \n",
       "4                                BernoulliNB()    0.8143     0.8533  0.8143   \n",
       "0          LogisticRegression(random_state=42)    0.8071     0.8298  0.8071   \n",
       "\n",
       "   f1_score  \n",
       "3    1.0000  \n",
       "6    1.0000  \n",
       "2    0.9952  \n",
       "5    0.9952  \n",
       "1    0.9929  \n",
       "4    0.8087  \n",
       "0    0.8029  "
      ]
     },
     "execution_count": 14,
     "metadata": {},
     "output_type": "execute_result"
    }
   ],
   "source": [
    "df_cv.sort_values(by='f1_score', ascending=False)"
   ]
  },
  {
   "cell_type": "markdown",
   "id": "d57f6301-6029-473d-893b-55f7b7c90f86",
   "metadata": {},
   "source": [
    "Picking up the best model based on F1-Score"
   ]
  },
  {
   "cell_type": "code",
   "execution_count": 23,
   "id": "f3b6e75b-4d7d-4e04-9f0c-22d2010178b6",
   "metadata": {},
   "outputs": [],
   "source": [
    "# Create Voting Classifier\n",
    "model = models[3].fit(X_train, y_train)"
   ]
  },
  {
   "cell_type": "code",
   "execution_count": 24,
   "id": "8d31dad3-e933-4687-ba8f-3a6834655c01",
   "metadata": {},
   "outputs": [],
   "source": [
    "insample_predictions = model.predict(X_train)"
   ]
  },
  {
   "cell_type": "code",
   "execution_count": 25,
   "id": "4ffc72c5-cc35-4c6f-aa32-bc60518b871d",
   "metadata": {},
   "outputs": [
    {
     "name": "stdout",
     "output_type": "stream",
     "text": [
      "Insample Accuracy 100.00%\n",
      "              precision    recall  f1-score   support\n",
      "\n",
      "    Non Rice       1.00      1.00      1.00       210\n",
      "        Rice       1.00      1.00      1.00       210\n",
      "\n",
      "    accuracy                           1.00       420\n",
      "   macro avg       1.00      1.00      1.00       420\n",
      "weighted avg       1.00      1.00      1.00       420\n",
      "\n"
     ]
    }
   ],
   "source": [
    "print(\"Insample Accuracy {0:.2f}%\".format(100*accuracy_score(insample_predictions,y_train)))\n",
    "print(classification_report(insample_predictions,y_train))"
   ]
  },
  {
   "cell_type": "markdown",
   "id": "e847aa72-37b8-498b-bd63-4130d1366b7e",
   "metadata": {},
   "source": [
    "<p> For plotting a confusion matrix we define the function <b><i>plot_confusion_matrix</i></b>."
   ]
  },
  {
   "cell_type": "code",
   "execution_count": 26,
   "id": "bb97e054-6e73-4d90-89e2-36ce094721f5",
   "metadata": {},
   "outputs": [],
   "source": [
    "def plot_confusion_matrix(true_value,predicted_value,title,labels):\n",
    "    '''\n",
    "    Plots a confusion matrix.\n",
    "    Attributes:\n",
    "    true_value - The ground truth value for comparision.\n",
    "    predicted_value - The values predicted by the model.\n",
    "    title - Title of the plot.\n",
    "    labels - The x and y labels of the plot.\n",
    "    '''\n",
    "    cm = confusion_matrix(true_value,predicted_value)\n",
    "    ax= plt.subplot()\n",
    "    sns.heatmap(cm, annot=True, fmt='g', ax=ax, cmap='Blues');\n",
    "    ax.set_xlabel('Predicted labels');\n",
    "    ax.set_ylabel('True labels'); \n",
    "    ax.set_title(title); \n",
    "    ax.xaxis.set_ticklabels(labels); \n",
    "    ax.yaxis.set_ticklabels(labels);"
   ]
  },
  {
   "cell_type": "code",
   "execution_count": 27,
   "id": "99c77326-b7d5-4dc4-8101-96bece8aceb2",
   "metadata": {},
   "outputs": [
    {
     "data": {
      "image/png": "[encoded data removed]",
      "text/plain": [
       "<Figure size 640x480 with 2 Axes>"
      ]
     },
     "metadata": {},
     "output_type": "display_data"
    }
   ],
   "source": [
    "plot_confusion_matrix(y_train,insample_predictions,\"Model Level 1: Logistic\\nRegression Model In-Sample Results\",['Rice', 'Non Rice'])"
   ]
  },
  {
   "cell_type": "markdown",
   "id": "e4fd9f2d-1add-499a-b692-f616ec02871d",
   "metadata": {},
   "source": [
    "### Out-Sample Evaluation"
   ]
  },
  {
   "cell_type": "markdown",
   "id": "5a9e1681-0cae-42c1-ad00-0ad3bb7eca71",
   "metadata": {},
   "source": [
    "When evaluating a machine learning model, it is essential to correctly and fairly evaluate the model's ability to generalize. This is because models have a tendency to overfit the dataset they are trained on. To estimate the out-of-sample performance, we will predict on the test data now. "
   ]
  },
  {
   "cell_type": "code",
   "execution_count": 28,
   "id": "0d7324d1-35fd-463f-9734-f2ad1552ae52",
   "metadata": {},
   "outputs": [],
   "source": [
    "outsample_predictions = model.predict(X_test)"
   ]
  },
  {
   "cell_type": "code",
   "execution_count": 29,
   "id": "4fdec320-a85c-49b9-8177-a65d5b85317a",
   "metadata": {},
   "outputs": [
    {
     "name": "stdout",
     "output_type": "stream",
     "text": [
      "Accuracy 99.44%\n",
      "              precision    recall  f1-score   support\n",
      "\n",
      "    Non Rice       1.00      0.99      0.99        90\n",
      "        Rice       0.99      1.00      0.99        90\n",
      "\n",
      "    accuracy                           0.99       180\n",
      "   macro avg       0.99      0.99      0.99       180\n",
      "weighted avg       0.99      0.99      0.99       180\n",
      "\n"
     ]
    }
   ],
   "source": [
    "print(\"Accuracy {0:.2f}%\".format(100*accuracy_score(outsample_predictions, y_test)))\n",
    "print(classification_report(y_test, outsample_predictions))"
   ]
  },
  {
   "cell_type": "code",
   "execution_count": 30,
   "id": "da5ed827-f3b8-47a2-865c-61bd2cd9621c",
   "metadata": {},
   "outputs": [
    {
     "data": {
      "image/png": "[encoded data removed]",
      "text/plain": [
       "<Figure size 640x480 with 2 Axes>"
      ]
     },
     "metadata": {},
     "output_type": "display_data"
    }
   ],
   "source": [
    "plot_confusion_matrix(y_test, outsample_predictions,\"Model Level 1: Logistic\\nRegression Model Out-Sample Results\",['Rice', 'Non Rice'])"
   ]
  },
  {
   "cell_type": "markdown",
   "id": "0f0bd4a4-5976-4a37-8f5b-fe46cf841e1f",
   "metadata": {},
   "source": [
    "From the above, we see that the model is able to achieve an F1 score of <b>0.57</b>. This is not a very good score, so your goal is to improve this score.  "
   ]
  },
  {
   "cell_type": "markdown",
   "id": "144a34c6-91f5-47e2-983c-cb6524eb34f6",
   "metadata": {},
   "source": [
    "## Hyperparameter Tune"
   ]
  },
  {
   "cell_type": "markdown",
   "id": "6703f291-6e2f-4eee-bc19-cb9e9a1bc635",
   "metadata": {},
   "source": [
    "Finding the best parameter for the SVC model using Grid Search CV and Randomized Search Cv"
   ]
  },
  {
   "cell_type": "markdown",
   "id": "c37ef6cf-d42e-4a19-82f8-22a3eab4a290",
   "metadata": {},
   "source": [
    "### Gradient Boosting"
   ]
  },
  {
   "cell_type": "code",
   "execution_count": 33,
   "id": "09896c9a-9ee6-471b-8cc4-550870f1bad9",
   "metadata": {},
   "outputs": [
    {
     "name": "stdout",
     "output_type": "stream",
     "text": [
      "Fitting 5 folds for each of 100 candidates, totalling 500 fits\n",
      "[CV 3/5] END learning_rate=0.1, max_depth=3, min_samples_leaf=4, min_samples_split=4, n_estimators=50;, score=1.000 total time=   0.0s\n",
      "[CV 3/5] END learning_rate=0.1, max_depth=5, min_samples_leaf=1, min_samples_split=8, n_estimators=100;, score=1.000 total time=   0.0s\n",
      "[CV 2/5] END learning_rate=0.1, max_depth=3, min_samples_leaf=4, min_samples_split=2, n_estimators=50;, score=1.000 total time=   0.0s\n",
      "[CV 4/5] END learning_rate=0.1, max_depth=3, min_samples_leaf=4, min_samples_split=2, n_estimators=50;, score=1.000 total time=   0.0s\n",
      "[CV 3/5] END learning_rate=0.001, max_depth=5, min_samples_leaf=1, min_samples_split=4, n_estimators=100;, score=1.000 total time=   0.1s\n",
      "[CV 3/5] END learning_rate=0.001, max_depth=3, min_samples_leaf=6, min_samples_split=2, n_estimators=50;, score=1.000 total time=   0.0s\n",
      "[CV 5/5] END learning_rate=0.001, max_depth=3, min_samples_leaf=6, min_samples_split=2, n_estimators=50;, score=1.000 total time=   0.0s\n",
      "[CV 1/5] END learning_rate=0.1, max_depth=5, min_samples_leaf=2, min_samples_split=4, n_estimators=50;, score=1.000 total time=   0.0s\n",
      "[CV 5/5] END learning_rate=0.3, max_depth=3, min_samples_leaf=4, min_samples_split=6, n_estimators=50;, score=1.000 total time=   0.0s\n",
      "[CV 1/5] END learning_rate=0.2, max_depth=9, min_samples_leaf=1, min_samples_split=6, n_estimators=100;, score=1.000 total time=   0.0s\n",
      "[CV 5/5] END learning_rate=0.01, max_depth=3, min_samples_leaf=1, min_samples_split=2, n_estimators=100;, score=1.000 total time=   0.1s\n",
      "[CV 1/5] END learning_rate=0.1, max_depth=7, min_samples_leaf=2, min_samples_split=4, n_estimators=50;, score=1.000 total time=   0.0s\n",
      "[CV 2/5] END learning_rate=0.1, max_depth=7, min_samples_leaf=2, min_samples_split=4, n_estimators=50;, score=1.000 total time=   0.0s\n",
      "[CV 3/5] END learning_rate=0.1, max_depth=7, min_samples_leaf=2, min_samples_split=4, n_estimators=50;, score=1.000 total time=   0.0s\n",
      "[CV 2/5] END learning_rate=0.3, max_depth=3, min_samples_leaf=6, min_samples_split=6, n_estimators=200;, score=1.000 total time=   0.1s\n",
      "[CV 3/5] END learning_rate=0.3, max_depth=3, min_samples_leaf=6, min_samples_split=6, n_estimators=200;, score=1.000 total time=   0.1s\n",
      "[CV 4/5] END learning_rate=0.3, max_depth=3, min_samples_leaf=6, min_samples_split=6, n_estimators=200;, score=1.000 total time=   0.1s\n",
      "[CV 5/5] END learning_rate=0.3, max_depth=3, min_samples_leaf=6, min_samples_split=6, n_estimators=200;, score=1.000 total time=   0.1s\n",
      "[CV 3/5] END learning_rate=0.2, max_depth=3, min_samples_leaf=6, min_samples_split=8, n_estimators=100;, score=1.000 total time=   0.0s\n",
      "[CV 4/5] END learning_rate=0.2, max_depth=3, min_samples_leaf=6, min_samples_split=8, n_estimators=100;, score=1.000 total time=   0.0s\n",
      "[CV 5/5] END learning_rate=0.2, max_depth=3, min_samples_leaf=6, min_samples_split=8, n_estimators=100;, score=1.000 total time=   0.0s\n",
      "[CV 1/5] END learning_rate=0.2, max_depth=9, min_samples_leaf=2, min_samples_split=6, n_estimators=50;, score=1.000 total time=   0.0s\n",
      "[CV 1/5] END learning_rate=0.2, max_depth=7, min_samples_leaf=2, min_samples_split=4, n_estimators=200;, score=1.000 total time=   0.1s\n",
      "[CV 2/5] END learning_rate=0.2, max_depth=7, min_samples_leaf=2, min_samples_split=4, n_estimators=200;, score=1.000 total time=   0.1s\n",
      "[CV 3/5] END learning_rate=0.2, max_depth=7, min_samples_leaf=2, min_samples_split=4, n_estimators=200;, score=1.000 total time=   0.1s\n",
      "[CV 4/5] END learning_rate=0.2, max_depth=7, min_samples_leaf=2, min_samples_split=4, n_estimators=200;, score=1.000 total time=   0.1s\n",
      "[CV 1/5] END learning_rate=0.1, max_depth=9, min_samples_leaf=6, min_samples_split=2, n_estimators=200;, score=1.000 total time=   0.1s\n",
      "[CV 2/5] END learning_rate=0.1, max_depth=9, min_samples_leaf=6, min_samples_split=2, n_estimators=200;, score=1.000 total time=   0.1s\n",
      "[CV 3/5] END learning_rate=0.1, max_depth=9, min_samples_leaf=6, min_samples_split=2, n_estimators=200;, score=1.000 total time=   0.1s\n",
      "[CV 4/5] END learning_rate=0.1, max_depth=9, min_samples_leaf=6, min_samples_split=2, n_estimators=200;, score=1.000 total time=   0.1s\n",
      "[CV 2/5] END learning_rate=0.001, max_depth=5, min_samples_leaf=6, min_samples_split=6, n_estimators=50;, score=1.000 total time=   0.0s\n",
      "[CV 3/5] END learning_rate=0.001, max_depth=5, min_samples_leaf=6, min_samples_split=6, n_estimators=50;, score=1.000 total time=   0.0s\n",
      "[CV 4/5] END learning_rate=0.001, max_depth=5, min_samples_leaf=6, min_samples_split=6, n_estimators=50;, score=1.000 total time=   0.0s\n",
      "[CV 5/5] END learning_rate=0.001, max_depth=5, min_samples_leaf=6, min_samples_split=6, n_estimators=50;, score=1.000 total time=   0.0s\n",
      "[CV 3/5] END learning_rate=0.001, max_depth=9, min_samples_leaf=6, min_samples_split=2, n_estimators=50;, score=1.000 total time=   0.0s\n",
      "[CV 4/5] END learning_rate=0.001, max_depth=9, min_samples_leaf=6, min_samples_split=2, n_estimators=50;, score=1.000 total time=   0.0s\n",
      "[CV 5/5] END learning_rate=0.001, max_depth=9, min_samples_leaf=6, min_samples_split=2, n_estimators=50;, score=1.000 total time=   0.0s\n",
      "[CV 1/5] END learning_rate=0.2, max_depth=7, min_samples_leaf=6, min_samples_split=4, n_estimators=100;, score=1.000 total time=   0.0s\n",
      "[CV 2/5] END learning_rate=0.2, max_depth=7, min_samples_leaf=6, min_samples_split=4, n_estimators=100;, score=1.000 total time=   0.0s\n",
      "[CV 3/5] END learning_rate=0.2, max_depth=7, min_samples_leaf=6, min_samples_split=4, n_estimators=100;, score=1.000 total time=   0.0s\n",
      "[CV 4/5] END learning_rate=0.2, max_depth=7, min_samples_leaf=6, min_samples_split=4, n_estimators=100;, score=1.000 total time=   0.0s\n",
      "[CV 5/5] END learning_rate=0.2, max_depth=7, min_samples_leaf=6, min_samples_split=4, n_estimators=100;, score=1.000 total time=   0.0s\n",
      "[CV 4/5] END learning_rate=0.01, max_depth=7, min_samples_leaf=1, min_samples_split=6, n_estimators=100;, score=1.000 total time=   0.1s\n",
      "[CV 5/5] END learning_rate=0.01, max_depth=7, min_samples_leaf=1, min_samples_split=6, n_estimators=100;, score=1.000 total time=   0.1s\n",
      "[CV 1/5] END learning_rate=0.01, max_depth=7, min_samples_leaf=6, min_samples_split=8, n_estimators=100;, score=1.000 total time=   0.1s\n",
      "[CV 2/5] END learning_rate=0.01, max_depth=7, min_samples_leaf=6, min_samples_split=8, n_estimators=100;, score=1.000 total time=   0.1s\n",
      "[CV 5/5] END learning_rate=0.1, max_depth=3, min_samples_leaf=6, min_samples_split=8, n_estimators=100;, score=1.000 total time=   0.0s\n",
      "[CV 1/5] END learning_rate=0.1, max_depth=9, min_samples_leaf=1, min_samples_split=4, n_estimators=100;, score=1.000 total time=   0.0s\n",
      "[CV 2/5] END learning_rate=0.1, max_depth=9, min_samples_leaf=1, min_samples_split=4, n_estimators=100;, score=1.000 total time=   0.0s\n",
      "[CV 3/5] END learning_rate=0.1, max_depth=9, min_samples_leaf=1, min_samples_split=4, n_estimators=100;, score=1.000 total time=   0.1s\n",
      "[CV 4/5] END learning_rate=0.3, max_depth=9, min_samples_leaf=4, min_samples_split=8, n_estimators=100;, score=1.000 total time=   0.0s\n",
      "[CV 5/5] END learning_rate=0.3, max_depth=9, min_samples_leaf=4, min_samples_split=8, n_estimators=100;, score=1.000 total time=   0.0s\n",
      "[CV 1/5] END learning_rate=0.1, max_depth=5, min_samples_leaf=6, min_samples_split=4, n_estimators=100;, score=1.000 total time=   0.0s\n",
      "[CV 2/5] END learning_rate=0.1, max_depth=5, min_samples_leaf=6, min_samples_split=4, n_estimators=100;, score=1.000 total time=   0.1s\n",
      "[CV 5/5] END learning_rate=0.01, max_depth=3, min_samples_leaf=1, min_samples_split=6, n_estimators=200;, score=1.000 total time=   0.1s\n",
      "[CV 1/5] END learning_rate=0.1, max_depth=9, min_samples_leaf=6, min_samples_split=4, n_estimators=50;, score=1.000 total time=   0.0s\n",
      "[CV 2/5] END learning_rate=0.1, max_depth=9, min_samples_leaf=6, min_samples_split=4, n_estimators=50;, score=1.000 total time=   0.0s\n",
      "[CV 3/5] END learning_rate=0.1, max_depth=9, min_samples_leaf=6, min_samples_split=4, n_estimators=50;, score=1.000 total time=   0.0s\n",
      "[CV 2/5] END learning_rate=0.001, max_depth=9, min_samples_leaf=4, min_samples_split=6, n_estimators=100;, score=1.000 total time=   0.1s\n",
      "[CV 3/5] END learning_rate=0.001, max_depth=9, min_samples_leaf=4, min_samples_split=6, n_estimators=100;, score=1.000 total time=   0.1s\n",
      "[CV 4/5] END learning_rate=0.1, max_depth=3, min_samples_leaf=4, min_samples_split=4, n_estimators=50;, score=1.000 total time=   0.0s\n",
      "[CV 5/5] END learning_rate=0.1, max_depth=5, min_samples_leaf=1, min_samples_split=8, n_estimators=100;, score=1.000 total time=   0.0s\n",
      "[CV 5/5] END learning_rate=0.1, max_depth=3, min_samples_leaf=4, min_samples_split=2, n_estimators=50;, score=1.000 total time=   0.0s\n",
      "[CV 4/5] END learning_rate=0.001, max_depth=5, min_samples_leaf=1, min_samples_split=4, n_estimators=100;, score=1.000 total time=   0.1s\n",
      "[CV 2/5] END learning_rate=0.001, max_depth=3, min_samples_leaf=6, min_samples_split=2, n_estimators=50;, score=1.000 total time=   0.0s\n",
      "[CV 4/5] END learning_rate=0.001, max_depth=3, min_samples_leaf=6, min_samples_split=2, n_estimators=50;, score=1.000 total time=   0.0s\n",
      "[CV 1/5] END learning_rate=0.3, max_depth=3, min_samples_leaf=4, min_samples_split=6, n_estimators=50;, score=1.000 total time=   0.0s\n",
      "[CV 2/5] END learning_rate=0.3, max_depth=3, min_samples_leaf=4, min_samples_split=6, n_estimators=50;, score=1.000 total time=   0.0s\n",
      "[CV 4/5] END learning_rate=0.2, max_depth=9, min_samples_leaf=1, min_samples_split=6, n_estimators=100;, score=1.000 total time=   0.0s\n",
      "[CV 5/5] END learning_rate=0.2, max_depth=9, min_samples_leaf=1, min_samples_split=6, n_estimators=100;, score=1.000 total time=   0.0s\n",
      "[CV 3/5] END learning_rate=0.2, max_depth=7, min_samples_leaf=1, min_samples_split=8, n_estimators=100;, score=1.000 total time=   0.1s\n",
      "[CV 4/5] END learning_rate=0.2, max_depth=7, min_samples_leaf=1, min_samples_split=8, n_estimators=100;, score=1.000 total time=   0.0s\n",
      "[CV 5/5] END learning_rate=0.2, max_depth=7, min_samples_leaf=1, min_samples_split=8, n_estimators=100;, score=1.000 total time=   0.0s\n",
      "[CV 1/5] END learning_rate=0.3, max_depth=3, min_samples_leaf=6, min_samples_split=6, n_estimators=200;, score=1.000 total time=   0.1s\n",
      "[CV 4/5] END learning_rate=0.001, max_depth=3, min_samples_leaf=2, min_samples_split=4, n_estimators=200;, score=1.000 total time=   0.1s\n",
      "[CV 5/5] END learning_rate=0.001, max_depth=3, min_samples_leaf=2, min_samples_split=4, n_estimators=200;, score=1.000 total time=   0.1s\n",
      "[CV 1/5] END learning_rate=0.2, max_depth=3, min_samples_leaf=6, min_samples_split=8, n_estimators=100;, score=1.000 total time=   0.0s\n",
      "[CV 2/5] END learning_rate=0.2, max_depth=3, min_samples_leaf=6, min_samples_split=8, n_estimators=100;, score=1.000 total time=   0.0s\n",
      "[CV 5/5] END learning_rate=0.2, max_depth=7, min_samples_leaf=2, min_samples_split=4, n_estimators=200;, score=1.000 total time=   0.1s\n",
      "[CV 1/5] END learning_rate=0.2, max_depth=7, min_samples_leaf=2, min_samples_split=4, n_estimators=100;, score=1.000 total time=   0.0s\n",
      "[CV 2/5] END learning_rate=0.2, max_depth=7, min_samples_leaf=2, min_samples_split=4, n_estimators=100;, score=1.000 total time=   0.0s\n",
      "[CV 3/5] END learning_rate=0.2, max_depth=7, min_samples_leaf=2, min_samples_split=4, n_estimators=100;, score=1.000 total time=   0.0s\n",
      "[CV 2/5] END learning_rate=0.01, max_depth=7, min_samples_leaf=1, min_samples_split=2, n_estimators=100;, score=1.000 total time=   0.1s\n",
      "[CV 3/5] END learning_rate=0.01, max_depth=7, min_samples_leaf=1, min_samples_split=2, n_estimators=100;, score=1.000 total time=   0.1s\n",
      "[CV 4/5] END learning_rate=0.01, max_depth=7, min_samples_leaf=1, min_samples_split=2, n_estimators=100;, score=1.000 total time=   0.1s\n",
      "[CV 5/5] END learning_rate=0.01, max_depth=7, min_samples_leaf=1, min_samples_split=2, n_estimators=100;, score=1.000 total time=   0.1s\n",
      "[CV 3/5] END learning_rate=0.001, max_depth=9, min_samples_leaf=4, min_samples_split=2, n_estimators=100;, score=1.000 total time=   0.1s\n",
      "[CV 4/5] END learning_rate=0.001, max_depth=9, min_samples_leaf=4, min_samples_split=2, n_estimators=100;, score=1.000 total time=   0.1s\n",
      "[CV 5/5] END learning_rate=0.001, max_depth=9, min_samples_leaf=4, min_samples_split=2, n_estimators=100;, score=1.000 total time=   0.1s\n",
      "[CV 1/5] END learning_rate=0.001, max_depth=5, min_samples_leaf=6, min_samples_split=6, n_estimators=50;, score=1.000 total time=   0.0s\n",
      "[CV 5/5] END learning_rate=0.001, max_depth=3, min_samples_leaf=6, min_samples_split=6, n_estimators=200;, score=1.000 total time=   0.1s\n",
      "[CV 1/5] END learning_rate=0.01, max_depth=3, min_samples_leaf=4, min_samples_split=6, n_estimators=200;, score=1.000 total time=   0.1s\n",
      "[CV 2/5] END learning_rate=0.01, max_depth=3, min_samples_leaf=4, min_samples_split=6, n_estimators=200;, score=1.000 total time=   0.1s\n",
      "[CV 3/5] END learning_rate=0.01, max_depth=3, min_samples_leaf=4, min_samples_split=6, n_estimators=200;, score=1.000 total time=   0.1s\n",
      "[CV 5/5] END learning_rate=0.3, max_depth=3, min_samples_leaf=2, min_samples_split=8, n_estimators=100;, score=1.000 total time=   0.0s\n",
      "[CV 1/5] END learning_rate=0.01, max_depth=7, min_samples_leaf=1, min_samples_split=6, n_estimators=100;, score=1.000 total time=   0.1s\n",
      "[CV 2/5] END learning_rate=0.01, max_depth=7, min_samples_leaf=1, min_samples_split=6, n_estimators=100;, score=1.000 total time=   0.1s\n",
      "[CV 3/5] END learning_rate=0.01, max_depth=7, min_samples_leaf=1, min_samples_split=6, n_estimators=100;, score=1.000 total time=   0.1s\n",
      "[CV 1/5] END learning_rate=0.1, max_depth=3, min_samples_leaf=6, min_samples_split=8, n_estimators=100;, score=1.000 total time=   0.0s\n",
      "[CV 2/5] END learning_rate=0.1, max_depth=3, min_samples_leaf=6, min_samples_split=8, n_estimators=100;, score=1.000 total time=   0.0s\n",
      "[CV 3/5] END learning_rate=0.1, max_depth=3, min_samples_leaf=6, min_samples_split=8, n_estimators=100;, score=1.000 total time=   0.0s\n",
      "[CV 4/5] END learning_rate=0.1, max_depth=3, min_samples_leaf=6, min_samples_split=8, n_estimators=100;, score=1.000 total time=   0.0s\n",
      "[CV 2/5] END learning_rate=0.3, max_depth=5, min_samples_leaf=2, min_samples_split=2, n_estimators=100;, score=1.000 total time=   0.0s\n",
      "[CV 3/5] END learning_rate=0.3, max_depth=5, min_samples_leaf=2, min_samples_split=2, n_estimators=100;, score=1.000 total time=   0.0s\n",
      "[CV 4/5] END learning_rate=0.3, max_depth=5, min_samples_leaf=2, min_samples_split=2, n_estimators=100;, score=1.000 total time=   0.0s\n",
      "[CV 5/5] END learning_rate=0.3, max_depth=5, min_samples_leaf=2, min_samples_split=2, n_estimators=100;, score=1.000 total time=   0.0s\n",
      "[CV 3/5] END learning_rate=0.1, max_depth=5, min_samples_leaf=6, min_samples_split=4, n_estimators=100;, score=1.000 total time=   0.0s\n",
      "[CV 4/5] END learning_rate=0.1, max_depth=5, min_samples_leaf=6, min_samples_split=4, n_estimators=100;, score=1.000 total time=   0.0s\n",
      "[CV 5/5] END learning_rate=0.1, max_depth=5, min_samples_leaf=6, min_samples_split=4, n_estimators=100;, score=1.000 total time=   0.0s\n",
      "[CV 1/5] END learning_rate=0.2, max_depth=7, min_samples_leaf=4, min_samples_split=6, n_estimators=50;, score=1.000 total time=   0.0s\n",
      "[CV 3/5] END learning_rate=0.2, max_depth=3, min_samples_leaf=4, min_samples_split=2, n_estimators=200;, score=1.000 total time=   0.1s\n",
      "[CV 4/5] END learning_rate=0.2, max_depth=3, min_samples_leaf=4, min_samples_split=2, n_estimators=200;, score=1.000 total time=   0.1s\n",
      "[CV 5/5] END learning_rate=0.2, max_depth=3, min_samples_leaf=4, min_samples_split=2, n_estimators=200;, score=1.000 total time=   0.1s\n",
      "[CV 1/5] END learning_rate=0.001, max_depth=9, min_samples_leaf=4, min_samples_split=6, n_estimators=100;, score=1.000 total time=   0.1s\n",
      "[CV 5/5] END learning_rate=0.3, max_depth=7, min_samples_leaf=1, min_samples_split=2, n_estimators=50;, score=1.000 total time=   0.0s\n",
      "[CV 1/5] END learning_rate=0.1, max_depth=3, min_samples_leaf=6, min_samples_split=6, n_estimators=50;, score=1.000 total time=   0.0s\n",
      "[CV 2/5] END learning_rate=0.1, max_depth=3, min_samples_leaf=6, min_samples_split=6, n_estimators=50;, score=1.000 total time=   0.0s\n",
      "[CV 3/5] END learning_rate=0.1, max_depth=3, min_samples_leaf=6, min_samples_split=6, n_estimators=50;, score=1.000 total time=   0.0s\n",
      "[CV 1/5] END learning_rate=0.01, max_depth=3, min_samples_leaf=2, min_samples_split=2, n_estimators=200;, score=1.000 total time=   0.1s\n",
      "[CV 2/5] END learning_rate=0.01, max_depth=3, min_samples_leaf=2, min_samples_split=2, n_estimators=200;, score=1.000 total time=   0.1s\n",
      "[CV 1/5] END learning_rate=0.1, max_depth=3, min_samples_leaf=4, min_samples_split=4, n_estimators=50;, score=1.000 total time=   0.0s\n",
      "[CV 5/5] END learning_rate=0.1, max_depth=3, min_samples_leaf=4, min_samples_split=4, n_estimators=50;, score=1.000 total time=   0.0s\n",
      "[CV 2/5] END learning_rate=0.1, max_depth=5, min_samples_leaf=1, min_samples_split=8, n_estimators=100;, score=1.000 total time=   0.0s\n",
      "[CV 1/5] END learning_rate=0.1, max_depth=3, min_samples_leaf=4, min_samples_split=2, n_estimators=50;, score=1.000 total time=   0.0s\n",
      "[CV 3/5] END learning_rate=0.1, max_depth=3, min_samples_leaf=4, min_samples_split=2, n_estimators=50;, score=1.000 total time=   0.0s\n",
      "[CV 2/5] END learning_rate=0.001, max_depth=5, min_samples_leaf=1, min_samples_split=4, n_estimators=100;, score=1.000 total time=   0.1s\n",
      "[CV 1/5] END learning_rate=0.001, max_depth=3, min_samples_leaf=6, min_samples_split=2, n_estimators=50;, score=1.000 total time=   0.0s\n",
      "[CV 2/5] END learning_rate=0.1, max_depth=5, min_samples_leaf=2, min_samples_split=4, n_estimators=50;, score=1.000 total time=   0.0s\n",
      "[CV 3/5] END learning_rate=0.1, max_depth=5, min_samples_leaf=2, min_samples_split=4, n_estimators=50;, score=1.000 total time=   0.0s\n",
      "[CV 3/5] END learning_rate=0.3, max_depth=3, min_samples_leaf=4, min_samples_split=6, n_estimators=50;, score=1.000 total time=   0.0s\n",
      "[CV 4/5] END learning_rate=0.3, max_depth=3, min_samples_leaf=4, min_samples_split=6, n_estimators=50;, score=1.000 total time=   0.0s\n",
      "[CV 1/5] END learning_rate=0.01, max_depth=3, min_samples_leaf=1, min_samples_split=2, n_estimators=100;, score=1.000 total time=   0.1s\n",
      "[CV 2/5] END learning_rate=0.01, max_depth=3, min_samples_leaf=1, min_samples_split=2, n_estimators=100;, score=1.000 total time=   0.1s\n",
      "[CV 3/5] END learning_rate=0.01, max_depth=3, min_samples_leaf=1, min_samples_split=2, n_estimators=100;, score=1.000 total time=   0.1s\n",
      "[CV 4/5] END learning_rate=0.01, max_depth=3, min_samples_leaf=1, min_samples_split=2, n_estimators=100;, score=1.000 total time=   0.1s\n",
      "[CV 5/5] END learning_rate=0.1, max_depth=3, min_samples_leaf=1, min_samples_split=2, n_estimators=200;, score=1.000 total time=   0.1s\n",
      "[CV 1/5] END learning_rate=0.001, max_depth=3, min_samples_leaf=2, min_samples_split=4, n_estimators=200;, score=1.000 total time=   0.1s\n",
      "[CV 2/5] END learning_rate=0.001, max_depth=3, min_samples_leaf=2, min_samples_split=4, n_estimators=200;, score=1.000 total time=   0.1s\n",
      "[CV 3/5] END learning_rate=0.001, max_depth=3, min_samples_leaf=2, min_samples_split=4, n_estimators=200;, score=1.000 total time=   0.1s\n",
      "[CV 3/5] END learning_rate=0.1, max_depth=3, min_samples_leaf=2, min_samples_split=6, n_estimators=100;, score=1.000 total time=   0.1s\n",
      "[CV 4/5] END learning_rate=0.1, max_depth=3, min_samples_leaf=2, min_samples_split=6, n_estimators=100;, score=1.000 total time=   0.0s\n",
      "[CV 5/5] END learning_rate=0.1, max_depth=3, min_samples_leaf=2, min_samples_split=6, n_estimators=100;, score=1.000 total time=   0.0s\n",
      "[CV 1/5] END learning_rate=0.01, max_depth=7, min_samples_leaf=1, min_samples_split=2, n_estimators=100;, score=1.000 total time=   0.1s\n",
      "[CV 4/5] END learning_rate=0.01, max_depth=5, min_samples_leaf=1, min_samples_split=8, n_estimators=200;, score=1.000 total time=   0.1s\n",
      "[CV 5/5] END learning_rate=0.01, max_depth=5, min_samples_leaf=1, min_samples_split=8, n_estimators=200;, score=1.000 total time=   0.1s\n",
      "[CV 1/5] END learning_rate=0.001, max_depth=9, min_samples_leaf=4, min_samples_split=2, n_estimators=100;, score=1.000 total time=   0.1s\n",
      "[CV 2/5] END learning_rate=0.001, max_depth=9, min_samples_leaf=4, min_samples_split=2, n_estimators=100;, score=1.000 total time=   0.1s\n",
      "[CV 1/5] END learning_rate=0.001, max_depth=3, min_samples_leaf=6, min_samples_split=6, n_estimators=200;, score=1.000 total time=   0.1s\n",
      "[CV 2/5] END learning_rate=0.001, max_depth=3, min_samples_leaf=6, min_samples_split=6, n_estimators=200;, score=1.000 total time=   0.1s\n",
      "[CV 3/5] END learning_rate=0.001, max_depth=3, min_samples_leaf=6, min_samples_split=6, n_estimators=200;, score=1.000 total time=   0.1s\n",
      "[CV 4/5] END learning_rate=0.001, max_depth=3, min_samples_leaf=6, min_samples_split=6, n_estimators=200;, score=1.000 total time=   0.1s\n",
      "[CV 3/5] END learning_rate=0.01, max_depth=7, min_samples_leaf=6, min_samples_split=8, n_estimators=100;, score=1.000 total time=   0.1s\n",
      "[CV 4/5] END learning_rate=0.01, max_depth=7, min_samples_leaf=6, min_samples_split=8, n_estimators=100;, score=1.000 total time=   0.1s\n",
      "[CV 5/5] END learning_rate=0.01, max_depth=7, min_samples_leaf=6, min_samples_split=8, n_estimators=100;, score=1.000 total time=   0.1s\n",
      "[CV 1/5] END learning_rate=0.01, max_depth=7, min_samples_leaf=1, min_samples_split=8, n_estimators=100;, score=1.000 total time=   0.1s\n",
      "[CV 4/5] END learning_rate=0.1, max_depth=9, min_samples_leaf=1, min_samples_split=4, n_estimators=100;, score=1.000 total time=   0.1s\n",
      "[CV 5/5] END learning_rate=0.1, max_depth=9, min_samples_leaf=1, min_samples_split=4, n_estimators=100;, score=1.000 total time=   0.0s\n",
      "[CV 1/5] END learning_rate=0.001, max_depth=9, min_samples_leaf=1, min_samples_split=2, n_estimators=50;, score=1.000 total time=   0.0s\n",
      "[CV 2/5] END learning_rate=0.001, max_depth=9, min_samples_leaf=1, min_samples_split=2, n_estimators=50;, score=1.000 total time=   0.0s\n",
      "[CV 5/5] END learning_rate=0.2, max_depth=9, min_samples_leaf=6, min_samples_split=8, n_estimators=100;, score=1.000 total time=   0.0s\n",
      "[CV 1/5] END learning_rate=0.3, max_depth=9, min_samples_leaf=4, min_samples_split=8, n_estimators=100;, score=1.000 total time=   0.0s\n",
      "[CV 2/5] END learning_rate=0.3, max_depth=9, min_samples_leaf=4, min_samples_split=8, n_estimators=100;, score=1.000 total time=   0.0s\n",
      "[CV 3/5] END learning_rate=0.3, max_depth=9, min_samples_leaf=4, min_samples_split=8, n_estimators=100;, score=1.000 total time=   0.0s\n",
      "[CV 2/5] END learning_rate=0.2, max_depth=7, min_samples_leaf=4, min_samples_split=6, n_estimators=50;, score=1.000 total time=   0.0s\n",
      "[CV 3/5] END learning_rate=0.2, max_depth=7, min_samples_leaf=4, min_samples_split=6, n_estimators=50;, score=1.000 total time=   0.0s\n",
      "[CV 4/5] END learning_rate=0.2, max_depth=7, min_samples_leaf=4, min_samples_split=6, n_estimators=50;, score=1.000 total time=   0.0s\n",
      "[CV 5/5] END learning_rate=0.2, max_depth=7, min_samples_leaf=4, min_samples_split=6, n_estimators=50;, score=1.000 total time=   0.0s\n",
      "[CV 4/5] END learning_rate=0.1, max_depth=9, min_samples_leaf=6, min_samples_split=4, n_estimators=50;, score=1.000 total time=   0.0s\n",
      "[CV 5/5] END learning_rate=0.1, max_depth=9, min_samples_leaf=6, min_samples_split=4, n_estimators=50;, score=1.000 total time=   0.0s\n",
      "[CV 1/5] END learning_rate=0.2, max_depth=3, min_samples_leaf=4, min_samples_split=2, n_estimators=200;, score=1.000 total time=   0.1s\n",
      "[CV 2/5] END learning_rate=0.2, max_depth=3, min_samples_leaf=4, min_samples_split=2, n_estimators=200;, score=1.000 total time=   0.1s\n",
      "[CV 1/5] END learning_rate=0.3, max_depth=7, min_samples_leaf=1, min_samples_split=2, n_estimators=50;, score=1.000 total time=   0.0s\n",
      "[CV 2/5] END learning_rate=0.3, max_depth=7, min_samples_leaf=1, min_samples_split=2, n_estimators=50;, score=1.000 total time=   0.0s\n",
      "[CV 3/5] END learning_rate=0.3, max_depth=7, min_samples_leaf=1, min_samples_split=2, n_estimators=50;, score=1.000 total time=   0.0s\n",
      "[CV 4/5] END learning_rate=0.3, max_depth=7, min_samples_leaf=1, min_samples_split=2, n_estimators=50;, score=1.000 total time=   0.0s\n",
      "[CV 4/5] END learning_rate=0.1, max_depth=3, min_samples_leaf=6, min_samples_split=6, n_estimators=50;, score=1.000 total time=   0.0s\n",
      "[CV 5/5] END learning_rate=0.1, max_depth=3, min_samples_leaf=6, min_samples_split=6, n_estimators=50;, score=1.000 total time=   0.0s\n",
      "[CV 1/5] END learning_rate=0.01, max_depth=3, min_samples_leaf=2, min_samples_split=8, n_estimators=100;, score=1.000 total time=   0.0s\n",
      "[CV 2/5] END learning_rate=0.01, max_depth=3, min_samples_leaf=2, min_samples_split=8, n_estimators=100;, score=1.000 total time=   0.1s\n",
      "[CV 5/5] END learning_rate=0.01, max_depth=3, min_samples_leaf=2, min_samples_split=2, n_estimators=200;, score=1.000 total time=   0.1s\n",
      "[CV 2/5] END learning_rate=0.1, max_depth=3, min_samples_leaf=4, min_samples_split=4, n_estimators=50;, score=1.000 total time=   0.0s\n",
      "[CV 1/5] END learning_rate=0.1, max_depth=5, min_samples_leaf=1, min_samples_split=8, n_estimators=100;, score=1.000 total time=   0.0s\n",
      "[CV 4/5] END learning_rate=0.1, max_depth=5, min_samples_leaf=1, min_samples_split=8, n_estimators=100;, score=1.000 total time=   0.1s\n",
      "[CV 1/5] END learning_rate=0.001, max_depth=5, min_samples_leaf=1, min_samples_split=4, n_estimators=100;, score=1.000 total time=   0.1s\n",
      "[CV 5/5] END learning_rate=0.001, max_depth=5, min_samples_leaf=1, min_samples_split=4, n_estimators=100;, score=1.000 total time=   0.1s\n",
      "[CV 4/5] END learning_rate=0.1, max_depth=5, min_samples_leaf=2, min_samples_split=4, n_estimators=50;, score=1.000 total time=   0.0s\n",
      "[CV 5/5] END learning_rate=0.1, max_depth=5, min_samples_leaf=2, min_samples_split=4, n_estimators=50;, score=1.000 total time=   0.0s\n",
      "[CV 2/5] END learning_rate=0.2, max_depth=9, min_samples_leaf=1, min_samples_split=6, n_estimators=100;, score=1.000 total time=   0.1s\n",
      "[CV 3/5] END learning_rate=0.2, max_depth=9, min_samples_leaf=1, min_samples_split=6, n_estimators=100;, score=1.000 total time=   0.0s\n",
      "[CV 4/5] END learning_rate=0.1, max_depth=7, min_samples_leaf=2, min_samples_split=4, n_estimators=50;, score=1.000 total time=   0.0s\n",
      "[CV 5/5] END learning_rate=0.1, max_depth=7, min_samples_leaf=2, min_samples_split=4, n_estimators=50;, score=1.000 total time=   0.0s\n",
      "[CV 1/5] END learning_rate=0.2, max_depth=7, min_samples_leaf=1, min_samples_split=8, n_estimators=100;, score=1.000 total time=   0.0s\n",
      "[CV 2/5] END learning_rate=0.2, max_depth=7, min_samples_leaf=1, min_samples_split=8, n_estimators=100;, score=1.000 total time=   0.0s\n",
      "[CV 1/5] END learning_rate=0.1, max_depth=3, min_samples_leaf=1, min_samples_split=2, n_estimators=200;, score=1.000 total time=   0.1s\n",
      "[CV 2/5] END learning_rate=0.1, max_depth=3, min_samples_leaf=1, min_samples_split=2, n_estimators=200;, score=1.000 total time=   0.1s\n",
      "[CV 3/5] END learning_rate=0.1, max_depth=3, min_samples_leaf=1, min_samples_split=2, n_estimators=200;, score=1.000 total time=   0.1s\n",
      "[CV 4/5] END learning_rate=0.1, max_depth=3, min_samples_leaf=1, min_samples_split=2, n_estimators=200;, score=1.000 total time=   0.1s\n",
      "[CV 2/5] END learning_rate=0.2, max_depth=9, min_samples_leaf=2, min_samples_split=6, n_estimators=50;, score=1.000 total time=   0.0s\n",
      "[CV 3/5] END learning_rate=0.2, max_depth=9, min_samples_leaf=2, min_samples_split=6, n_estimators=50;, score=1.000 total time=   0.0s\n",
      "[CV 4/5] END learning_rate=0.2, max_depth=9, min_samples_leaf=2, min_samples_split=6, n_estimators=50;, score=1.000 total time=   0.0s\n",
      "[CV 5/5] END learning_rate=0.2, max_depth=9, min_samples_leaf=2, min_samples_split=6, n_estimators=50;, score=1.000 total time=   0.0s\n",
      "[CV 4/5] END learning_rate=0.2, max_depth=7, min_samples_leaf=2, min_samples_split=4, n_estimators=100;, score=1.000 total time=   0.0s\n",
      "[CV 5/5] END learning_rate=0.2, max_depth=7, min_samples_leaf=2, min_samples_split=4, n_estimators=100;, score=1.000 total time=   0.1s\n",
      "[CV 1/5] END learning_rate=0.1, max_depth=3, min_samples_leaf=2, min_samples_split=6, n_estimators=100;, score=1.000 total time=   0.0s\n",
      "[CV 2/5] END learning_rate=0.1, max_depth=3, min_samples_leaf=2, min_samples_split=6, n_estimators=100;, score=1.000 total time=   0.0s\n",
      "[CV 5/5] END learning_rate=0.1, max_depth=9, min_samples_leaf=6, min_samples_split=2, n_estimators=200;, score=1.000 total time=   0.1s\n",
      "[CV 1/5] END learning_rate=0.01, max_depth=5, min_samples_leaf=1, min_samples_split=8, n_estimators=200;, score=1.000 total time=   0.1s\n",
      "[CV 2/5] END learning_rate=0.01, max_depth=5, min_samples_leaf=1, min_samples_split=8, n_estimators=200;, score=1.000 total time=   0.2s\n",
      "[CV 3/5] END learning_rate=0.01, max_depth=5, min_samples_leaf=1, min_samples_split=8, n_estimators=200;, score=1.000 total time=   0.1s\n",
      "[CV 4/5] END learning_rate=0.01, max_depth=3, min_samples_leaf=4, min_samples_split=6, n_estimators=200;, score=1.000 total time=   0.1s\n",
      "[CV 5/5] END learning_rate=0.01, max_depth=3, min_samples_leaf=4, min_samples_split=6, n_estimators=200;, score=1.000 total time=   0.1s\n",
      "[CV 1/5] END learning_rate=0.001, max_depth=9, min_samples_leaf=6, min_samples_split=2, n_estimators=50;, score=1.000 total time=   0.0s\n",
      "[CV 2/5] END learning_rate=0.001, max_depth=9, min_samples_leaf=6, min_samples_split=2, n_estimators=50;, score=1.000 total time=   0.0s\n",
      "[CV 1/5] END learning_rate=0.3, max_depth=3, min_samples_leaf=2, min_samples_split=8, n_estimators=100;, score=1.000 total time=   0.0s\n",
      "[CV 2/5] END learning_rate=0.3, max_depth=3, min_samples_leaf=2, min_samples_split=8, n_estimators=100;, score=1.000 total time=   0.0s\n",
      "[CV 3/5] END learning_rate=0.3, max_depth=3, min_samples_leaf=2, min_samples_split=8, n_estimators=100;, score=1.000 total time=   0.0s\n",
      "[CV 4/5] END learning_rate=0.3, max_depth=3, min_samples_leaf=2, min_samples_split=8, n_estimators=100;, score=1.000 total time=   0.0s\n",
      "[CV 2/5] END learning_rate=0.01, max_depth=7, min_samples_leaf=1, min_samples_split=8, n_estimators=100;, score=1.000 total time=   0.1s\n",
      "[CV 3/5] END learning_rate=0.01, max_depth=7, min_samples_leaf=1, min_samples_split=8, n_estimators=100;, score=1.000 total time=   0.1s\n",
      "[CV 4/5] END learning_rate=0.01, max_depth=7, min_samples_leaf=1, min_samples_split=8, n_estimators=100;, score=1.000 total time=   0.1s\n",
      "[CV 5/5] END learning_rate=0.01, max_depth=7, min_samples_leaf=1, min_samples_split=8, n_estimators=100;, score=1.000 total time=   0.1s\n",
      "[CV 3/5] END learning_rate=0.001, max_depth=9, min_samples_leaf=1, min_samples_split=2, n_estimators=50;, score=1.000 total time=   0.0s\n",
      "[CV 4/5] END learning_rate=0.001, max_depth=9, min_samples_leaf=1, min_samples_split=2, n_estimators=50;, score=1.000 total time=   0.0s\n",
      "[CV 5/5] END learning_rate=0.001, max_depth=9, min_samples_leaf=1, min_samples_split=2, n_estimators=50;, score=1.000 total time=   0.0s\n",
      "[CV 1/5] END learning_rate=0.3, max_depth=5, min_samples_leaf=2, min_samples_split=2, n_estimators=100;, score=1.000 total time=   0.0s\n",
      "[CV 1/5] END learning_rate=0.2, max_depth=9, min_samples_leaf=6, min_samples_split=8, n_estimators=100;, score=1.000 total time=   0.0s\n",
      "[CV 2/5] END learning_rate=0.2, max_depth=9, min_samples_leaf=6, min_samples_split=8, n_estimators=100;, score=1.000 total time=   0.1s\n",
      "[CV 3/5] END learning_rate=0.2, max_depth=9, min_samples_leaf=6, min_samples_split=8, n_estimators=100;, score=1.000 total time=   0.0s\n",
      "[CV 4/5] END learning_rate=0.2, max_depth=9, min_samples_leaf=6, min_samples_split=8, n_estimators=100;, score=1.000 total time=   0.0s\n",
      "[CV 1/5] END learning_rate=0.01, max_depth=3, min_samples_leaf=1, min_samples_split=6, n_estimators=200;, score=1.000 total time=   0.1s\n",
      "[CV 2/5] END learning_rate=0.01, max_depth=3, min_samples_leaf=1, min_samples_split=6, n_estimators=200;, score=1.000 total time=   0.1s\n",
      "[CV 3/5] END learning_rate=0.01, max_depth=3, min_samples_leaf=1, min_samples_split=6, n_estimators=200;, score=1.000 total time=   0.1s\n",
      "[CV 4/5] END learning_rate=0.01, max_depth=3, min_samples_leaf=1, min_samples_split=6, n_estimators=200;, score=1.000 total time=   0.1s\n",
      "[CV 3/5] END learning_rate=0.01, max_depth=3, min_samples_leaf=2, min_samples_split=8, n_estimators=100;, score=1.000 total time=   0.1s\n",
      "[CV 4/5] END learning_rate=0.01, max_depth=3, min_samples_leaf=2, min_samples_split=8, n_estimators=100;, score=1.000 total time=   0.1s\n",
      "[CV 5/5] END learning_rate=0.01, max_depth=3, min_samples_leaf=2, min_samples_split=8, n_estimators=100;, score=1.000 total time=   0.1s\n",
      "[CV 1/5] END learning_rate=0.2, max_depth=9, min_samples_leaf=4, min_samples_split=2, n_estimators=50;, score=1.000 total time=   0.0s\n",
      "[CV 3/5] END learning_rate=0.2, max_depth=3, min_samples_leaf=1, min_samples_split=6, n_estimators=200;, score=1.000 total time=   0.1s\n",
      "[CV 4/5] END learning_rate=0.2, max_depth=3, min_samples_leaf=1, min_samples_split=6, n_estimators=200;, score=1.000 total time=   0.1s\n",
      "[CV 5/5] END learning_rate=0.2, max_depth=3, min_samples_leaf=1, min_samples_split=6, n_estimators=200;, score=1.000 total time=   0.1s\n",
      "[CV 1/5] END learning_rate=0.001, max_depth=5, min_samples_leaf=6, min_samples_split=6, n_estimators=200;, score=1.000 total time=   0.1s\n",
      "[CV 2/5] END learning_rate=0.001, max_depth=5, min_samples_leaf=6, min_samples_split=6, n_estimators=200;, score=1.000 total time=   0.1s\n",
      "[CV 3/5] END learning_rate=0.001, max_depth=5, min_samples_leaf=6, min_samples_split=6, n_estimators=200;, score=1.000 total time=   0.1s\n",
      "[CV 4/5] END learning_rate=0.001, max_depth=3, min_samples_leaf=2, min_samples_split=2, n_estimators=200;, score=1.000 total time=   0.1s\n",
      "[CV 5/5] END learning_rate=0.001, max_depth=3, min_samples_leaf=2, min_samples_split=2, n_estimators=200;, score=1.000 total time=   0.1s\n",
      "[CV 1/5] END learning_rate=0.3, max_depth=7, min_samples_leaf=4, min_samples_split=4, n_estimators=50;, score=1.000 total time=   0.0s\n",
      "[CV 2/5] END learning_rate=0.3, max_depth=7, min_samples_leaf=4, min_samples_split=4, n_estimators=50;, score=1.000 total time=   0.0s\n",
      "[CV 1/5] END learning_rate=0.1, max_depth=7, min_samples_leaf=4, min_samples_split=6, n_estimators=50;, score=1.000 total time=   0.0s\n",
      "[CV 2/5] END learning_rate=0.1, max_depth=7, min_samples_leaf=4, min_samples_split=6, n_estimators=50;, score=1.000 total time=   0.0s\n",
      "[CV 3/5] END learning_rate=0.1, max_depth=7, min_samples_leaf=4, min_samples_split=6, n_estimators=50;, score=1.000 total time=   0.0s\n",
      "[CV 4/5] END learning_rate=0.1, max_depth=7, min_samples_leaf=4, min_samples_split=6, n_estimators=50;, score=1.000 total time=   0.0s\n",
      "[CV 3/5] END learning_rate=0.3, max_depth=9, min_samples_leaf=6, min_samples_split=8, n_estimators=50;, score=1.000 total time=   0.0s\n",
      "[CV 4/5] END learning_rate=0.3, max_depth=9, min_samples_leaf=6, min_samples_split=8, n_estimators=50;, score=1.000 total time=   0.0s\n",
      "[CV 5/5] END learning_rate=0.3, max_depth=9, min_samples_leaf=6, min_samples_split=8, n_estimators=50;, score=1.000 total time=   0.0s\n",
      "[CV 1/5] END learning_rate=0.01, max_depth=3, min_samples_leaf=2, min_samples_split=8, n_estimators=50;, score=1.000 total time=   0.0s\n",
      "[CV 1/5] END learning_rate=0.1, max_depth=3, min_samples_leaf=2, min_samples_split=6, n_estimators=50;, score=1.000 total time=   0.0s\n",
      "[CV 2/5] END learning_rate=0.1, max_depth=3, min_samples_leaf=2, min_samples_split=6, n_estimators=50;, score=1.000 total time=   0.0s\n",
      "[CV 3/5] END learning_rate=0.1, max_depth=3, min_samples_leaf=2, min_samples_split=6, n_estimators=50;, score=1.000 total time=   0.0s\n",
      "[CV 4/5] END learning_rate=0.1, max_depth=3, min_samples_leaf=2, min_samples_split=6, n_estimators=50;, score=1.000 total time=   0.0s\n",
      "[CV 4/5] END learning_rate=0.3, max_depth=9, min_samples_leaf=1, min_samples_split=8, n_estimators=50;, score=1.000 total time=   0.0s\n",
      "[CV 5/5] END learning_rate=0.3, max_depth=9, min_samples_leaf=1, min_samples_split=8, n_estimators=50;, score=1.000 total time=   0.0s\n",
      "[CV 1/5] END learning_rate=0.01, max_depth=3, min_samples_leaf=2, min_samples_split=6, n_estimators=100;, score=1.000 total time=   0.1s\n",
      "[CV 2/5] END learning_rate=0.01, max_depth=3, min_samples_leaf=2, min_samples_split=6, n_estimators=100;, score=1.000 total time=   0.1s\n",
      "[CV 5/5] END learning_rate=0.3, max_depth=3, min_samples_leaf=1, min_samples_split=2, n_estimators=200;, score=1.000 total time=   0.1s\n",
      "[CV 1/5] END learning_rate=0.001, max_depth=7, min_samples_leaf=6, min_samples_split=6, n_estimators=50;, score=1.000 total time=   0.0s\n",
      "[CV 2/5] END learning_rate=0.001, max_depth=7, min_samples_leaf=6, min_samples_split=6, n_estimators=50;, score=1.000 total time=   0.0s\n",
      "[CV 3/5] END learning_rate=0.001, max_depth=7, min_samples_leaf=6, min_samples_split=6, n_estimators=50;, score=1.000 total time=   0.0s\n",
      "[CV 2/5] END learning_rate=0.2, max_depth=5, min_samples_leaf=4, min_samples_split=2, n_estimators=50;, score=1.000 total time=   0.0s\n",
      "[CV 3/5] END learning_rate=0.2, max_depth=5, min_samples_leaf=4, min_samples_split=2, n_estimators=50;, score=1.000 total time=   0.0s\n",
      "[CV 4/5] END learning_rate=0.2, max_depth=5, min_samples_leaf=4, min_samples_split=2, n_estimators=50;, score=1.000 total time=   0.0s\n",
      "[CV 5/5] END learning_rate=0.2, max_depth=5, min_samples_leaf=4, min_samples_split=2, n_estimators=50;, score=1.000 total time=   0.0s\n",
      "[CV 4/5] END learning_rate=0.001, max_depth=5, min_samples_leaf=1, min_samples_split=4, n_estimators=50;, score=1.000 total time=   0.0s\n",
      "[CV 5/5] END learning_rate=0.001, max_depth=5, min_samples_leaf=1, min_samples_split=4, n_estimators=50;, score=1.000 total time=   0.0s\n",
      "[CV 1/5] END learning_rate=0.1, max_depth=5, min_samples_leaf=2, min_samples_split=6, n_estimators=50;, score=1.000 total time=   0.0s\n",
      "[CV 2/5] END learning_rate=0.1, max_depth=5, min_samples_leaf=2, min_samples_split=6, n_estimators=50;, score=1.000 total time=   0.0s\n",
      "[CV 5/5] END learning_rate=0.001, max_depth=5, min_samples_leaf=2, min_samples_split=2, n_estimators=100;, score=1.000 total time=   0.1s\n",
      "[CV 1/5] END learning_rate=0.001, max_depth=7, min_samples_leaf=1, min_samples_split=6, n_estimators=50;, score=1.000 total time=   0.0s\n",
      "[CV 2/5] END learning_rate=0.001, max_depth=7, min_samples_leaf=1, min_samples_split=6, n_estimators=50;, score=1.000 total time=   0.0s\n",
      "[CV 3/5] END learning_rate=0.001, max_depth=7, min_samples_leaf=1, min_samples_split=6, n_estimators=50;, score=1.000 total time=   0.0s\n",
      "[CV 2/5] END learning_rate=0.001, max_depth=9, min_samples_leaf=4, min_samples_split=6, n_estimators=50;, score=1.000 total time=   0.0s\n",
      "[CV 3/5] END learning_rate=0.001, max_depth=9, min_samples_leaf=4, min_samples_split=6, n_estimators=50;, score=1.000 total time=   0.0s\n",
      "[CV 4/5] END learning_rate=0.001, max_depth=9, min_samples_leaf=4, min_samples_split=6, n_estimators=50;, score=1.000 total time=   0.0s\n",
      "[CV 5/5] END learning_rate=0.001, max_depth=9, min_samples_leaf=4, min_samples_split=6, n_estimators=50;, score=1.000 total time=   0.0s\n",
      "[CV 4/5] END learning_rate=0.001, max_depth=5, min_samples_leaf=6, min_samples_split=8, n_estimators=200;, score=1.000 total time=   0.1s\n",
      "[CV 5/5] END learning_rate=0.001, max_depth=5, min_samples_leaf=6, min_samples_split=8, n_estimators=200;, score=1.000 total time=   0.1s\n",
      "[CV 1/5] END learning_rate=0.2, max_depth=9, min_samples_leaf=2, min_samples_split=4, n_estimators=50;, score=1.000 total time=   0.0s\n",
      "[CV 2/5] END learning_rate=0.2, max_depth=9, min_samples_leaf=2, min_samples_split=4, n_estimators=50;, score=1.000 total time=   0.0s\n",
      "[CV 4/5] END learning_rate=0.2, max_depth=9, min_samples_leaf=2, min_samples_split=6, n_estimators=100;, score=1.000 total time=   0.0s\n",
      "[CV 5/5] END learning_rate=0.2, max_depth=9, min_samples_leaf=2, min_samples_split=6, n_estimators=100;, score=1.000 total time=   0.0s\n",
      "[CV 1/5] END learning_rate=0.001, max_depth=9, min_samples_leaf=2, min_samples_split=8, n_estimators=50;, score=1.000 total time=   0.0s\n",
      "[CV 2/5] END learning_rate=0.001, max_depth=9, min_samples_leaf=2, min_samples_split=8, n_estimators=50;, score=1.000 total time=   0.0s\n",
      "[CV 2/5] END learning_rate=0.01, max_depth=9, min_samples_leaf=2, min_samples_split=6, n_estimators=50;, score=1.000 total time=   0.0s\n",
      "[CV 3/5] END learning_rate=0.01, max_depth=9, min_samples_leaf=2, min_samples_split=6, n_estimators=50;, score=1.000 total time=   0.0s\n",
      "[CV 4/5] END learning_rate=0.01, max_depth=9, min_samples_leaf=2, min_samples_split=6, n_estimators=50;, score=1.000 total time=   0.0s\n",
      "[CV 5/5] END learning_rate=0.01, max_depth=9, min_samples_leaf=2, min_samples_split=6, n_estimators=50;, score=1.000 total time=   0.0s\n",
      "[CV 3/5] END learning_rate=0.1, max_depth=9, min_samples_leaf=2, min_samples_split=8, n_estimators=100;, score=1.000 total time=   0.0s\n",
      "[CV 4/5] END learning_rate=0.1, max_depth=9, min_samples_leaf=2, min_samples_split=8, n_estimators=100;, score=1.000 total time=   0.0s\n",
      "[CV 5/5] END learning_rate=0.1, max_depth=9, min_samples_leaf=2, min_samples_split=8, n_estimators=100;, score=1.000 total time=   0.0s\n",
      "[CV 1/5] END learning_rate=0.2, max_depth=9, min_samples_leaf=1, min_samples_split=6, n_estimators=200;, score=1.000 total time=   0.1s\n",
      "[CV 4/5] END learning_rate=0.01, max_depth=5, min_samples_leaf=2, min_samples_split=2, n_estimators=200;, score=1.000 total time=   0.1s\n",
      "[CV 4/5] END learning_rate=0.001, max_depth=9, min_samples_leaf=4, min_samples_split=6, n_estimators=100;, score=1.000 total time=   0.1s\n",
      "[CV 5/5] END learning_rate=0.001, max_depth=9, min_samples_leaf=4, min_samples_split=6, n_estimators=100;, score=1.000 total time=   0.1s\n",
      "[CV 2/5] END learning_rate=0.2, max_depth=9, min_samples_leaf=4, min_samples_split=2, n_estimators=50;, score=1.000 total time=   0.0s\n",
      "[CV 3/5] END learning_rate=0.2, max_depth=9, min_samples_leaf=4, min_samples_split=2, n_estimators=50;, score=1.000 total time=   0.0s\n",
      "[CV 4/5] END learning_rate=0.2, max_depth=9, min_samples_leaf=4, min_samples_split=2, n_estimators=50;, score=1.000 total time=   0.0s\n",
      "[CV 5/5] END learning_rate=0.2, max_depth=9, min_samples_leaf=4, min_samples_split=2, n_estimators=50;, score=1.000 total time=   0.0s\n",
      "[CV 4/5] END learning_rate=0.001, max_depth=5, min_samples_leaf=6, min_samples_split=6, n_estimators=200;, score=1.000 total time=   0.1s\n",
      "[CV 5/5] END learning_rate=0.001, max_depth=5, min_samples_leaf=6, min_samples_split=6, n_estimators=200;, score=1.000 total time=   0.1s\n",
      "[CV 1/5] END learning_rate=0.2, max_depth=3, min_samples_leaf=1, min_samples_split=6, n_estimators=200;, score=1.000 total time=   0.1s\n",
      "[CV 2/5] END learning_rate=0.2, max_depth=3, min_samples_leaf=1, min_samples_split=6, n_estimators=200;, score=1.000 total time=   0.1s\n",
      "[CV 5/5] END learning_rate=0.01, max_depth=3, min_samples_leaf=1, min_samples_split=2, n_estimators=200;, score=1.000 total time=   0.1s\n",
      "[CV 1/5] END learning_rate=0.001, max_depth=3, min_samples_leaf=2, min_samples_split=2, n_estimators=200;, score=1.000 total time=   0.1s\n",
      "[CV 2/5] END learning_rate=0.001, max_depth=3, min_samples_leaf=2, min_samples_split=2, n_estimators=200;, score=1.000 total time=   0.1s\n",
      "[CV 3/5] END learning_rate=0.001, max_depth=3, min_samples_leaf=2, min_samples_split=2, n_estimators=200;, score=1.000 total time=   0.1s\n",
      "[CV 2/5] END learning_rate=0.01, max_depth=3, min_samples_leaf=2, min_samples_split=8, n_estimators=50;, score=1.000 total time=   0.0s\n",
      "[CV 3/5] END learning_rate=0.01, max_depth=3, min_samples_leaf=2, min_samples_split=8, n_estimators=50;, score=1.000 total time=   0.0s\n",
      "[CV 4/5] END learning_rate=0.01, max_depth=3, min_samples_leaf=2, min_samples_split=8, n_estimators=50;, score=1.000 total time=   0.0s\n",
      "[CV 5/5] END learning_rate=0.01, max_depth=3, min_samples_leaf=2, min_samples_split=8, n_estimators=50;, score=1.000 total time=   0.0s\n",
      "[CV 5/5] END learning_rate=0.1, max_depth=3, min_samples_leaf=2, min_samples_split=6, n_estimators=50;, score=1.000 total time=   0.0s\n",
      "[CV 1/5] END learning_rate=0.3, max_depth=9, min_samples_leaf=1, min_samples_split=8, n_estimators=50;, score=1.000 total time=   0.0s\n",
      "[CV 2/5] END learning_rate=0.3, max_depth=9, min_samples_leaf=1, min_samples_split=8, n_estimators=50;, score=1.000 total time=   0.0s\n",
      "[CV 3/5] END learning_rate=0.3, max_depth=9, min_samples_leaf=1, min_samples_split=8, n_estimators=50;, score=1.000 total time=   0.0s\n",
      "[CV 2/5] END learning_rate=0.01, max_depth=9, min_samples_leaf=4, min_samples_split=8, n_estimators=200;, score=1.000 total time=   0.1s\n",
      "[CV 3/5] END learning_rate=0.01, max_depth=9, min_samples_leaf=4, min_samples_split=8, n_estimators=200;, score=1.000 total time=   0.1s\n",
      "[CV 4/5] END learning_rate=0.01, max_depth=9, min_samples_leaf=4, min_samples_split=8, n_estimators=200;, score=1.000 total time=   0.1s\n",
      "[CV 5/5] END learning_rate=0.01, max_depth=9, min_samples_leaf=4, min_samples_split=8, n_estimators=200;, score=1.000 total time=   0.1s\n",
      "[CV 3/5] END learning_rate=0.1, max_depth=5, min_samples_leaf=2, min_samples_split=6, n_estimators=50;, score=1.000 total time=   0.0s\n",
      "[CV 4/5] END learning_rate=0.1, max_depth=5, min_samples_leaf=2, min_samples_split=6, n_estimators=50;, score=1.000 total time=   0.0s\n",
      "[CV 5/5] END learning_rate=0.1, max_depth=5, min_samples_leaf=2, min_samples_split=6, n_estimators=50;, score=1.000 total time=   0.0s\n",
      "[CV 1/5] END learning_rate=0.3, max_depth=3, min_samples_leaf=4, min_samples_split=6, n_estimators=100;, score=1.000 total time=   0.0s\n",
      "[CV 4/5] END learning_rate=0.001, max_depth=7, min_samples_leaf=1, min_samples_split=6, n_estimators=50;, score=1.000 total time=   0.0s\n",
      "[CV 5/5] END learning_rate=0.001, max_depth=7, min_samples_leaf=1, min_samples_split=6, n_estimators=50;, score=1.000 total time=   0.0s\n",
      "[CV 1/5] END learning_rate=0.1, max_depth=5, min_samples_leaf=6, min_samples_split=2, n_estimators=100;, score=1.000 total time=   0.0s\n",
      "[CV 2/5] END learning_rate=0.1, max_depth=5, min_samples_leaf=6, min_samples_split=2, n_estimators=100;, score=1.000 total time=   0.0s\n",
      "[CV 1/5] END learning_rate=0.1, max_depth=3, min_samples_leaf=2, min_samples_split=4, n_estimators=100;, score=1.000 total time=   0.0s\n",
      "[CV 2/5] END learning_rate=0.1, max_depth=3, min_samples_leaf=2, min_samples_split=4, n_estimators=100;, score=1.000 total time=   0.1s\n",
      "[CV 3/5] END learning_rate=0.1, max_depth=3, min_samples_leaf=2, min_samples_split=4, n_estimators=100;, score=1.000 total time=   0.0s\n",
      "[CV 4/5] END learning_rate=0.1, max_depth=3, min_samples_leaf=2, min_samples_split=4, n_estimators=100;, score=1.000 total time=   0.1s\n",
      "[CV 2/5] END learning_rate=0.1, max_depth=5, min_samples_leaf=1, min_samples_split=6, n_estimators=100;, score=1.000 total time=   0.1s\n",
      "[CV 3/5] END learning_rate=0.1, max_depth=5, min_samples_leaf=1, min_samples_split=6, n_estimators=100;, score=1.000 total time=   0.0s\n",
      "[CV 4/5] END learning_rate=0.1, max_depth=5, min_samples_leaf=1, min_samples_split=6, n_estimators=100;, score=1.000 total time=   0.0s\n",
      "[CV 5/5] END learning_rate=0.1, max_depth=5, min_samples_leaf=1, min_samples_split=6, n_estimators=100;, score=1.000 total time=   0.1s\n",
      "[CV 5/5] END learning_rate=0.01, max_depth=5, min_samples_leaf=6, min_samples_split=4, n_estimators=200;, score=1.000 total time=   0.1s\n",
      "[CV 1/5] END learning_rate=0.2, max_depth=9, min_samples_leaf=2, min_samples_split=6, n_estimators=100;, score=1.000 total time=   0.0s\n",
      "[CV 2/5] END learning_rate=0.2, max_depth=9, min_samples_leaf=2, min_samples_split=6, n_estimators=100;, score=1.000 total time=   0.0s\n",
      "[CV 3/5] END learning_rate=0.2, max_depth=9, min_samples_leaf=2, min_samples_split=6, n_estimators=100;, score=1.000 total time=   0.0s\n",
      "[CV 5/5] END learning_rate=0.2, max_depth=7, min_samples_leaf=1, min_samples_split=6, n_estimators=100;, score=1.000 total time=   0.0s\n",
      "[CV 1/5] END learning_rate=0.01, max_depth=7, min_samples_leaf=1, min_samples_split=4, n_estimators=50;, score=1.000 total time=   0.0s\n",
      "[CV 2/5] END learning_rate=0.01, max_depth=7, min_samples_leaf=1, min_samples_split=4, n_estimators=50;, score=1.000 total time=   0.0s\n",
      "[CV 3/5] END learning_rate=0.01, max_depth=7, min_samples_leaf=1, min_samples_split=4, n_estimators=50;, score=1.000 total time=   0.0s\n",
      "[CV 2/5] END learning_rate=0.2, max_depth=9, min_samples_leaf=1, min_samples_split=6, n_estimators=200;, score=1.000 total time=   0.1s\n",
      "[CV 3/5] END learning_rate=0.2, max_depth=9, min_samples_leaf=1, min_samples_split=6, n_estimators=200;, score=1.000 total time=   0.1s\n",
      "[CV 4/5] END learning_rate=0.2, max_depth=9, min_samples_leaf=1, min_samples_split=6, n_estimators=200;, score=1.000 total time=   0.1s\n",
      "[CV 5/5] END learning_rate=0.2, max_depth=9, min_samples_leaf=1, min_samples_split=6, n_estimators=200;, score=1.000 total time=   0.1s\n",
      "[CV 2/5] END learning_rate=0.3, max_depth=9, min_samples_leaf=1, min_samples_split=6, n_estimators=100;, score=1.000 total time=   0.0s\n",
      "[CV 3/5] END learning_rate=0.3, max_depth=9, min_samples_leaf=1, min_samples_split=6, n_estimators=100;, score=1.000 total time=   0.0s\n",
      "[CV 4/5] END learning_rate=0.3, max_depth=9, min_samples_leaf=1, min_samples_split=6, n_estimators=100;, score=1.000 total time=   0.0s\n",
      "[CV 5/5] END learning_rate=0.3, max_depth=9, min_samples_leaf=1, min_samples_split=6, n_estimators=100;, score=1.000 total time=   0.0s\n",
      "[CV 5/5] END learning_rate=0.1, max_depth=9, min_samples_leaf=6, min_samples_split=4, n_estimators=100;, score=1.000 total time=   0.0s\n",
      "[CV 1/5] END learning_rate=0.1, max_depth=7, min_samples_leaf=4, min_samples_split=2, n_estimators=200;, score=1.000 total time=   0.1s\n",
      "[CV 3/5] END learning_rate=0.01, max_depth=3, min_samples_leaf=2, min_samples_split=2, n_estimators=200;, score=1.000 total time=   0.1s\n",
      "[CV 4/5] END learning_rate=0.01, max_depth=3, min_samples_leaf=2, min_samples_split=2, n_estimators=200;, score=1.000 total time=   0.1s\n",
      "[CV 2/5] END learning_rate=0.2, max_depth=9, min_samples_leaf=4, min_samples_split=4, n_estimators=200;, score=1.000 total time=   0.1s\n",
      "[CV 3/5] END learning_rate=0.2, max_depth=9, min_samples_leaf=4, min_samples_split=4, n_estimators=200;, score=1.000 total time=   0.1s\n",
      "[CV 4/5] END learning_rate=0.2, max_depth=9, min_samples_leaf=4, min_samples_split=4, n_estimators=200;, score=1.000 total time=   0.1s\n",
      "[CV 5/5] END learning_rate=0.2, max_depth=9, min_samples_leaf=4, min_samples_split=4, n_estimators=200;, score=1.000 total time=   0.1s\n",
      "[CV 3/5] END learning_rate=0.3, max_depth=7, min_samples_leaf=4, min_samples_split=4, n_estimators=50;, score=1.000 total time=   0.0s\n",
      "[CV 4/5] END learning_rate=0.3, max_depth=7, min_samples_leaf=4, min_samples_split=4, n_estimators=50;, score=1.000 total time=   0.0s\n",
      "[CV 5/5] END learning_rate=0.3, max_depth=7, min_samples_leaf=4, min_samples_split=4, n_estimators=50;, score=1.000 total time=   0.0s\n",
      "[CV 1/5] END learning_rate=0.001, max_depth=5, min_samples_leaf=2, min_samples_split=4, n_estimators=50;, score=1.000 total time=   0.0s\n",
      "[CV 2/5] END learning_rate=0.001, max_depth=5, min_samples_leaf=2, min_samples_split=4, n_estimators=50;, score=1.000 total time=   0.0s\n",
      "[CV 3/5] END learning_rate=0.001, max_depth=5, min_samples_leaf=2, min_samples_split=4, n_estimators=50;, score=1.000 total time=   0.0s\n",
      "[CV 4/5] END learning_rate=0.001, max_depth=5, min_samples_leaf=2, min_samples_split=4, n_estimators=50;, score=1.000 total time=   0.0s\n",
      "[CV 5/5] END learning_rate=0.001, max_depth=5, min_samples_leaf=2, min_samples_split=4, n_estimators=50;, score=1.000 total time=   0.0s\n",
      "[CV 4/5] END learning_rate=0.1, max_depth=3, min_samples_leaf=6, min_samples_split=4, n_estimators=200;, score=1.000 total time=   0.1s\n",
      "[CV 5/5] END learning_rate=0.1, max_depth=3, min_samples_leaf=6, min_samples_split=4, n_estimators=200;, score=1.000 total time=   0.1s\n",
      "[CV 1/5] END learning_rate=0.3, max_depth=9, min_samples_leaf=6, min_samples_split=8, n_estimators=50;, score=1.000 total time=   0.0s\n",
      "[CV 2/5] END learning_rate=0.3, max_depth=9, min_samples_leaf=6, min_samples_split=8, n_estimators=50;, score=1.000 total time=   0.0s\n",
      "[CV 3/5] END learning_rate=0.01, max_depth=3, min_samples_leaf=2, min_samples_split=6, n_estimators=100;, score=1.000 total time=   0.1s\n",
      "[CV 4/5] END learning_rate=0.01, max_depth=3, min_samples_leaf=2, min_samples_split=6, n_estimators=100;, score=1.000 total time=   0.1s\n",
      "[CV 5/5] END learning_rate=0.01, max_depth=3, min_samples_leaf=2, min_samples_split=6, n_estimators=100;, score=1.000 total time=   0.1s\n",
      "[CV 1/5] END learning_rate=0.01, max_depth=9, min_samples_leaf=4, min_samples_split=8, n_estimators=200;, score=1.000 total time=   0.1s\n",
      "[CV 3/5] END learning_rate=0.01, max_depth=9, min_samples_leaf=6, min_samples_split=6, n_estimators=50;, score=1.000 total time=   0.0s\n",
      "[CV 4/5] END learning_rate=0.01, max_depth=9, min_samples_leaf=6, min_samples_split=6, n_estimators=50;, score=1.000 total time=   0.0s\n",
      "[CV 5/5] END learning_rate=0.01, max_depth=9, min_samples_leaf=6, min_samples_split=6, n_estimators=50;, score=1.000 total time=   0.0s\n",
      "[CV 1/5] END learning_rate=0.2, max_depth=5, min_samples_leaf=4, min_samples_split=2, n_estimators=50;, score=1.000 total time=   0.0s\n",
      "[CV 1/5] END learning_rate=0.3, max_depth=7, min_samples_leaf=2, min_samples_split=2, n_estimators=50;, score=1.000 total time=   0.0s\n",
      "[CV 2/5] END learning_rate=0.3, max_depth=7, min_samples_leaf=2, min_samples_split=2, n_estimators=50;, score=1.000 total time=   0.0s\n",
      "[CV 3/5] END learning_rate=0.3, max_depth=7, min_samples_leaf=2, min_samples_split=2, n_estimators=50;, score=1.000 total time=   0.0s\n",
      "[CV 4/5] END learning_rate=0.3, max_depth=7, min_samples_leaf=2, min_samples_split=2, n_estimators=50;, score=1.000 total time=   0.0s\n",
      "[CV 2/5] END learning_rate=0.3, max_depth=3, min_samples_leaf=4, min_samples_split=6, n_estimators=100;, score=1.000 total time=   0.0s\n",
      "[CV 3/5] END learning_rate=0.3, max_depth=3, min_samples_leaf=4, min_samples_split=6, n_estimators=100;, score=1.000 total time=   0.0s\n",
      "[CV 4/5] END learning_rate=0.3, max_depth=3, min_samples_leaf=4, min_samples_split=6, n_estimators=100;, score=1.000 total time=   0.1s\n",
      "[CV 5/5] END learning_rate=0.3, max_depth=3, min_samples_leaf=4, min_samples_split=6, n_estimators=100;, score=1.000 total time=   0.0s\n",
      "[CV 3/5] END learning_rate=0.1, max_depth=5, min_samples_leaf=6, min_samples_split=2, n_estimators=100;, score=1.000 total time=   0.0s\n",
      "[CV 4/5] END learning_rate=0.1, max_depth=5, min_samples_leaf=6, min_samples_split=2, n_estimators=100;, score=1.000 total time=   0.0s\n",
      "[CV 5/5] END learning_rate=0.1, max_depth=5, min_samples_leaf=6, min_samples_split=2, n_estimators=100;, score=1.000 total time=   0.1s\n",
      "[CV 1/5] END learning_rate=0.001, max_depth=9, min_samples_leaf=4, min_samples_split=6, n_estimators=50;, score=1.000 total time=   0.0s\n",
      "[CV 3/5] END learning_rate=0.2, max_depth=9, min_samples_leaf=2, min_samples_split=4, n_estimators=50;, score=1.000 total time=   0.0s\n",
      "[CV 4/5] END learning_rate=0.2, max_depth=9, min_samples_leaf=2, min_samples_split=4, n_estimators=50;, score=1.000 total time=   0.0s\n",
      "[CV 5/5] END learning_rate=0.2, max_depth=9, min_samples_leaf=2, min_samples_split=4, n_estimators=50;, score=1.000 total time=   0.0s\n",
      "[CV 1/5] END learning_rate=0.1, max_depth=5, min_samples_leaf=1, min_samples_split=6, n_estimators=100;, score=1.000 total time=   0.0s\n",
      "[CV 1/5] END learning_rate=0.01, max_depth=5, min_samples_leaf=6, min_samples_split=4, n_estimators=200;, score=1.000 total time=   0.1s\n",
      "[CV 2/5] END learning_rate=0.01, max_depth=5, min_samples_leaf=6, min_samples_split=4, n_estimators=200;, score=1.000 total time=   0.1s\n",
      "[CV 3/5] END learning_rate=0.01, max_depth=5, min_samples_leaf=6, min_samples_split=4, n_estimators=200;, score=1.000 total time=   0.1s\n",
      "[CV 4/5] END learning_rate=0.01, max_depth=5, min_samples_leaf=6, min_samples_split=4, n_estimators=200;, score=1.000 total time=   0.1s\n",
      "[CV 4/5] END learning_rate=0.01, max_depth=7, min_samples_leaf=1, min_samples_split=4, n_estimators=50;, score=1.000 total time=   0.0s\n",
      "[CV 5/5] END learning_rate=0.01, max_depth=7, min_samples_leaf=1, min_samples_split=4, n_estimators=50;, score=1.000 total time=   0.0s\n",
      "[CV 1/5] END learning_rate=0.1, max_depth=9, min_samples_leaf=2, min_samples_split=8, n_estimators=100;, score=1.000 total time=   0.1s\n",
      "[CV 2/5] END learning_rate=0.1, max_depth=9, min_samples_leaf=2, min_samples_split=8, n_estimators=100;, score=1.000 total time=   0.0s\n",
      "[CV 5/5] END learning_rate=0.1, max_depth=7, min_samples_leaf=6, min_samples_split=2, n_estimators=100;, score=1.000 total time=   0.0s\n",
      "[CV 1/5] END learning_rate=0.01, max_depth=5, min_samples_leaf=2, min_samples_split=2, n_estimators=200;, score=1.000 total time=   0.1s\n",
      "[CV 2/5] END learning_rate=0.01, max_depth=5, min_samples_leaf=2, min_samples_split=2, n_estimators=200;, score=1.000 total time=   0.1s\n",
      "[CV 3/5] END learning_rate=0.01, max_depth=5, min_samples_leaf=2, min_samples_split=2, n_estimators=200;, score=1.000 total time=   0.1s\n",
      "[CV 1/5] END learning_rate=0.1, max_depth=9, min_samples_leaf=6, min_samples_split=4, n_estimators=100;, score=1.000 total time=   0.0s\n",
      "[CV 2/5] END learning_rate=0.1, max_depth=9, min_samples_leaf=6, min_samples_split=4, n_estimators=100;, score=1.000 total time=   0.0s\n",
      "[CV 3/5] END learning_rate=0.1, max_depth=9, min_samples_leaf=6, min_samples_split=4, n_estimators=100;, score=1.000 total time=   0.1s\n",
      "[CV 4/5] END learning_rate=0.1, max_depth=9, min_samples_leaf=6, min_samples_split=4, n_estimators=100;, score=1.000 total time=   0.0s\n",
      "[CV 2/5] END learning_rate=0.1, max_depth=5, min_samples_leaf=4, min_samples_split=6, n_estimators=100;, score=1.000 total time=   0.0s\n",
      "[CV 3/5] END learning_rate=0.1, max_depth=5, min_samples_leaf=4, min_samples_split=6, n_estimators=100;, score=1.000 total time=   0.1s\n",
      "{'n_estimators': 50, 'min_samples_split': 4, 'min_samples_leaf': 4, 'max_depth': 3, 'learning_rate': 0.1}\n",
      "{'learning_rate': 0.001, 'max_depth': 3, 'min_samples_leaf': 1, 'min_samples_split': 2, 'n_estimators': 50}\n"
     ]
    }
   ],
   "source": [
    "# create hyperarameter options\n",
    "gb_hyperparams = {\n",
    "    'learning_rate': [0.001, 0.01, 0.1, 0.2, 0.3],\n",
    "    'n_estimators': [50, 100, 200],\n",
    "    'max_depth': [3, 5, 7, 9],\n",
    "    'min_samples_leaf': [1, 2, 4, 6],\n",
    "    'min_samples_split': [2, 4, 6, 8],\n",
    "}\n",
    "\n",
    "# Create the model to be tuned\n",
    "gb_base = GradientBoostingClassifier(random_state=42)\n",
    "\n",
    "# Create the random search Random Forest\n",
    "gb_random = RandomizedSearchCV(\n",
    "    estimator = gb_base, \n",
    "    param_distributions = gb_hyperparams, \n",
    "    n_iter = 100, \n",
    "    cv = 5, \n",
    "    verbose=3,\n",
    "    n_jobs = -1\n",
    ")\n",
    "\n",
    "gb_grid = GridSearchCV(\n",
    "    estimator = gb_base, \n",
    "    param_grid = gb_hyperparams,\n",
    "    cv = 5, \n",
    "    n_jobs = -1\n",
    ")\n",
    "\n",
    "# Fit the random search model\n",
    "gb_random.fit(X_train, y_train)\n",
    "gb_grid.fit(X_train, y_train)\n",
    "\n",
    "# View the best parameters from the random search\n",
    "print(gb_random.best_params_)\n",
    "print(gb_grid.best_params_)"
   ]
  },
  {
   "cell_type": "code",
   "execution_count": 34,
   "id": "6c4dd98e-c7d6-4769-bdbb-fbc1e011c062",
   "metadata": {},
   "outputs": [
    {
     "name": "stdout",
     "output_type": "stream",
     "text": [
      "1.0\n",
      "1.0\n"
     ]
    }
   ],
   "source": [
    "print(gb_random.best_score_)\n",
    "print(gb_grid.best_score_)"
   ]
  },
  {
   "cell_type": "code",
   "execution_count": 35,
   "id": "f7beae9e-ad77-4da4-a0df-49788a453ae6",
   "metadata": {},
   "outputs": [],
   "source": [
    "model = gb_grid.best_estimator_"
   ]
  },
  {
   "cell_type": "markdown",
   "id": "2629f3f5-5a51-45d7-9c68-75b969101405",
   "metadata": {},
   "source": [
    "## Submission"
   ]
  },
  {
   "cell_type": "markdown",
   "id": "287c178f-1113-4456-b1c6-3188273bc1f3",
   "metadata": {},
   "source": [
    "Once you are happy with your model, you can make a submission. To make a submission, you will need to use your model to make predictions about the presence of rice crops for a set of test coordinates we have provided in the <a href=\"https://challenge.ey.com/api/v1/storage/admin-files/6847912254281276-63ca8b5ab12e510013520e2b-challenge_1_submission_template.csv\"><b>\"challenge_1_submission_template.csv\"</b></a> file and upload the file onto the challenge platform."
   ]
  },
  {
   "cell_type": "code",
   "execution_count": 36,
   "id": "c1fc4682-5a87-4ccb-9b4d-877221e397e9",
   "metadata": {},
   "outputs": [
    {
     "data": {
      "text/html": [
       "<div>\n",
       "<style scoped>\n",
       "    .dataframe tbody tr th:only-of-type {\n",
       "        vertical-align: middle;\n",
       "    }\n",
       "\n",
       "    .dataframe tbody tr th {\n",
       "        vertical-align: top;\n",
       "    }\n",
       "\n",
       "    .dataframe thead th {\n",
       "        text-align: right;\n",
       "    }\n",
       "</style>\n",
       "<table border=\"1\" class=\"dataframe\">\n",
       "  <thead>\n",
       "    <tr style=\"text-align: right;\">\n",
       "      <th></th>\n",
       "      <th>Latitude and Longitude</th>\n",
       "      <th>target</th>\n",
       "    </tr>\n",
       "  </thead>\n",
       "  <tbody>\n",
       "    <tr>\n",
       "      <th>0</th>\n",
       "      <td>(10.18019073690894, 105.32022315786804)</td>\n",
       "      <td>NaN</td>\n",
       "    </tr>\n",
       "    <tr>\n",
       "      <th>1</th>\n",
       "      <td>(10.561107033461816, 105.12772097986661)</td>\n",
       "      <td>NaN</td>\n",
       "    </tr>\n",
       "    <tr>\n",
       "      <th>2</th>\n",
       "      <td>(10.623790611954897, 105.13771401411867)</td>\n",
       "      <td>NaN</td>\n",
       "    </tr>\n",
       "    <tr>\n",
       "      <th>3</th>\n",
       "      <td>(10.583364246115156, 105.23946127195805)</td>\n",
       "      <td>NaN</td>\n",
       "    </tr>\n",
       "    <tr>\n",
       "      <th>4</th>\n",
       "      <td>(10.20744446668854, 105.26844107128906)</td>\n",
       "      <td>NaN</td>\n",
       "    </tr>\n",
       "    <tr>\n",
       "      <th>...</th>\n",
       "      <td>...</td>\n",
       "      <td>...</td>\n",
       "    </tr>\n",
       "    <tr>\n",
       "      <th>245</th>\n",
       "      <td>(10.308283266873062, 105.50872812216863)</td>\n",
       "      <td>NaN</td>\n",
       "    </tr>\n",
       "    <tr>\n",
       "      <th>246</th>\n",
       "      <td>(10.582910017285496, 105.23991550078767)</td>\n",
       "      <td>NaN</td>\n",
       "    </tr>\n",
       "    <tr>\n",
       "      <th>247</th>\n",
       "      <td>(10.581547330796518, 105.23991550078767)</td>\n",
       "      <td>NaN</td>\n",
       "    </tr>\n",
       "    <tr>\n",
       "      <th>248</th>\n",
       "      <td>(10.629241357910818, 105.15315779432643)</td>\n",
       "      <td>NaN</td>\n",
       "    </tr>\n",
       "    <tr>\n",
       "      <th>249</th>\n",
       "      <td>(10.574733898351617, 105.10410108072531)</td>\n",
       "      <td>NaN</td>\n",
       "    </tr>\n",
       "  </tbody>\n",
       "</table>\n",
       "<p>250 rows × 2 columns</p>\n",
       "</div>"
      ],
      "text/plain": [
       "                       Latitude and Longitude  target\n",
       "0     (10.18019073690894, 105.32022315786804)     NaN\n",
       "1    (10.561107033461816, 105.12772097986661)     NaN\n",
       "2    (10.623790611954897, 105.13771401411867)     NaN\n",
       "3    (10.583364246115156, 105.23946127195805)     NaN\n",
       "4     (10.20744446668854, 105.26844107128906)     NaN\n",
       "..                                        ...     ...\n",
       "245  (10.308283266873062, 105.50872812216863)     NaN\n",
       "246  (10.582910017285496, 105.23991550078767)     NaN\n",
       "247  (10.581547330796518, 105.23991550078767)     NaN\n",
       "248  (10.629241357910818, 105.15315779432643)     NaN\n",
       "249  (10.574733898351617, 105.10410108072531)     NaN\n",
       "\n",
       "[250 rows x 2 columns]"
      ]
     },
     "execution_count": 36,
     "metadata": {},
     "output_type": "execute_result"
    }
   ],
   "source": [
    "#Reading the coordinates for the submission\n",
    "test_file = pd.read_csv('../../../data/challenge_1_submission_template.csv')\n",
    "test_file = test_file.rename(columns={\"id\": \"Latitude and Longitude\"})\n",
    "test_file"
   ]
  },
  {
   "cell_type": "markdown",
   "id": "806f44d0-167f-47ad-8454-faa200364915",
   "metadata": {},
   "source": [
    "### RUN THIS BELOW CODE IF YOU DON'T HAVE THE DATA DOWNLOADED"
   ]
  },
  {
   "cell_type": "code",
   "execution_count": 37,
   "id": "c0c5e29a-3bfa-4f5e-ac00-ffbf6b18033e",
   "metadata": {},
   "outputs": [],
   "source": [
    "# # Function call to extract VV,VH Values\n",
    "# assests = ['vh','vv']\n",
    "# vh_vv = []\n",
    "\n",
    "# for coordinates in tqdm(test_file['Latitude and Longitude']):\n",
    "#     data = get_sentinel_data(coordinates,TIME_SLICE,assests, BOX_SIZE_DEG_3x3)\n",
    "    \n",
    "#     # calculate mean\n",
    "#     mean = data.mean(dim=['y', 'x', 'time']).compute()\n",
    "#     mean_vh = mean[\"vh\"].values.tolist()\n",
    "#     mean_vv = mean[\"vv\"].values.tolist()\n",
    "    \n",
    "#     # calculate median\n",
    "#     median = data.median(dim=['y', 'x', 'time']).compute()\n",
    "#     median_vh = median[\"vh\"].values.tolist()\n",
    "#     median_vv = median[\"vv\"].values.tolist()\n",
    "#     vh_vv.append((mean_vh, mean_vv, median_vh, median_vv))\n",
    "\n",
    "# columns =  ['mean_vh', 'mean_vv', 'median_vh', 'median_vv']\n",
    "# submission_vh_vv_data = pd.DataFrame(\n",
    "#     vh_vv,\n",
    "#     columns=columns\n",
    "# )"
   ]
  },
  {
   "cell_type": "code",
   "execution_count": 38,
   "id": "8a05a6d2-5bc1-463a-9f30-93630bb41936",
   "metadata": {},
   "outputs": [
    {
     "name": "stderr",
     "output_type": "stream",
     "text": [
      "100%|██████████| 250/250 [00:02<00:00, 101.05it/s]\n"
     ]
    }
   ],
   "source": [
    "# Function call to extract VV,VH Values\n",
    "directory = \"../../../data/test/sentinel-1-rtc/1-year-202201-202212/vh-vv-5x5/\"\n",
    "assests = ['vh','vv']\n",
    "vh_vv = []\n",
    "\n",
    "for coordinates in tqdm(test_file['Latitude and Longitude']):\n",
    "    data = xr.open_dataset(directory + coordinates + \".nc\")\n",
    "    \n",
    "    # calculate mean\n",
    "    mean = data.mean(dim=['y', 'x', 'time']).compute()\n",
    "    mean_vh = mean[\"vh\"].values.tolist()\n",
    "    mean_vv = mean[\"vv\"].values.tolist()\n",
    "    \n",
    "    # calculate median\n",
    "    median = data.median(dim=['y', 'x', 'time']).compute()\n",
    "    median_vh = median[\"vh\"].values.tolist()\n",
    "    median_vv = median[\"vv\"].values.tolist()\n",
    "    vh_vv.append((mean_vh, mean_vv, median_vh, median_vv))\n",
    "\n",
    "columns =  ['mean_vh', 'mean_vv', 'median_vh', 'median_vv']\n",
    "submission_vh_vv_data = pd.DataFrame(vh_vv, columns = columns)"
   ]
  },
  {
   "cell_type": "code",
   "execution_count": 39,
   "id": "2cb45aca-974a-41e1-a522-36ca202d9af5",
   "metadata": {},
   "outputs": [],
   "source": [
    "# Feature Scaling \n",
    "submission_vh_vv_data = submission_vh_vv_data.values\n",
    "transformed_submission_data = sc.transform(submission_vh_vv_data)"
   ]
  },
  {
   "cell_type": "code",
   "execution_count": 40,
   "id": "ecc34e3a-bfc1-49a0-94bb-ee1e540abe98",
   "metadata": {},
   "outputs": [],
   "source": [
    "#Making predictions\n",
    "final_predictions = model.predict(transformed_submission_data)\n",
    "final_prediction_series = pd.Series(final_predictions)"
   ]
  },
  {
   "cell_type": "code",
   "execution_count": 41,
   "id": "0375e4cd-fdb0-4b82-8508-6ff022061cf9",
   "metadata": {},
   "outputs": [],
   "source": [
    "#Combining the results into dataframe\n",
    "submission_df = pd.DataFrame({'id':test_file['Latitude and Longitude'].values, 'target':final_prediction_series.values})"
   ]
  },
  {
   "cell_type": "code",
   "execution_count": 42,
   "id": "2fcec864-4da3-41e7-80da-b77e42a9d810",
   "metadata": {},
   "outputs": [],
   "source": [
    "#Dumping the predictions into a csv file.\n",
    "submission_df.to_csv(\"../../../output/submission_sentinel_rtc_1_vh_vv_mean_median_1_year_5x5_gb_hp_tune.csv\",index = False)"
   ]
  },
  {
   "cell_type": "markdown",
   "id": "094c2fba-5ecb-4ea5-a4a5-1fd6a74952cc",
   "metadata": {},
   "source": [
    "## Conclusion"
   ]
  },
  {
   "cell_type": "markdown",
   "id": "10632df0-a001-4932-8ef9-c7dc9023cc7f",
   "metadata": {},
   "source": [
    "Now that you have learned a basic approach to model training, it’s time to try your own approach! Feel free to modify any of the functions presented in this notebook. We look forward to seeing your version of the model and the results. Best of luck with the challenge!"
   ]
  },
  {
   "cell_type": "markdown",
   "id": "8cf2eba4-2870-40bf-9048-6b82c6e167b6",
   "metadata": {},
   "source": [
    "Achieve score 0.96 it is slightly better than 0.94. Let's try for the 7x7 pixel area."
   ]
  }
 ],
 "metadata": {
  "kernelspec": {
   "display_name": "Python [conda env:notebook] *",
   "language": "python",
   "name": "conda-env-notebook-py"
  },
  "language_info": {
   "codemirror_mode": {
    "name": "ipython",
    "version": 3
   },
   "file_extension": ".py",
   "mimetype": "text/x-python",
   "name": "python",
   "nbconvert_exporter": "python",
   "pygments_lexer": "ipython3",
   "version": "3.10.6"
  }
 },
 "nbformat": 4,
 "nbformat_minor": 5
}
