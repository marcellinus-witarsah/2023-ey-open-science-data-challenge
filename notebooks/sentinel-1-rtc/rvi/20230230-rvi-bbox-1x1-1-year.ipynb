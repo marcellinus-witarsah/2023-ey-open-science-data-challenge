{
 "cells": [
  {
   "cell_type": "markdown",
   "id": "626a022d-5469-4e2c-aba7-c6b00be60b54",
   "metadata": {},
   "source": [
    "# Level 1: Rice Crop Discovery Tool Notebook"
   ]
  },
  {
   "cell_type": "markdown",
   "id": "ccfd5ecb-92da-4356-860f-64cec7534b45",
   "metadata": {},
   "source": [
    "## Challenge Level 1 Overview"
   ]
  },
  {
   "cell_type": "markdown",
   "id": "e854b5f4-ee16-40da-a6d1-81898cc52aae",
   "metadata": {},
   "source": [
    "<p align=\"justify\">Welcome to the EY Open Science Data Challenge 2023! This challenge consists of two levels – Level 1 and Level 2. This is the Level 1 challenge aimed at participants who are beginners or have intermediate skill sets in data science and programming. The goal of Level 1 is to predict the presence of rice crops at a given location using satellite data. By the time you complete this level, you will have developed a rice crop classification model, which can distinguish between rice and non-rice fields. \n",
    "</p>"
   ]
  },
  {
   "cell_type": "markdown",
   "id": "5f5c6226-0341-48c1-82b6-3fb000064462",
   "metadata": {},
   "source": [
    "<b>Challenge Aim: </b><p align=\"justify\"> <p>"
   ]
  },
  {
   "cell_type": "markdown",
   "id": "8bdd1b29",
   "metadata": {},
   "source": [
    "<p align=\"justify\">In this notebook, we will demonstrate a basic model workflow that can serve as a starting point for the challenge. The basic model has been built to predict rice crops against non-rice crops (which might include forest, other vegetation and water bodies) using features from the Sentinel-1 Radiometrically Terrain Corrected (RTC)  dataset as predictor variables. In this demonstration, we have used two features from the Sentinel-1 dataset, namely VV (Vertical polarization – Vertical polarization) and VH (Vertical polarization – Horizontal polarization) and trained a logistic regression model with these features. We have extracted the VV band and VH band data from the Sentinel-1 dataset for one day (21st March 2020), with an assumption that VV and VH values for this day are representative of VV and VH values for the entire year (2020) for a given location.\n",
    "\n",
    "Most of the functions presented in this notebook were adapted from the <a href=\"https://planetarycomputer.microsoft.com/dataset/sentinel-1-rtc#Example-Notebook\">Sentinel-1-RTC notebook</a> found in the Planetary Computer portal.</p>\n",
    "    \n",
    "<p align=\"justify\"> Please note that this notebook is just a starting point. We have made many assumptions in this notebook that you may think are not best for solving the challenge effectively. You are encouraged to modify these functions, rewrite them, or try an entirely new approach.</p>"
   ]
  },
  {
   "cell_type": "markdown",
   "id": "2cb152d6-21e5-46c6-931d-11e99e6a6798",
   "metadata": {},
   "source": [
    "## Load In Dependencies"
   ]
  },
  {
   "cell_type": "markdown",
   "id": "093dca36-dae9-4b87-9026-7508740cd746",
   "metadata": {},
   "source": [
    "To run this demonstration notebook, you will need to have the following packages imported below installed. This may take some time.  "
   ]
  },
  {
   "cell_type": "markdown",
   "id": "c546caac-b5a5-494f-95e8-19a01e117492",
   "metadata": {},
   "source": [
    "#### Note: Environment setup\n",
    "Running this notebook requires an API key.\n",
    "\n",
    "To use your API key locally, set the environment variable <i><b>PC_SDK_SUBSCRIPTION_KEY</i></b> or use <i><b>planetary_computer.settings.set_subscription_key(<YOUR API Key>)</i></b><br>\n",
    "See <a href=\"https://planetarycomputer.microsoft.com/docs/concepts/sas/#when-an-account-is-needed\">when an account is needed for more </a>, and <a href=\"https://planetarycomputer.microsoft.com/account/request\">request</a> an account if needed."
   ]
  },
  {
   "cell_type": "code",
   "execution_count": 1,
   "id": "3a03723e-78ae-4150-ba22-e2e485b95cdb",
   "metadata": {},
   "outputs": [],
   "source": [
    "# Supress Warnings\n",
    "import warnings\n",
    "warnings.filterwarnings('ignore')\n",
    "\n",
    "# Visualization\n",
    "import ipyleaflet\n",
    "import matplotlib.pyplot as plt\n",
    "from IPython.display import Image\n",
    "import seaborn as sns\n",
    "\n",
    "# Data Science\n",
    "import numpy as np\n",
    "import pandas as pd\n",
    "import xarray as xr\n",
    "\n",
    "# Feature Engineering\n",
    "from sklearn.preprocessing import StandardScaler, MinMaxScaler, RobustScaler\n",
    "from sklearn.model_selection import train_test_split\n",
    "\n",
    "# Machine Learning\n",
    "from sklearn.linear_model import LogisticRegression\n",
    "from sklearn.svm import SVC\n",
    "from sklearn.ensemble import RandomForestClassifier, GradientBoostingClassifier, VotingClassifier, AdaBoostClassifier\n",
    "from sklearn.naive_bayes import BernoulliNB\n",
    "from sklearn.neighbors import KNeighborsClassifier\n",
    "from sklearn.metrics import confusion_matrix, make_scorer, accuracy_score, precision_score, recall_score, f1_score, classification_report\n",
    "\n",
    "# Evaluation and Tuning\n",
    "from sklearn.model_selection import cross_val_score, KFold\n",
    "from sklearn.model_selection import RandomizedSearchCV, GridSearchCV\n",
    "\n",
    "# Planetary Computer Tools\n",
    "import pystac\n",
    "import pystac_client\n",
    "import odc\n",
    "from pystac_client import Client\n",
    "from pystac.extensions.eo import EOExtension as eo\n",
    "from odc.stac import stac_load\n",
    "import planetary_computer as pc\n",
    "pc.settings.set_subscription_key('cf5657d28bb2408ba8fd775642c2e1cb')\n",
    "\n",
    "# Others\n",
    "import requests\n",
    "import rich.table\n",
    "from itertools import cycle\n",
    "from tqdm import tqdm\n",
    "tqdm.pandas()\n",
    "from datetime import datetime\n",
    "import os\n",
    "from glob import glob\n",
    "import time"
   ]
  },
  {
   "cell_type": "markdown",
   "id": "25ce8c4b-e390-4486-bf0a-227ef5b55e8d",
   "metadata": {},
   "source": [
    "## Scope"
   ]
  },
  {
   "cell_type": "markdown",
   "id": "d18d0604-65c7-42be-9ba2-13f2b8689d57",
   "metadata": {},
   "source": [
    "<p>\n",
    "    The scope for this notebook will be using data with area of 1x1 with a time window of <b>1st January 2022</b> until <b>31th December 2022</b>\n",
    "</p>"
   ]
  },
  {
   "cell_type": "markdown",
   "id": "4f3349ee-3e3c-42e7-a5df-24e2194a6532",
   "metadata": {},
   "source": [
    "## Set Constants and Random State"
   ]
  },
  {
   "cell_type": "code",
   "execution_count": 2,
   "id": "426a13a7-4cee-4fe0-94b0-a382f124aa05",
   "metadata": {},
   "outputs": [],
   "source": [
    "# set constant\n",
    "TIME_SLICE = \"2022-01-01/2022-12-31\"\n",
    "\n",
    "# random state\n",
    "np.random.seed(42)"
   ]
  },
  {
   "cell_type": "markdown",
   "id": "1c268cf6",
   "metadata": {},
   "source": [
    "## Response Variable"
   ]
  },
  {
   "cell_type": "markdown",
   "id": "f80dbf04",
   "metadata": {},
   "source": [
    "Before building the model, we need to load in the rice crop presence data. We have curated for you data from a certain region in Vietnam for the year 2020. The data consists of  geo locations (Latitude and Longitude) with a tag specifying if the crop present in each geo location is rice or not.  "
   ]
  },
  {
   "cell_type": "code",
   "execution_count": 3,
   "id": "0f1da678",
   "metadata": {},
   "outputs": [
    {
     "data": {
      "text/html": [
       "<div>\n",
       "<style scoped>\n",
       "    .dataframe tbody tr th:only-of-type {\n",
       "        vertical-align: middle;\n",
       "    }\n",
       "\n",
       "    .dataframe tbody tr th {\n",
       "        vertical-align: top;\n",
       "    }\n",
       "\n",
       "    .dataframe thead th {\n",
       "        text-align: right;\n",
       "    }\n",
       "</style>\n",
       "<table border=\"1\" class=\"dataframe\">\n",
       "  <thead>\n",
       "    <tr style=\"text-align: right;\">\n",
       "      <th></th>\n",
       "      <th>Latitude and Longitude</th>\n",
       "      <th>Class of Land</th>\n",
       "    </tr>\n",
       "  </thead>\n",
       "  <tbody>\n",
       "    <tr>\n",
       "      <th>0</th>\n",
       "      <td>(10.323727047081501, 105.2516346045924)</td>\n",
       "      <td>Rice</td>\n",
       "    </tr>\n",
       "    <tr>\n",
       "      <th>1</th>\n",
       "      <td>(10.322364360592521, 105.27843410554115)</td>\n",
       "      <td>Rice</td>\n",
       "    </tr>\n",
       "    <tr>\n",
       "      <th>2</th>\n",
       "      <td>(10.321455902933202, 105.25254306225168)</td>\n",
       "      <td>Rice</td>\n",
       "    </tr>\n",
       "    <tr>\n",
       "      <th>3</th>\n",
       "      <td>(10.324181275911162, 105.25118037576274)</td>\n",
       "      <td>Rice</td>\n",
       "    </tr>\n",
       "    <tr>\n",
       "      <th>4</th>\n",
       "      <td>(10.324635504740822, 105.27389181724476)</td>\n",
       "      <td>Rice</td>\n",
       "    </tr>\n",
       "  </tbody>\n",
       "</table>\n",
       "</div>"
      ],
      "text/plain": [
       "                     Latitude and Longitude Class of Land\n",
       "0   (10.323727047081501, 105.2516346045924)          Rice\n",
       "1  (10.322364360592521, 105.27843410554115)          Rice\n",
       "2  (10.321455902933202, 105.25254306225168)          Rice\n",
       "3  (10.324181275911162, 105.25118037576274)          Rice\n",
       "4  (10.324635504740822, 105.27389181724476)          Rice"
      ]
     },
     "execution_count": 3,
     "metadata": {},
     "output_type": "execute_result"
    }
   ],
   "source": [
    "crop_presence_data = pd.read_csv(\"../../../data/Crop_Location_Data.csv\")\n",
    "crop_presence_data.head()"
   ]
  },
  {
   "cell_type": "markdown",
   "id": "b3b6812c-7137-4873-b4ed-2dcdd470209b",
   "metadata": {},
   "source": [
    "## Predictor Variables"
   ]
  },
  {
   "cell_type": "markdown",
   "id": "1487a9dc-1308-4c05-a69a-ccfe60bc9100",
   "metadata": {},
   "source": [
    "<p align = \"justify\">Sentinel-1 radar data penetrates through the clouds, thus helping us to get the band values with minimal atmospheric attenuation. Band values such as VV and VH help us in distinguishing between the rice and non rice crops. Hence we are choosing VV and VH as predictor variables for this experiment. \n",
    "        \n",
    "<ul>\n",
    "<li>VV - gamma naught values of signal transmitted with vertical polarization and received with vertical polarization with radiometric terrain correction applied.\n",
    "\n",
    "<li>VH - gamma naught values of signal transmitted with vertical polarization and received with horizontal polarization with radiometric terrain correction applied.\n",
    "</ul>"
   ]
  },
  {
   "cell_type": "markdown",
   "id": "0c85257f-4a48-49e8-8036-10e9a6b69894",
   "metadata": {},
   "source": [
    "### Accessing the Sentinel-1 Data"
   ]
  },
  {
   "cell_type": "code",
   "execution_count": 4,
   "id": "5e339a34-cfa7-4899-9165-63ca7c01bbb9",
   "metadata": {},
   "outputs": [],
   "source": [
    "def get_sentinel_data(latlong,time_slice,assets, box_size_deg=None):\n",
    "    '''\n",
    "    Returns VV and VH values for a given latitude and longitude \n",
    "    Attributes:\n",
    "    latlong - A tuple with 2 elements - latitude and longitude\n",
    "    time_slice - Timeframe for which the VV and VH values have to be extracted\n",
    "    assets - A list of bands to be extracted\n",
    "    '''\n",
    "    # 1. extract the longitude and latitude from string\n",
    "    latlong=latlong.replace('(','').replace(')','').replace(' ','').split(',')\n",
    "    \n",
    "    # 2. if the box_size_deg is none then the pixel area will be set to 1x1\n",
    "    if box_size_deg is None:\n",
    "        bbox_of_interest = (float(latlong[1]) , float(latlong[0]), float(latlong[1]) , float(latlong[0]))\n",
    "    else:\n",
    "        bbox_of_interest = create_bbox(latlong, box_size_deg)\n",
    "    time_of_interest = time_slice\n",
    "    \n",
    "    # 3. access the Azure Blob Storage that holding the data\n",
    "    catalog = pystac_client.Client.open(\n",
    "        \"https://planetarycomputer.microsoft.com/api/stac/v1\"\n",
    "    )\n",
    "    \n",
    "    # 4. search the data\n",
    "    search = catalog.search(\n",
    "        collections=[\"sentinel-1-rtc\"], bbox=bbox_of_interest, datetime=time_of_interest\n",
    "    )\n",
    "    items = list(search.get_all_items())\n",
    "    \n",
    "    # 5. load the data bands\n",
    "    bands_of_interest = assests\n",
    "    data = stac_load(items, patch_url=pc.sign, bbox=bbox_of_interest)\n",
    "    return data"
   ]
  },
  {
   "cell_type": "markdown",
   "id": "baeaaf35-fd72-437b-ab8a-ddd2e1cd6e65",
   "metadata": {},
   "source": [
    "### RUN THIS BELOW CODE IF YOU DON'T HAVE THE DATA DOWNLOADED"
   ]
  },
  {
   "cell_type": "code",
   "execution_count": 5,
   "id": "199d402d-270c-4924-a2d9-2b74a9dba649",
   "metadata": {},
   "outputs": [],
   "source": [
    "# Function for calculating RVI\n",
    "def calculate_rvi(data):\n",
    "    '''\n",
    "    Returns RVI values for a given vv and vh \n",
    "    Attributes:\n",
    "    vv - vertical transmit, vertical receive from satellite\n",
    "    vh - vertical transmit, horizontal receive from satellite\n",
    "    '''\n",
    "    # Calculate RVI\n",
    "    dop = (data.vv / (data.vv + data.vh))\n",
    "    m = 1 - dop\n",
    "    rvi = (np.sqrt(dop))*((4*data.vh)/(data.vv + data.vh))\n",
    "    return rvi"
   ]
  },
  {
   "cell_type": "code",
   "execution_count": 6,
   "id": "80e0393c-fe3c-480a-8fa3-cbe53b49e3bc",
   "metadata": {
    "tags": []
   },
   "outputs": [],
   "source": [
    "# # Function call to extract VV,VH Values\n",
    "# assests = ['vh','vv']\n",
    "# vh_vv = []\n",
    "\n",
    "# for coordinates in tqdm(crop_presence_data['Latitude and Longitude']):\n",
    "#     data = get_sentinel_data(coordinates,TIME_SLICE,assests)\n",
    "    \n",
    "#     # calculate mean with repect to dimension y and x/ longitude and latitude\n",
    "#     mean = data.mean(dim=['y', 'x']).compute()\n",
    "    \n",
    "#     # calculate median with repect to dimension y and x/ longitude and latitude\n",
    "#     median = data.median(dim=['y', 'x']).compute()\n",
    "    \n",
    "#     # calculate mean of rvi with respect to time\n",
    "#     mean_rvi = calculate_rvi(mean).mean(dim=['time']).values.tolist()\n",
    "    \n",
    "#     # calculate median of rvi with respect to time\n",
    "#     median_rvi = calculate_rvi(median).median(dim=['time']).values.tolist()\n",
    "        \n",
    "#     vh_vv.append((\n",
    "#         mean_rvi,\n",
    "#         median_rvi,\n",
    "#     ))\n",
    "\n",
    "# columns =  [\n",
    "#     'mean_rvi', 'median_rvi',     \n",
    "# ]\n",
    "# vh_vv_data = pd.DataFrame(vh_vv, columns = columns)"
   ]
  },
  {
   "cell_type": "code",
   "execution_count": 7,
   "id": "4c51cd6e-41e2-4df4-ae07-349be861f0f0",
   "metadata": {},
   "outputs": [
    {
     "name": "stderr",
     "output_type": "stream",
     "text": [
      "100%|██████████| 600/600 [00:13<00:00, 43.11it/s]\n"
     ]
    }
   ],
   "source": [
    "# Function call to extract VV,VH Values\n",
    "directory = \"../../../data/train/sentinel-1-rtc/1-year-202201-202212/vh-vv-1x1/\"\n",
    "rvis = []\n",
    "\n",
    "for coordinates in tqdm(crop_presence_data['Latitude and Longitude']):\n",
    "    data = xr.open_dataset(directory + coordinates + \".nc\")\n",
    "    \n",
    "    # calculate mean with repect to dimension y and x/ longitude and latitude\n",
    "    mean = data.mean(dim=['y', 'x']).compute()\n",
    "    \n",
    "    # calculate median with repect to dimension y and x/ longitude and latitude\n",
    "    median = data.median(dim=['y', 'x']).compute()\n",
    "    \n",
    "    # calculate mean of rvi with respect to time\n",
    "    mean_rvi = calculate_rvi(mean).mean(dim=['time']).values.tolist()\n",
    "    \n",
    "    # calculate median of rvi with respect to time\n",
    "    median_rvi = calculate_rvi(median).median(dim=['time']).values.tolist()\n",
    "        \n",
    "    rvis.append((\n",
    "        mean_rvi,\n",
    "        median_rvi,\n",
    "    ))\n",
    "\n",
    "columns =  [\n",
    "    'mean_rvi', 'median_rvi', \n",
    "]\n",
    "rvi_data = pd.DataFrame(rvis, columns = columns)"
   ]
  },
  {
   "cell_type": "markdown",
   "id": "aa872546-7567-418c-af04-1d8b4fa5bd60",
   "metadata": {
    "tags": []
   },
   "source": [
    "## Joining the predictor variables and response variables\n",
    "Now that we have extracted our predictor variables, we need to join them onto the response variable . We use the function <i><b>combine_two_datasets</b></i> to combine the predictor variables and response variables.The <i><b>concat</b></i> function from pandas comes in handy here."
   ]
  },
  {
   "cell_type": "code",
   "execution_count": 8,
   "id": "96296d95-8290-4f26-80f9-9e221bfcfc81",
   "metadata": {},
   "outputs": [],
   "source": [
    "def combine_two_datasets(dataset1,dataset2):\n",
    "    '''\n",
    "    Returns a  vertically concatenated dataset.\n",
    "    Attributes:\n",
    "    dataset1 - Dataset 1 to be combined \n",
    "    dataset2 - Dataset 2 to be combined\n",
    "    '''\n",
    "    data = pd.concat([dataset1,dataset2], axis=1)\n",
    "    return data"
   ]
  },
  {
   "cell_type": "code",
   "execution_count": 10,
   "id": "20fa2b5f-727b-4781-9ff4-cc70596cd3f0",
   "metadata": {},
   "outputs": [
    {
     "data": {
      "text/html": [
       "<div>\n",
       "<style scoped>\n",
       "    .dataframe tbody tr th:only-of-type {\n",
       "        vertical-align: middle;\n",
       "    }\n",
       "\n",
       "    .dataframe tbody tr th {\n",
       "        vertical-align: top;\n",
       "    }\n",
       "\n",
       "    .dataframe thead th {\n",
       "        text-align: right;\n",
       "    }\n",
       "</style>\n",
       "<table border=\"1\" class=\"dataframe\">\n",
       "  <thead>\n",
       "    <tr style=\"text-align: right;\">\n",
       "      <th></th>\n",
       "      <th>Latitude and Longitude</th>\n",
       "      <th>Class of Land</th>\n",
       "      <th>mean_rvi</th>\n",
       "      <th>median_rvi</th>\n",
       "    </tr>\n",
       "  </thead>\n",
       "  <tbody>\n",
       "    <tr>\n",
       "      <th>0</th>\n",
       "      <td>(10.323727047081501, 105.2516346045924)</td>\n",
       "      <td>Rice</td>\n",
       "      <td>0.711839</td>\n",
       "      <td>0.680751</td>\n",
       "    </tr>\n",
       "    <tr>\n",
       "      <th>1</th>\n",
       "      <td>(10.322364360592521, 105.27843410554115)</td>\n",
       "      <td>Rice</td>\n",
       "      <td>0.757953</td>\n",
       "      <td>0.759935</td>\n",
       "    </tr>\n",
       "    <tr>\n",
       "      <th>2</th>\n",
       "      <td>(10.321455902933202, 105.25254306225168)</td>\n",
       "      <td>Rice</td>\n",
       "      <td>0.868551</td>\n",
       "      <td>0.986034</td>\n",
       "    </tr>\n",
       "    <tr>\n",
       "      <th>3</th>\n",
       "      <td>(10.324181275911162, 105.25118037576274)</td>\n",
       "      <td>Rice</td>\n",
       "      <td>0.655604</td>\n",
       "      <td>0.619326</td>\n",
       "    </tr>\n",
       "    <tr>\n",
       "      <th>4</th>\n",
       "      <td>(10.324635504740822, 105.27389181724476)</td>\n",
       "      <td>Rice</td>\n",
       "      <td>0.710439</td>\n",
       "      <td>0.755598</td>\n",
       "    </tr>\n",
       "  </tbody>\n",
       "</table>\n",
       "</div>"
      ],
      "text/plain": [
       "                     Latitude and Longitude Class of Land  mean_rvi  \\\n",
       "0   (10.323727047081501, 105.2516346045924)          Rice  0.711839   \n",
       "1  (10.322364360592521, 105.27843410554115)          Rice  0.757953   \n",
       "2  (10.321455902933202, 105.25254306225168)          Rice  0.868551   \n",
       "3  (10.324181275911162, 105.25118037576274)          Rice  0.655604   \n",
       "4  (10.324635504740822, 105.27389181724476)          Rice  0.710439   \n",
       "\n",
       "   median_rvi  \n",
       "0    0.680751  \n",
       "1    0.759935  \n",
       "2    0.986034  \n",
       "3    0.619326  \n",
       "4    0.755598  "
      ]
     },
     "execution_count": 10,
     "metadata": {},
     "output_type": "execute_result"
    }
   ],
   "source": [
    "crop_data = combine_two_datasets(crop_presence_data,rvi_data)\n",
    "crop_data.head()"
   ]
  },
  {
   "cell_type": "markdown",
   "id": "fd4af7b5-41d1-4822-8d78-5e4bdc84b287",
   "metadata": {
    "tags": []
   },
   "source": [
    "## Model Building\n"
   ]
  },
  {
   "cell_type": "markdown",
   "id": "a664ca55-dba1-440b-a4ef-2b6934c03929",
   "metadata": {},
   "source": [
    "<p align=\"justify\"> Now let us select the columns required for our model building exercise. We will consider only VV and VH for our model. It does not make sense to use latitude and longitude as predictor variables as they do not have any impact on presence of rice crop.</p>"
   ]
  },
  {
   "cell_type": "code",
   "execution_count": 11,
   "id": "536d53ad-2697-4283-8ceb-db94f93bad7e",
   "metadata": {},
   "outputs": [],
   "source": [
    "crop_data = crop_data[[\n",
    "    'mean_rvi', 'median_rvi', \n",
    "    'Class of Land'\n",
    "]]"
   ]
  },
  {
   "cell_type": "markdown",
   "id": "fca40658-8003-4195-b0d1-5efe29929ac9",
   "metadata": {},
   "source": [
    "### Train and Test Split "
   ]
  },
  {
   "cell_type": "markdown",
   "id": "b46507f5-cfd1-43d8-8b05-aa09ce8016af",
   "metadata": {},
   "source": [
    "<p align=\"justify\">We will now split the data into 70% training data and 30% test data. Scikit-learn alias “sklearn” is a robust library for machine learning in Python. The scikit-learn library has a <i><b>model_selection</b></i> module in which there is a splitting function <i><b>train_test_split</b></i>. You can use the same.</p>"
   ]
  },
  {
   "cell_type": "code",
   "execution_count": 12,
   "id": "062ac03d-245d-49af-82d9-56d3ac581e85",
   "metadata": {},
   "outputs": [],
   "source": [
    "X = crop_data.drop(columns=['Class of Land']).values\n",
    "y = crop_data ['Class of Land'].values\n",
    "X_train, X_test, y_train, y_test = train_test_split(X, y, test_size=0.3,stratify=y)"
   ]
  },
  {
   "cell_type": "markdown",
   "id": "b031607b-9e71-46c8-beb1-3610ab59c56a",
   "metadata": {},
   "source": [
    "### Feature Scaling "
   ]
  },
  {
   "cell_type": "markdown",
   "id": "3b2140c8-3fed-49a4-b9c5-7378c12c5784",
   "metadata": {},
   "source": [
    "<p align=\"justify\"> Before initiating the model training we may have to execute different data pre-processing steps. Here we are demonstrating the scaling of VV and VH variable by using Standard Scaler.</p>"
   ]
  },
  {
   "cell_type": "markdown",
   "id": "d859a23d-be08-4a7c-b27b-1a4afb03feb5",
   "metadata": {},
   "source": [
    "<p align = \"justify\">Feature Scaling is a data preprocessing step for numerical features. Many machine learning algorithms like Gradient descent methods, KNN algorithm, linear and logistic regression, etc. require data scaling to produce good results. Scikit learn provides functions that can be used to apply data scaling. Here we are using Standard Scaler.</p>"
   ]
  },
  {
   "cell_type": "code",
   "execution_count": 13,
   "id": "1506aede-aca0-4acc-a9b7-c7547dd9ed0a",
   "metadata": {},
   "outputs": [],
   "source": [
    "sc = StandardScaler()\n",
    "X_train = sc.fit_transform(X_train)\n",
    "X_test = sc.transform(X_test)"
   ]
  },
  {
   "cell_type": "markdown",
   "id": "ed1de27d-2b8b-4a3d-bf83-66f69f435402",
   "metadata": {
    "tags": []
   },
   "source": [
    "### Model Training"
   ]
  },
  {
   "cell_type": "markdown",
   "id": "c3e978bb-a1af-48d7-ae11-6912bbe45adf",
   "metadata": {},
   "source": [
    "<p justify =\"align\">\n",
    "For this model we are experimenting using 7 models:\n",
    "<ol>\n",
    "    <li>Logistic Regression,</li>\n",
    "    <li>Support Vector Machine,</li>\n",
    "    <li>Random Forest,</li>\n",
    "    <li>Gradient Boost</li>\n",
    "    <li>Ada Boost</li>\n",
    "    <li>Naive Bayes (Bernoulli), and</li>\n",
    "    <li>K-Nearest Neighbor</li>\n",
    "</ol>\n",
    "</p>"
   ]
  },
  {
   "cell_type": "code",
   "execution_count": 14,
   "id": "4b5290e8-700e-44dc-b273-c2a9b7baba20",
   "metadata": {},
   "outputs": [],
   "source": [
    "models = [\n",
    "    LogisticRegression(random_state=42), \n",
    "    SVC(random_state=42),\n",
    "    RandomForestClassifier(random_state=42),\n",
    "    GradientBoostingClassifier(random_state=42),\n",
    "    BernoulliNB(),\n",
    "    KNeighborsClassifier(),\n",
    "    AdaBoostClassifier(random_state=42)\n",
    "]"
   ]
  },
  {
   "cell_type": "markdown",
   "id": "5caa0cc5-9e2e-4512-b11e-883538322147",
   "metadata": {},
   "source": [
    "## Model Evaluation"
   ]
  },
  {
   "cell_type": "markdown",
   "id": "ce133b94-b435-4721-957b-20c412aa523f",
   "metadata": {},
   "source": [
    "Now that we have trained our model , all that is left is to evaluate it. For evaluation we will generate the classification report and will plot the confusion matrix. Scikit-learn provides many other metrics that can be used for evaluation. You can even write a code on your own."
   ]
  },
  {
   "cell_type": "markdown",
   "id": "6ba9d7e2-ba7b-4248-84be-7d13a96ba201",
   "metadata": {
    "tags": []
   },
   "source": [
    "### In-Sample Evaluation\n",
    "<p align=\"Jutisfy\"> We will be generating a classification report and a confusion matrix for the training data. It must be stressed that this is in-sample performance testing , which is the performance testing on the training dataset. These metrics are NOT truly indicative of the model's performance. You should wait to test the model performance on the test data before you feel confident about your model.</p>"
   ]
  },
  {
   "cell_type": "markdown",
   "id": "edfb817a-16cf-4029-bbeb-ca41dceeecb5",
   "metadata": {},
   "source": [
    "In this section, we make predictions on the training set and store them in the <b><i>insample_ predictions</i></b> variable. A confusion matrix is generated to gauge the robustness of the model. "
   ]
  },
  {
   "cell_type": "code",
   "execution_count": 15,
   "id": "ac5331bb-e152-4461-9483-f08e18400433",
   "metadata": {},
   "outputs": [],
   "source": [
    "def cv_comparison(models, X, y, cv):\n",
    "    # Initiate a DataFrame for the averages and a list for all measures\n",
    "    cv_accuracies = pd.DataFrame({\n",
    "        \"model\": [],\n",
    "        \"accuracy\": [],\n",
    "        \"precision\": [],\n",
    "        \"recall\": [],\n",
    "        \"f1_score\": [],\n",
    "    })\n",
    "    \n",
    "    for model in models:\n",
    "        accuracy = cross_val_score(model, X, y, scoring='accuracy', cv=cv)\n",
    "        mean_accuracy = round(accuracy.mean(), 4)\n",
    "        \n",
    "        recall = cross_val_score(model, X, y, scoring='recall_weighted', cv=cv)\n",
    "        mean_recall = round(recall.mean(), 4)\n",
    "        \n",
    "        precision = cross_val_score(model, X, y, scoring='precision_weighted', cv=cv)\n",
    "        mean_precision = round(precision.mean(), 4)\n",
    "        \n",
    "        f1_score = cross_val_score(model, X, y, scoring='f1_weighted', cv=cv)\n",
    "        mean_f1_score = round(f1_score.mean(), 4)\n",
    "        \n",
    "        cv_accuracies.loc[len(cv_accuracies.index)] = [\n",
    "            str(model), \n",
    "            mean_accuracy, \n",
    "            mean_precision, \n",
    "            mean_recall, \n",
    "            mean_f1_score,\n",
    "        ]        \n",
    "    return cv_accuracies"
   ]
  },
  {
   "cell_type": "code",
   "execution_count": 16,
   "id": "1e0e8e36-c3ae-48e3-8e0e-623ef28df000",
   "metadata": {},
   "outputs": [
    {
     "data": {
      "text/html": [
       "<div>\n",
       "<style scoped>\n",
       "    .dataframe tbody tr th:only-of-type {\n",
       "        vertical-align: middle;\n",
       "    }\n",
       "\n",
       "    .dataframe tbody tr th {\n",
       "        vertical-align: top;\n",
       "    }\n",
       "\n",
       "    .dataframe thead th {\n",
       "        text-align: right;\n",
       "    }\n",
       "</style>\n",
       "<table border=\"1\" class=\"dataframe\">\n",
       "  <thead>\n",
       "    <tr style=\"text-align: right;\">\n",
       "      <th></th>\n",
       "      <th>model</th>\n",
       "      <th>accuracy</th>\n",
       "      <th>precision</th>\n",
       "      <th>recall</th>\n",
       "      <th>f1_score</th>\n",
       "    </tr>\n",
       "  </thead>\n",
       "  <tbody>\n",
       "    <tr>\n",
       "      <th>0</th>\n",
       "      <td>LogisticRegression(random_state=42)</td>\n",
       "      <td>0.5881</td>\n",
       "      <td>0.5897</td>\n",
       "      <td>0.5881</td>\n",
       "      <td>0.5860</td>\n",
       "    </tr>\n",
       "    <tr>\n",
       "      <th>1</th>\n",
       "      <td>SVC(random_state=42)</td>\n",
       "      <td>0.6643</td>\n",
       "      <td>0.6983</td>\n",
       "      <td>0.6643</td>\n",
       "      <td>0.6496</td>\n",
       "    </tr>\n",
       "    <tr>\n",
       "      <th>2</th>\n",
       "      <td>RandomForestClassifier(random_state=42)</td>\n",
       "      <td>0.6405</td>\n",
       "      <td>0.6425</td>\n",
       "      <td>0.6405</td>\n",
       "      <td>0.6388</td>\n",
       "    </tr>\n",
       "    <tr>\n",
       "      <th>3</th>\n",
       "      <td>GradientBoostingClassifier(random_state=42)</td>\n",
       "      <td>0.6619</td>\n",
       "      <td>0.6699</td>\n",
       "      <td>0.6619</td>\n",
       "      <td>0.6579</td>\n",
       "    </tr>\n",
       "    <tr>\n",
       "      <th>4</th>\n",
       "      <td>BernoulliNB()</td>\n",
       "      <td>0.6000</td>\n",
       "      <td>0.6041</td>\n",
       "      <td>0.6000</td>\n",
       "      <td>0.5969</td>\n",
       "    </tr>\n",
       "    <tr>\n",
       "      <th>5</th>\n",
       "      <td>KNeighborsClassifier()</td>\n",
       "      <td>0.6524</td>\n",
       "      <td>0.6546</td>\n",
       "      <td>0.6524</td>\n",
       "      <td>0.6511</td>\n",
       "    </tr>\n",
       "    <tr>\n",
       "      <th>6</th>\n",
       "      <td>AdaBoostClassifier(random_state=42)</td>\n",
       "      <td>0.6119</td>\n",
       "      <td>0.6177</td>\n",
       "      <td>0.6119</td>\n",
       "      <td>0.6076</td>\n",
       "    </tr>\n",
       "  </tbody>\n",
       "</table>\n",
       "</div>"
      ],
      "text/plain": [
       "                                         model  accuracy  precision  recall  \\\n",
       "0          LogisticRegression(random_state=42)    0.5881     0.5897  0.5881   \n",
       "1                         SVC(random_state=42)    0.6643     0.6983  0.6643   \n",
       "2      RandomForestClassifier(random_state=42)    0.6405     0.6425  0.6405   \n",
       "3  GradientBoostingClassifier(random_state=42)    0.6619     0.6699  0.6619   \n",
       "4                                BernoulliNB()    0.6000     0.6041  0.6000   \n",
       "5                       KNeighborsClassifier()    0.6524     0.6546  0.6524   \n",
       "6          AdaBoostClassifier(random_state=42)    0.6119     0.6177  0.6119   \n",
       "\n",
       "   f1_score  \n",
       "0    0.5860  \n",
       "1    0.6496  \n",
       "2    0.6388  \n",
       "3    0.6579  \n",
       "4    0.5969  \n",
       "5    0.6511  \n",
       "6    0.6076  "
      ]
     },
     "metadata": {},
     "output_type": "display_data"
    },
    {
     "name": "stdout",
     "output_type": "stream",
     "text": [
      "[TIME]: 8.7169\n"
     ]
    }
   ],
   "source": [
    "start = time.time()\n",
    "df_cv = cv_comparison(models, X_train, y_train, 5)\n",
    "display(df_cv)\n",
    "print(\"[TIME]: %.4f\" % (time.time()-start))"
   ]
  },
  {
   "cell_type": "code",
   "execution_count": 17,
   "id": "f5662c7d-cc18-4f51-918f-43164c7d5b0d",
   "metadata": {},
   "outputs": [
    {
     "data": {
      "text/html": [
       "<div>\n",
       "<style scoped>\n",
       "    .dataframe tbody tr th:only-of-type {\n",
       "        vertical-align: middle;\n",
       "    }\n",
       "\n",
       "    .dataframe tbody tr th {\n",
       "        vertical-align: top;\n",
       "    }\n",
       "\n",
       "    .dataframe thead th {\n",
       "        text-align: right;\n",
       "    }\n",
       "</style>\n",
       "<table border=\"1\" class=\"dataframe\">\n",
       "  <thead>\n",
       "    <tr style=\"text-align: right;\">\n",
       "      <th></th>\n",
       "      <th>model</th>\n",
       "      <th>accuracy</th>\n",
       "      <th>precision</th>\n",
       "      <th>recall</th>\n",
       "      <th>f1_score</th>\n",
       "    </tr>\n",
       "  </thead>\n",
       "  <tbody>\n",
       "    <tr>\n",
       "      <th>3</th>\n",
       "      <td>GradientBoostingClassifier(random_state=42)</td>\n",
       "      <td>0.6619</td>\n",
       "      <td>0.6699</td>\n",
       "      <td>0.6619</td>\n",
       "      <td>0.6579</td>\n",
       "    </tr>\n",
       "    <tr>\n",
       "      <th>5</th>\n",
       "      <td>KNeighborsClassifier()</td>\n",
       "      <td>0.6524</td>\n",
       "      <td>0.6546</td>\n",
       "      <td>0.6524</td>\n",
       "      <td>0.6511</td>\n",
       "    </tr>\n",
       "    <tr>\n",
       "      <th>1</th>\n",
       "      <td>SVC(random_state=42)</td>\n",
       "      <td>0.6643</td>\n",
       "      <td>0.6983</td>\n",
       "      <td>0.6643</td>\n",
       "      <td>0.6496</td>\n",
       "    </tr>\n",
       "    <tr>\n",
       "      <th>2</th>\n",
       "      <td>RandomForestClassifier(random_state=42)</td>\n",
       "      <td>0.6405</td>\n",
       "      <td>0.6425</td>\n",
       "      <td>0.6405</td>\n",
       "      <td>0.6388</td>\n",
       "    </tr>\n",
       "    <tr>\n",
       "      <th>6</th>\n",
       "      <td>AdaBoostClassifier(random_state=42)</td>\n",
       "      <td>0.6119</td>\n",
       "      <td>0.6177</td>\n",
       "      <td>0.6119</td>\n",
       "      <td>0.6076</td>\n",
       "    </tr>\n",
       "    <tr>\n",
       "      <th>4</th>\n",
       "      <td>BernoulliNB()</td>\n",
       "      <td>0.6000</td>\n",
       "      <td>0.6041</td>\n",
       "      <td>0.6000</td>\n",
       "      <td>0.5969</td>\n",
       "    </tr>\n",
       "    <tr>\n",
       "      <th>0</th>\n",
       "      <td>LogisticRegression(random_state=42)</td>\n",
       "      <td>0.5881</td>\n",
       "      <td>0.5897</td>\n",
       "      <td>0.5881</td>\n",
       "      <td>0.5860</td>\n",
       "    </tr>\n",
       "  </tbody>\n",
       "</table>\n",
       "</div>"
      ],
      "text/plain": [
       "                                         model  accuracy  precision  recall  \\\n",
       "3  GradientBoostingClassifier(random_state=42)    0.6619     0.6699  0.6619   \n",
       "5                       KNeighborsClassifier()    0.6524     0.6546  0.6524   \n",
       "1                         SVC(random_state=42)    0.6643     0.6983  0.6643   \n",
       "2      RandomForestClassifier(random_state=42)    0.6405     0.6425  0.6405   \n",
       "6          AdaBoostClassifier(random_state=42)    0.6119     0.6177  0.6119   \n",
       "4                                BernoulliNB()    0.6000     0.6041  0.6000   \n",
       "0          LogisticRegression(random_state=42)    0.5881     0.5897  0.5881   \n",
       "\n",
       "   f1_score  \n",
       "3    0.6579  \n",
       "5    0.6511  \n",
       "1    0.6496  \n",
       "2    0.6388  \n",
       "6    0.6076  \n",
       "4    0.5969  \n",
       "0    0.5860  "
      ]
     },
     "execution_count": 17,
     "metadata": {},
     "output_type": "execute_result"
    }
   ],
   "source": [
    "df_cv.sort_values(by='f1_score', ascending=False)"
   ]
  },
  {
   "cell_type": "markdown",
   "id": "d57f6301-6029-473d-893b-55f7b7c90f86",
   "metadata": {},
   "source": [
    "Picking up the best model based on F1-Score"
   ]
  },
  {
   "cell_type": "code",
   "execution_count": 18,
   "id": "f3b6e75b-4d7d-4e04-9f0c-22d2010178b6",
   "metadata": {},
   "outputs": [],
   "source": [
    "# Create Voting Classifier\n",
    "model = models[3].fit(X_train, y_train)"
   ]
  },
  {
   "cell_type": "code",
   "execution_count": 19,
   "id": "8d31dad3-e933-4687-ba8f-3a6834655c01",
   "metadata": {},
   "outputs": [],
   "source": [
    "insample_predictions = model.predict(X_train)"
   ]
  },
  {
   "cell_type": "code",
   "execution_count": 20,
   "id": "4ffc72c5-cc35-4c6f-aa32-bc60518b871d",
   "metadata": {},
   "outputs": [
    {
     "name": "stdout",
     "output_type": "stream",
     "text": [
      "Insample Accuracy 89.76%\n",
      "              precision    recall  f1-score   support\n",
      "\n",
      "    Non Rice       0.86      0.93      0.89       195\n",
      "        Rice       0.93      0.87      0.90       225\n",
      "\n",
      "    accuracy                           0.90       420\n",
      "   macro avg       0.90      0.90      0.90       420\n",
      "weighted avg       0.90      0.90      0.90       420\n",
      "\n"
     ]
    }
   ],
   "source": [
    "print(\"Insample Accuracy {0:.2f}%\".format(100*accuracy_score(insample_predictions,y_train)))\n",
    "print(classification_report(insample_predictions,y_train))"
   ]
  },
  {
   "cell_type": "markdown",
   "id": "e847aa72-37b8-498b-bd63-4130d1366b7e",
   "metadata": {},
   "source": [
    "<p> For plotting a confusion matrix we define the function <b><i>plot_confusion_matrix</i></b>."
   ]
  },
  {
   "cell_type": "code",
   "execution_count": 21,
   "id": "bb97e054-6e73-4d90-89e2-36ce094721f5",
   "metadata": {},
   "outputs": [],
   "source": [
    "def plot_confusion_matrix(true_value,predicted_value,title,labels):\n",
    "    '''\n",
    "    Plots a confusion matrix.\n",
    "    Attributes:\n",
    "    true_value - The ground truth value for comparision.\n",
    "    predicted_value - The values predicted by the model.\n",
    "    title - Title of the plot.\n",
    "    labels - The x and y labels of the plot.\n",
    "    '''\n",
    "    cm = confusion_matrix(true_value,predicted_value)\n",
    "    ax= plt.subplot()\n",
    "    sns.heatmap(cm, annot=True, fmt='g', ax=ax, cmap='Blues');\n",
    "    ax.set_xlabel('Predicted labels');\n",
    "    ax.set_ylabel('True labels'); \n",
    "    ax.set_title(title); \n",
    "    ax.xaxis.set_ticklabels(labels); \n",
    "    ax.yaxis.set_ticklabels(labels);"
   ]
  },
  {
   "cell_type": "code",
   "execution_count": 22,
   "id": "99c77326-b7d5-4dc4-8101-96bece8aceb2",
   "metadata": {},
   "outputs": [
    {
     "data": {
      "image/png": "[encoded data removed]",
      "text/plain": [
       "<Figure size 640x480 with 2 Axes>"
      ]
     },
     "metadata": {},
     "output_type": "display_data"
    }
   ],
   "source": [
    "plot_confusion_matrix(y_train,insample_predictions,\"Model Level 1: Logistic\\nRegression Model In-Sample Results\",['Rice', 'Non Rice'])"
   ]
  },
  {
   "cell_type": "markdown",
   "id": "e4fd9f2d-1add-499a-b692-f616ec02871d",
   "metadata": {},
   "source": [
    "### Out-Sample Evaluation"
   ]
  },
  {
   "cell_type": "markdown",
   "id": "5a9e1681-0cae-42c1-ad00-0ad3bb7eca71",
   "metadata": {},
   "source": [
    "When evaluating a machine learning model, it is essential to correctly and fairly evaluate the model's ability to generalize. This is because models have a tendency to overfit the dataset they are trained on. To estimate the out-of-sample performance, we will predict on the test data now. "
   ]
  },
  {
   "cell_type": "code",
   "execution_count": 23,
   "id": "0d7324d1-35fd-463f-9734-f2ad1552ae52",
   "metadata": {},
   "outputs": [],
   "source": [
    "outsample_predictions = model.predict(X_test)"
   ]
  },
  {
   "cell_type": "code",
   "execution_count": 24,
   "id": "4fdec320-a85c-49b9-8177-a65d5b85317a",
   "metadata": {},
   "outputs": [
    {
     "name": "stdout",
     "output_type": "stream",
     "text": [
      "Accuracy 63.33%\n",
      "              precision    recall  f1-score   support\n",
      "\n",
      "    Non Rice       0.64      0.60      0.62        90\n",
      "        Rice       0.62      0.67      0.65        90\n",
      "\n",
      "    accuracy                           0.63       180\n",
      "   macro avg       0.63      0.63      0.63       180\n",
      "weighted avg       0.63      0.63      0.63       180\n",
      "\n"
     ]
    }
   ],
   "source": [
    "print(\"Accuracy {0:.2f}%\".format(100*accuracy_score(outsample_predictions, y_test)))\n",
    "print(classification_report(y_test, outsample_predictions))"
   ]
  },
  {
   "cell_type": "code",
   "execution_count": 25,
   "id": "da5ed827-f3b8-47a2-865c-61bd2cd9621c",
   "metadata": {},
   "outputs": [
    {
     "data": {
      "image/png": "[encoded data removed]",
      "text/plain": [
       "<Figure size 640x480 with 2 Axes>"
      ]
     },
     "metadata": {},
     "output_type": "display_data"
    }
   ],
   "source": [
    "plot_confusion_matrix(y_test, outsample_predictions,\"Model Level 1: Logistic\\nRegression Model Out-Sample Results\",['Rice', 'Non Rice'])"
   ]
  },
  {
   "cell_type": "markdown",
   "id": "0f0bd4a4-5976-4a37-8f5b-fe46cf841e1f",
   "metadata": {},
   "source": [
    "From the above, we see that the model is able to achieve an F1 score of <b>0.57</b>. This is not a very good score, so your goal is to improve this score.  "
   ]
  },
  {
   "cell_type": "markdown",
   "id": "3a4f9e63-4c57-4269-ac07-5568a6548918",
   "metadata": {},
   "source": [
    "## Hyperparameter Tuning"
   ]
  },
  {
   "cell_type": "markdown",
   "id": "5ec2c9ee-475f-4086-be8a-be1ded07b4c3",
   "metadata": {},
   "source": [
    "### Gradient Boosting"
   ]
  },
  {
   "cell_type": "code",
   "execution_count": 26,
   "id": "7753643d-a3db-4703-b5ba-56cf6e80bea2",
   "metadata": {
    "tags": []
   },
   "outputs": [],
   "source": [
    "gb_hyperparams = {\n",
    "    'learning_rate': [0.001, 0.01, 0.1, 0.2, 0.3],\n",
    "    'n_estimators': [50, 100, 200],\n",
    "    'max_depth': [3, 5, 7, 9],\n",
    "    'min_samples_leaf': [1, 2, 4, 6],\n",
    "    'min_samples_split': [2, 4, 6, 8],\n",
    "}"
   ]
  },
  {
   "cell_type": "code",
   "execution_count": 27,
   "id": "54affe1e-7495-4857-b963-685daa43f77d",
   "metadata": {},
   "outputs": [
    {
     "name": "stdout",
     "output_type": "stream",
     "text": [
      "Fitting 5 folds for each of 100 candidates, totalling 500 fits\n",
      "[CV 1/5] END learning_rate=0.1, max_depth=9, min_samples_leaf=6, min_samples_split=4, n_estimators=200;, score=0.595 total time=   0.3s\n",
      "[CV 5/5] END learning_rate=0.1, max_depth=9, min_samples_leaf=6, min_samples_split=4, n_estimators=200;, score=0.643 total time=   0.3s\n",
      "[CV 3/5] END learning_rate=0.001, max_depth=7, min_samples_leaf=6, min_samples_split=4, n_estimators=200;, score=0.655 total time=   0.3s\n",
      "[CV 4/5] END learning_rate=0.2, max_depth=5, min_samples_leaf=2, min_samples_split=4, n_estimators=50;, score=0.667 total time=   0.1s\n",
      "[CV 2/5] END learning_rate=0.3, max_depth=9, min_samples_leaf=2, min_samples_split=6, n_estimators=100;, score=0.595 total time=   0.2s\n",
      "[CV 1/5] END learning_rate=0.3, max_depth=3, min_samples_leaf=4, min_samples_split=6, n_estimators=50;, score=0.595 total time=   0.1s\n",
      "[CV 3/5] END learning_rate=0.3, max_depth=3, min_samples_leaf=4, min_samples_split=6, n_estimators=50;, score=0.738 total time=   0.1s\n",
      "[CV 5/5] END learning_rate=0.3, max_depth=3, min_samples_leaf=4, min_samples_split=6, n_estimators=50;, score=0.619 total time=   0.1s\n",
      "[CV 3/5] END learning_rate=0.2, max_depth=5, min_samples_leaf=6, min_samples_split=6, n_estimators=100;, score=0.655 total time=   0.1s\n",
      "[CV 2/5] END learning_rate=0.3, max_depth=3, min_samples_leaf=1, min_samples_split=4, n_estimators=100;, score=0.655 total time=   0.1s\n",
      "[CV 2/5] END learning_rate=0.2, max_depth=7, min_samples_leaf=4, min_samples_split=2, n_estimators=100;, score=0.655 total time=   0.2s\n",
      "[CV 5/5] END learning_rate=0.2, max_depth=7, min_samples_leaf=4, min_samples_split=2, n_estimators=100;, score=0.607 total time=   0.2s\n",
      "[CV 4/5] END learning_rate=0.2, max_depth=9, min_samples_leaf=1, min_samples_split=6, n_estimators=100;, score=0.655 total time=   0.2s\n",
      "[CV 3/5] END learning_rate=0.2, max_depth=9, min_samples_leaf=2, min_samples_split=8, n_estimators=100;, score=0.679 total time=   0.2s\n",
      "[CV 2/5] END learning_rate=0.3, max_depth=7, min_samples_leaf=4, min_samples_split=4, n_estimators=200;, score=0.619 total time=   0.3s\n",
      "[CV 1/5] END learning_rate=0.01, max_depth=3, min_samples_leaf=1, min_samples_split=8, n_estimators=100;, score=0.631 total time=   0.1s\n",
      "[CV 3/5] END learning_rate=0.01, max_depth=3, min_samples_leaf=1, min_samples_split=8, n_estimators=100;, score=0.643 total time=   0.1s\n",
      "[CV 1/5] END learning_rate=0.1, max_depth=3, min_samples_leaf=2, min_samples_split=4, n_estimators=50;, score=0.595 total time=   0.0s\n",
      "[CV 2/5] END learning_rate=0.1, max_depth=3, min_samples_leaf=2, min_samples_split=4, n_estimators=50;, score=0.667 total time=   0.0s\n",
      "[CV 1/5] END learning_rate=0.1, max_depth=3, min_samples_leaf=4, min_samples_split=8, n_estimators=200;, score=0.607 total time=   0.2s\n",
      "[CV 5/5] END learning_rate=0.1, max_depth=3, min_samples_leaf=4, min_samples_split=8, n_estimators=200;, score=0.643 total time=   0.2s\n",
      "[CV 4/5] END learning_rate=0.001, max_depth=7, min_samples_leaf=2, min_samples_split=2, n_estimators=100;, score=0.655 total time=   0.3s\n",
      "[CV 5/5] END learning_rate=0.01, max_depth=3, min_samples_leaf=2, min_samples_split=6, n_estimators=100;, score=0.619 total time=   0.2s\n",
      "[CV 5/5] END learning_rate=0.1, max_depth=3, min_samples_leaf=4, min_samples_split=2, n_estimators=100;, score=0.679 total time=   0.1s\n",
      "[CV 4/5] END learning_rate=0.01, max_depth=5, min_samples_leaf=4, min_samples_split=2, n_estimators=50;, score=0.643 total time=   0.1s\n",
      "[CV 3/5] END learning_rate=0.001, max_depth=3, min_samples_leaf=4, min_samples_split=4, n_estimators=200;, score=0.643 total time=   0.2s\n",
      "[CV 1/5] END learning_rate=0.1, max_depth=3, min_samples_leaf=4, min_samples_split=2, n_estimators=200;, score=0.607 total time=   0.2s\n",
      "[CV 1/5] END learning_rate=0.001, max_depth=5, min_samples_leaf=2, min_samples_split=6, n_estimators=50;, score=0.667 total time=   0.1s\n",
      "[CV 3/5] END learning_rate=0.001, max_depth=5, min_samples_leaf=2, min_samples_split=6, n_estimators=50;, score=0.643 total time=   0.1s\n",
      "[CV 5/5] END learning_rate=0.001, max_depth=5, min_samples_leaf=2, min_samples_split=6, n_estimators=50;, score=0.631 total time=   0.1s\n",
      "[CV 4/5] END learning_rate=0.3, max_depth=9, min_samples_leaf=2, min_samples_split=2, n_estimators=200;, score=0.643 total time=   0.4s\n",
      "[CV 2/5] END learning_rate=0.01, max_depth=5, min_samples_leaf=2, min_samples_split=6, n_estimators=100;, score=0.655 total time=   0.1s\n",
      "[CV 5/5] END learning_rate=0.01, max_depth=5, min_samples_leaf=2, min_samples_split=6, n_estimators=100;, score=0.583 total time=   0.1s\n",
      "[CV 3/5] END learning_rate=0.1, max_depth=7, min_samples_leaf=1, min_samples_split=8, n_estimators=200;, score=0.667 total time=   0.3s\n",
      "[CV 2/5] END learning_rate=0.3, max_depth=5, min_samples_leaf=4, min_samples_split=6, n_estimators=100;, score=0.655 total time=   0.1s\n",
      "[CV 5/5] END learning_rate=0.3, max_depth=5, min_samples_leaf=4, min_samples_split=6, n_estimators=100;, score=0.619 total time=   0.1s\n",
      "[CV 3/5] END learning_rate=0.001, max_depth=9, min_samples_leaf=4, min_samples_split=2, n_estimators=50;, score=0.667 total time=   0.1s\n",
      "[CV 1/5] END learning_rate=0.01, max_depth=7, min_samples_leaf=6, min_samples_split=6, n_estimators=50;, score=0.583 total time=   0.1s\n",
      "[CV 5/5] END learning_rate=0.01, max_depth=7, min_samples_leaf=6, min_samples_split=6, n_estimators=50;, score=0.655 total time=   0.1s\n",
      "[CV 4/5] END learning_rate=0.3, max_depth=9, min_samples_leaf=1, min_samples_split=2, n_estimators=200;, score=0.655 total time=   0.6s\n",
      "[CV 2/5] END learning_rate=0.1, max_depth=5, min_samples_leaf=2, min_samples_split=4, n_estimators=100;, score=0.619 total time=   0.1s\n",
      "[CV 5/5] END learning_rate=0.1, max_depth=5, min_samples_leaf=2, min_samples_split=4, n_estimators=100;, score=0.690 total time=   0.1s\n",
      "[CV 3/5] END learning_rate=0.01, max_depth=9, min_samples_leaf=6, min_samples_split=8, n_estimators=200;, score=0.690 total time=   0.4s\n",
      "[CV 2/5] END learning_rate=0.01, max_depth=3, min_samples_leaf=2, min_samples_split=8, n_estimators=100;, score=0.643 total time=   0.1s\n",
      "[CV 4/5] END learning_rate=0.01, max_depth=3, min_samples_leaf=2, min_samples_split=8, n_estimators=100;, score=0.702 total time=   0.1s\n",
      "[CV 5/5] END learning_rate=0.01, max_depth=3, min_samples_leaf=2, min_samples_split=8, n_estimators=100;, score=0.619 total time=   0.1s\n",
      "[CV 2/5] END learning_rate=0.01, max_depth=5, min_samples_leaf=2, min_samples_split=2, n_estimators=200;, score=0.667 total time=   0.4s\n",
      "[CV 5/5] END learning_rate=0.01, max_depth=5, min_samples_leaf=2, min_samples_split=2, n_estimators=200;, score=0.643 total time=   0.4s\n",
      "[CV 1/5] END learning_rate=0.1, max_depth=7, min_samples_leaf=1, min_samples_split=6, n_estimators=50;, score=0.607 total time=   0.1s\n",
      "[CV 4/5] END learning_rate=0.1, max_depth=7, min_samples_leaf=1, min_samples_split=6, n_estimators=50;, score=0.667 total time=   0.1s\n",
      "[CV 3/5] END learning_rate=0.001, max_depth=7, min_samples_leaf=1, min_samples_split=2, n_estimators=50;, score=0.643 total time=   0.1s\n",
      "[CV 5/5] END learning_rate=0.001, max_depth=7, min_samples_leaf=1, min_samples_split=2, n_estimators=50;, score=0.571 total time=   0.1s\n",
      "[CV 4/5] END learning_rate=0.3, max_depth=7, min_samples_leaf=4, min_samples_split=6, n_estimators=200;, score=0.679 total time=   0.3s\n",
      "[CV 1/5] END learning_rate=0.01, max_depth=9, min_samples_leaf=1, min_samples_split=8, n_estimators=200;, score=0.607 total time=   0.5s\n",
      "[CV 5/5] END learning_rate=0.01, max_depth=9, min_samples_leaf=1, min_samples_split=8, n_estimators=200;, score=0.679 total time=   0.5s\n",
      "[CV 4/5] END learning_rate=0.001, max_depth=9, min_samples_leaf=6, min_samples_split=6, n_estimators=200;, score=0.643 total time=   0.4s\n",
      "[CV 2/5] END learning_rate=0.1, max_depth=9, min_samples_leaf=4, min_samples_split=2, n_estimators=50;, score=0.643 total time=   0.1s\n",
      "[CV 5/5] END learning_rate=0.1, max_depth=9, min_samples_leaf=4, min_samples_split=2, n_estimators=50;, score=0.655 total time=   0.1s\n",
      "[CV 4/5] END learning_rate=0.3, max_depth=5, min_samples_leaf=2, min_samples_split=2, n_estimators=50;, score=0.607 total time=   0.1s\n",
      "[CV 2/5] END learning_rate=0.2, max_depth=7, min_samples_leaf=1, min_samples_split=6, n_estimators=200;, score=0.643 total time=   0.3s\n",
      "[CV 2/5] END learning_rate=0.1, max_depth=9, min_samples_leaf=6, min_samples_split=4, n_estimators=200;, score=0.655 total time=   0.3s\n",
      "[CV 1/5] END learning_rate=0.001, max_depth=7, min_samples_leaf=6, min_samples_split=4, n_estimators=200;, score=0.619 total time=   0.4s\n",
      "[CV 4/5] END learning_rate=0.001, max_depth=7, min_samples_leaf=6, min_samples_split=4, n_estimators=200;, score=0.667 total time=   0.3s\n",
      "[CV 5/5] END learning_rate=0.2, max_depth=5, min_samples_leaf=2, min_samples_split=4, n_estimators=50;, score=0.667 total time=   0.1s\n",
      "[CV 3/5] END learning_rate=0.3, max_depth=9, min_samples_leaf=2, min_samples_split=6, n_estimators=100;, score=0.643 total time=   0.2s\n",
      "[CV 2/5] END learning_rate=0.3, max_depth=3, min_samples_leaf=4, min_samples_split=6, n_estimators=50;, score=0.619 total time=   0.1s\n",
      "[CV 4/5] END learning_rate=0.3, max_depth=3, min_samples_leaf=4, min_samples_split=6, n_estimators=50;, score=0.690 total time=   0.1s\n",
      "[CV 1/5] END learning_rate=0.2, max_depth=5, min_samples_leaf=6, min_samples_split=6, n_estimators=100;, score=0.583 total time=   0.1s\n",
      "[CV 5/5] END learning_rate=0.2, max_depth=5, min_samples_leaf=6, min_samples_split=6, n_estimators=100;, score=0.607 total time=   0.1s\n",
      "[CV 4/5] END learning_rate=0.3, max_depth=3, min_samples_leaf=1, min_samples_split=4, n_estimators=100;, score=0.667 total time=   0.1s\n",
      "[CV 3/5] END learning_rate=0.2, max_depth=7, min_samples_leaf=4, min_samples_split=2, n_estimators=100;, score=0.655 total time=   0.2s\n",
      "[CV 2/5] END learning_rate=0.2, max_depth=9, min_samples_leaf=1, min_samples_split=6, n_estimators=100;, score=0.655 total time=   0.2s\n",
      "[CV 1/5] END learning_rate=0.2, max_depth=9, min_samples_leaf=2, min_samples_split=8, n_estimators=100;, score=0.571 total time=   0.2s\n",
      "[CV 1/5] END learning_rate=0.3, max_depth=7, min_samples_leaf=4, min_samples_split=4, n_estimators=200;, score=0.595 total time=   0.4s\n",
      "[CV 5/5] END learning_rate=0.3, max_depth=7, min_samples_leaf=4, min_samples_split=4, n_estimators=200;, score=0.643 total time=   0.3s\n",
      "[CV 5/5] END learning_rate=0.1, max_depth=3, min_samples_leaf=2, min_samples_split=4, n_estimators=50;, score=0.643 total time=   0.0s\n",
      "[CV 3/5] END learning_rate=0.1, max_depth=3, min_samples_leaf=4, min_samples_split=8, n_estimators=200;, score=0.738 total time=   0.2s\n",
      "[CV 1/5] END learning_rate=0.001, max_depth=7, min_samples_leaf=2, min_samples_split=2, n_estimators=100;, score=0.607 total time=   0.2s\n",
      "[CV 5/5] END learning_rate=0.001, max_depth=7, min_samples_leaf=2, min_samples_split=2, n_estimators=100;, score=0.571 total time=   0.3s\n",
      "[CV 3/5] END learning_rate=0.1, max_depth=3, min_samples_leaf=4, min_samples_split=2, n_estimators=100;, score=0.714 total time=   0.1s\n",
      "[CV 1/5] END learning_rate=0.01, max_depth=5, min_samples_leaf=4, min_samples_split=2, n_estimators=50;, score=0.583 total time=   0.1s\n",
      "[CV 3/5] END learning_rate=0.01, max_depth=5, min_samples_leaf=4, min_samples_split=2, n_estimators=50;, score=0.631 total time=   0.1s\n",
      "[CV 2/5] END learning_rate=0.001, max_depth=3, min_samples_leaf=4, min_samples_split=4, n_estimators=200;, score=0.631 total time=   0.2s\n",
      "[CV 2/5] END learning_rate=0.1, max_depth=3, min_samples_leaf=4, min_samples_split=2, n_estimators=200;, score=0.643 total time=   0.2s\n",
      "[CV 5/5] END learning_rate=0.1, max_depth=3, min_samples_leaf=4, min_samples_split=2, n_estimators=200;, score=0.643 total time=   0.2s\n",
      "[CV 2/5] END learning_rate=0.3, max_depth=9, min_samples_leaf=2, min_samples_split=2, n_estimators=200;, score=0.631 total time=   0.5s\n",
      "[CV 1/5] END learning_rate=0.01, max_depth=5, min_samples_leaf=2, min_samples_split=6, n_estimators=100;, score=0.655 total time=   0.1s\n",
      "[CV 4/5] END learning_rate=0.01, max_depth=5, min_samples_leaf=2, min_samples_split=6, n_estimators=100;, score=0.702 total time=   0.1s\n",
      "[CV 2/5] END learning_rate=0.1, max_depth=7, min_samples_leaf=1, min_samples_split=8, n_estimators=200;, score=0.643 total time=   0.3s\n",
      "[CV 1/5] END learning_rate=0.3, max_depth=5, min_samples_leaf=4, min_samples_split=6, n_estimators=100;, score=0.607 total time=   0.1s\n",
      "[CV 3/5] END learning_rate=0.3, max_depth=5, min_samples_leaf=4, min_samples_split=6, n_estimators=100;, score=0.619 total time=   0.1s\n",
      "[CV 1/5] END learning_rate=0.001, max_depth=9, min_samples_leaf=4, min_samples_split=2, n_estimators=50;, score=0.583 total time=   0.1s\n",
      "[CV 5/5] END learning_rate=0.001, max_depth=9, min_samples_leaf=4, min_samples_split=2, n_estimators=50;, score=0.631 total time=   0.1s\n",
      "[CV 4/5] END learning_rate=0.01, max_depth=7, min_samples_leaf=6, min_samples_split=6, n_estimators=50;, score=0.667 total time=   0.1s\n",
      "[CV 3/5] END learning_rate=0.3, max_depth=9, min_samples_leaf=1, min_samples_split=2, n_estimators=200;, score=0.679 total time=   0.6s\n",
      "[CV 1/5] END learning_rate=0.1, max_depth=5, min_samples_leaf=2, min_samples_split=4, n_estimators=100;, score=0.583 total time=   0.1s\n",
      "[CV 4/5] END learning_rate=0.1, max_depth=5, min_samples_leaf=2, min_samples_split=4, n_estimators=100;, score=0.643 total time=   0.1s\n",
      "[CV 2/5] END learning_rate=0.01, max_depth=9, min_samples_leaf=6, min_samples_split=8, n_estimators=200;, score=0.655 total time=   0.5s\n",
      "[CV 1/5] END learning_rate=0.01, max_depth=3, min_samples_leaf=2, min_samples_split=8, n_estimators=100;, score=0.631 total time=   0.1s\n",
      "[CV 3/5] END learning_rate=0.01, max_depth=3, min_samples_leaf=2, min_samples_split=8, n_estimators=100;, score=0.643 total time=   0.1s\n",
      "[CV 1/5] END learning_rate=0.01, max_depth=5, min_samples_leaf=2, min_samples_split=2, n_estimators=200;, score=0.643 total time=   0.4s\n",
      "[CV 4/5] END learning_rate=0.01, max_depth=5, min_samples_leaf=2, min_samples_split=2, n_estimators=200;, score=0.714 total time=   0.4s\n",
      "[CV 3/5] END learning_rate=0.3, max_depth=9, min_samples_leaf=1, min_samples_split=6, n_estimators=50;, score=0.643 total time=   0.1s\n",
      "[CV 2/5] END learning_rate=0.1, max_depth=7, min_samples_leaf=1, min_samples_split=6, n_estimators=50;, score=0.631 total time=   0.1s\n",
      "[CV 5/5] END learning_rate=0.1, max_depth=7, min_samples_leaf=1, min_samples_split=6, n_estimators=50;, score=0.631 total time=   0.1s\n",
      "[CV 4/5] END learning_rate=0.001, max_depth=7, min_samples_leaf=1, min_samples_split=2, n_estimators=50;, score=0.643 total time=   0.2s\n",
      "[CV 3/5] END learning_rate=0.3, max_depth=7, min_samples_leaf=4, min_samples_split=6, n_estimators=200;, score=0.643 total time=   0.5s\n",
      "[CV 2/5] END learning_rate=0.01, max_depth=9, min_samples_leaf=1, min_samples_split=8, n_estimators=200;, score=0.619 total time=   0.5s\n",
      "[CV 1/5] END learning_rate=0.2, max_depth=9, min_samples_leaf=6, min_samples_split=4, n_estimators=50;, score=0.607 total time=   0.1s\n",
      "[CV 4/5] END learning_rate=0.2, max_depth=9, min_samples_leaf=6, min_samples_split=4, n_estimators=50;, score=0.643 total time=   0.1s\n",
      "[CV 2/5] END learning_rate=0.1, max_depth=3, min_samples_leaf=4, min_samples_split=2, n_estimators=50;, score=0.655 total time=   0.0s\n",
      "[CV 4/5] END learning_rate=0.1, max_depth=3, min_samples_leaf=4, min_samples_split=2, n_estimators=50;, score=0.690 total time=   0.1s\n",
      "[CV 2/5] END learning_rate=0.001, max_depth=9, min_samples_leaf=6, min_samples_split=6, n_estimators=200;, score=0.655 total time=   0.4s\n",
      "[CV 1/5] END learning_rate=0.1, max_depth=9, min_samples_leaf=4, min_samples_split=2, n_estimators=50;, score=0.595 total time=   0.1s\n",
      "[CV 4/5] END learning_rate=0.1, max_depth=9, min_samples_leaf=4, min_samples_split=2, n_estimators=50;, score=0.690 total time=   0.1s\n",
      "[CV 3/5] END learning_rate=0.3, max_depth=5, min_samples_leaf=2, min_samples_split=2, n_estimators=50;, score=0.619 total time=   0.1s\n",
      "[CV 5/5] END learning_rate=0.3, max_depth=5, min_samples_leaf=2, min_samples_split=2, n_estimators=50;, score=0.607 total time=   0.1s\n",
      "[CV 3/5] END learning_rate=0.2, max_depth=7, min_samples_leaf=1, min_samples_split=6, n_estimators=200;, score=0.679 total time=   0.3s\n",
      "[CV 2/5] END learning_rate=0.2, max_depth=9, min_samples_leaf=6, min_samples_split=8, n_estimators=50;, score=0.702 total time=   0.1s\n",
      "[CV 4/5] END learning_rate=0.2, max_depth=9, min_samples_leaf=6, min_samples_split=8, n_estimators=50;, score=0.643 total time=   0.1s\n",
      "[CV 3/5] END learning_rate=0.1, max_depth=9, min_samples_leaf=6, min_samples_split=4, n_estimators=200;, score=0.643 total time=   0.3s\n",
      "[CV 2/5] END learning_rate=0.001, max_depth=7, min_samples_leaf=6, min_samples_split=4, n_estimators=200;, score=0.643 total time=   0.4s\n",
      "[CV 1/5] END learning_rate=0.2, max_depth=5, min_samples_leaf=2, min_samples_split=4, n_estimators=50;, score=0.571 total time=   0.1s\n",
      "[CV 2/5] END learning_rate=0.2, max_depth=5, min_samples_leaf=2, min_samples_split=4, n_estimators=50;, score=0.643 total time=   0.1s\n",
      "[CV 3/5] END learning_rate=0.2, max_depth=5, min_samples_leaf=2, min_samples_split=4, n_estimators=50;, score=0.607 total time=   0.1s\n",
      "[CV 1/5] END learning_rate=0.3, max_depth=9, min_samples_leaf=2, min_samples_split=6, n_estimators=100;, score=0.607 total time=   0.2s\n",
      "[CV 5/5] END learning_rate=0.3, max_depth=9, min_samples_leaf=2, min_samples_split=6, n_estimators=100;, score=0.643 total time=   0.2s\n",
      "[CV 4/5] END learning_rate=0.2, max_depth=5, min_samples_leaf=6, min_samples_split=6, n_estimators=100;, score=0.690 total time=   0.1s\n",
      "[CV 3/5] END learning_rate=0.3, max_depth=3, min_samples_leaf=1, min_samples_split=4, n_estimators=100;, score=0.667 total time=   0.1s\n",
      "[CV 5/5] END learning_rate=0.3, max_depth=3, min_samples_leaf=1, min_samples_split=4, n_estimators=100;, score=0.619 total time=   0.1s\n",
      "[CV 4/5] END learning_rate=0.2, max_depth=7, min_samples_leaf=4, min_samples_split=2, n_estimators=100;, score=0.655 total time=   0.2s\n",
      "[CV 3/5] END learning_rate=0.2, max_depth=9, min_samples_leaf=1, min_samples_split=6, n_estimators=100;, score=0.655 total time=   0.2s\n",
      "[CV 2/5] END learning_rate=0.2, max_depth=9, min_samples_leaf=2, min_samples_split=8, n_estimators=100;, score=0.607 total time=   0.2s\n",
      "[CV 4/5] END learning_rate=0.2, max_depth=9, min_samples_leaf=2, min_samples_split=8, n_estimators=100;, score=0.607 total time=   0.2s\n",
      "[CV 3/5] END learning_rate=0.3, max_depth=7, min_samples_leaf=4, min_samples_split=4, n_estimators=200;, score=0.643 total time=   0.3s\n",
      "[CV 2/5] END learning_rate=0.01, max_depth=3, min_samples_leaf=1, min_samples_split=8, n_estimators=100;, score=0.643 total time=   0.1s\n",
      "[CV 5/5] END learning_rate=0.01, max_depth=3, min_samples_leaf=1, min_samples_split=8, n_estimators=100;, score=0.619 total time=   0.1s\n",
      "[CV 4/5] END learning_rate=0.1, max_depth=3, min_samples_leaf=2, min_samples_split=4, n_estimators=50;, score=0.643 total time=   0.1s\n",
      "[CV 4/5] END learning_rate=0.1, max_depth=3, min_samples_leaf=4, min_samples_split=8, n_estimators=200;, score=0.667 total time=   0.2s\n",
      "[CV 2/5] END learning_rate=0.001, max_depth=7, min_samples_leaf=2, min_samples_split=2, n_estimators=100;, score=0.667 total time=   0.2s\n",
      "[CV 1/5] END learning_rate=0.01, max_depth=3, min_samples_leaf=2, min_samples_split=6, n_estimators=100;, score=0.631 total time=   0.1s\n",
      "[CV 3/5] END learning_rate=0.01, max_depth=3, min_samples_leaf=2, min_samples_split=6, n_estimators=100;, score=0.643 total time=   0.1s\n",
      "[CV 1/5] END learning_rate=0.1, max_depth=3, min_samples_leaf=4, min_samples_split=2, n_estimators=100;, score=0.631 total time=   0.1s\n",
      "[CV 4/5] END learning_rate=0.1, max_depth=3, min_samples_leaf=4, min_samples_split=2, n_estimators=100;, score=0.667 total time=   0.1s\n",
      "[CV 5/5] END learning_rate=0.01, max_depth=5, min_samples_leaf=4, min_samples_split=2, n_estimators=50;, score=0.583 total time=   0.1s\n",
      "[CV 4/5] END learning_rate=0.001, max_depth=3, min_samples_leaf=4, min_samples_split=4, n_estimators=200;, score=0.667 total time=   0.2s\n",
      "[CV 3/5] END learning_rate=0.1, max_depth=3, min_samples_leaf=4, min_samples_split=2, n_estimators=200;, score=0.738 total time=   0.2s\n",
      "[CV 2/5] END learning_rate=0.001, max_depth=5, min_samples_leaf=2, min_samples_split=6, n_estimators=50;, score=0.667 total time=   0.1s\n",
      "[CV 4/5] END learning_rate=0.001, max_depth=5, min_samples_leaf=2, min_samples_split=6, n_estimators=50;, score=0.631 total time=   0.1s\n",
      "[CV 1/5] END learning_rate=0.3, max_depth=9, min_samples_leaf=2, min_samples_split=2, n_estimators=200;, score=0.583 total time=   0.5s\n",
      "[CV 5/5] END learning_rate=0.3, max_depth=9, min_samples_leaf=2, min_samples_split=2, n_estimators=200;, score=0.631 total time=   0.4s\n",
      "[CV 4/5] END learning_rate=0.1, max_depth=7, min_samples_leaf=1, min_samples_split=8, n_estimators=200;, score=0.643 total time=   0.3s\n",
      "[CV 4/5] END learning_rate=0.3, max_depth=5, min_samples_leaf=4, min_samples_split=6, n_estimators=100;, score=0.679 total time=   0.1s\n",
      "[CV 4/5] END learning_rate=0.001, max_depth=9, min_samples_leaf=4, min_samples_split=2, n_estimators=50;, score=0.643 total time=   0.1s\n",
      "[CV 2/5] END learning_rate=0.01, max_depth=7, min_samples_leaf=6, min_samples_split=6, n_estimators=50;, score=0.679 total time=   0.1s\n",
      "[CV 1/5] END learning_rate=0.3, max_depth=9, min_samples_leaf=1, min_samples_split=2, n_estimators=200;, score=0.595 total time=   0.7s\n",
      "[CV 5/5] END learning_rate=0.3, max_depth=9, min_samples_leaf=1, min_samples_split=2, n_estimators=200;, score=0.619 total time=   0.7s\n",
      "[CV 5/5] END learning_rate=0.01, max_depth=9, min_samples_leaf=6, min_samples_split=8, n_estimators=200;, score=0.655 total time=   1.0s\n",
      "[CV 2/5] END learning_rate=0.3, max_depth=9, min_samples_leaf=1, min_samples_split=6, n_estimators=50;, score=0.643 total time=   0.2s\n",
      "[CV 5/5] END learning_rate=0.3, max_depth=9, min_samples_leaf=1, min_samples_split=6, n_estimators=50;, score=0.595 total time=   0.1s\n",
      "[CV 3/5] END learning_rate=0.1, max_depth=7, min_samples_leaf=1, min_samples_split=6, n_estimators=50;, score=0.667 total time=   0.1s\n",
      "[CV 2/5] END learning_rate=0.001, max_depth=7, min_samples_leaf=1, min_samples_split=2, n_estimators=50;, score=0.655 total time=   0.1s\n",
      "[CV 1/5] END learning_rate=0.3, max_depth=7, min_samples_leaf=4, min_samples_split=6, n_estimators=200;, score=0.595 total time=   0.3s\n",
      "[CV 5/5] END learning_rate=0.3, max_depth=7, min_samples_leaf=4, min_samples_split=6, n_estimators=200;, score=0.643 total time=   0.3s\n",
      "[CV 4/5] END learning_rate=0.01, max_depth=9, min_samples_leaf=1, min_samples_split=8, n_estimators=200;, score=0.690 total time=   0.5s\n",
      "[CV 2/5] END learning_rate=0.2, max_depth=9, min_samples_leaf=6, min_samples_split=4, n_estimators=50;, score=0.702 total time=   0.1s\n",
      "[CV 5/5] END learning_rate=0.2, max_depth=9, min_samples_leaf=6, min_samples_split=4, n_estimators=50;, score=0.643 total time=   0.1s\n",
      "[CV 5/5] END learning_rate=0.1, max_depth=3, min_samples_leaf=4, min_samples_split=2, n_estimators=50;, score=0.655 total time=   0.0s\n",
      "[CV 3/5] END learning_rate=0.001, max_depth=9, min_samples_leaf=6, min_samples_split=6, n_estimators=200;, score=0.667 total time=   0.4s\n",
      "[CV 5/5] END learning_rate=0.001, max_depth=9, min_samples_leaf=6, min_samples_split=6, n_estimators=200;, score=0.643 total time=   0.4s\n",
      "[CV 4/5] END learning_rate=0.2, max_depth=7, min_samples_leaf=1, min_samples_split=6, n_estimators=200;, score=0.655 total time=   0.3s\n",
      "[CV 3/5] END learning_rate=0.2, max_depth=9, min_samples_leaf=6, min_samples_split=8, n_estimators=50;, score=0.643 total time=   0.1s\n",
      "[CV 1/5] END learning_rate=0.01, max_depth=7, min_samples_leaf=4, min_samples_split=2, n_estimators=200;, score=0.631 total time=   0.4s\n",
      "[CV 1/5] END learning_rate=0.3, max_depth=3, min_samples_leaf=2, min_samples_split=2, n_estimators=50;, score=0.607 total time=   0.1s\n",
      "[CV 3/5] END learning_rate=0.3, max_depth=3, min_samples_leaf=2, min_samples_split=2, n_estimators=50;, score=0.643 total time=   0.1s\n",
      "[CV 5/5] END learning_rate=0.3, max_depth=3, min_samples_leaf=2, min_samples_split=2, n_estimators=50;, score=0.631 total time=   0.1s\n",
      "[CV 3/5] END learning_rate=0.1, max_depth=5, min_samples_leaf=6, min_samples_split=4, n_estimators=50;, score=0.714 total time=   0.1s\n",
      "[CV 1/5] END learning_rate=0.001, max_depth=5, min_samples_leaf=6, min_samples_split=6, n_estimators=50;, score=0.679 total time=   0.1s\n",
      "[CV 4/5] END learning_rate=0.001, max_depth=5, min_samples_leaf=6, min_samples_split=6, n_estimators=50;, score=0.679 total time=   0.1s\n",
      "[CV 3/5] END learning_rate=0.3, max_depth=3, min_samples_leaf=1, min_samples_split=4, n_estimators=50;, score=0.690 total time=   0.0s\n",
      "[CV 4/5] END learning_rate=0.1, max_depth=9, min_samples_leaf=6, min_samples_split=4, n_estimators=200;, score=0.702 total time=   0.4s\n",
      "[CV 5/5] END learning_rate=0.001, max_depth=7, min_samples_leaf=6, min_samples_split=4, n_estimators=200;, score=0.607 total time=   0.4s\n",
      "[CV 4/5] END learning_rate=0.3, max_depth=9, min_samples_leaf=2, min_samples_split=6, n_estimators=100;, score=0.619 total time=   0.2s\n",
      "[CV 2/5] END learning_rate=0.2, max_depth=5, min_samples_leaf=6, min_samples_split=6, n_estimators=100;, score=0.643 total time=   0.1s\n",
      "[CV 1/5] END learning_rate=0.3, max_depth=3, min_samples_leaf=1, min_samples_split=4, n_estimators=100;, score=0.619 total time=   0.1s\n",
      "[CV 1/5] END learning_rate=0.2, max_depth=7, min_samples_leaf=4, min_samples_split=2, n_estimators=100;, score=0.560 total time=   0.2s\n",
      "[CV 1/5] END learning_rate=0.2, max_depth=9, min_samples_leaf=1, min_samples_split=6, n_estimators=100;, score=0.607 total time=   0.2s\n",
      "[CV 5/5] END learning_rate=0.2, max_depth=9, min_samples_leaf=1, min_samples_split=6, n_estimators=100;, score=0.607 total time=   0.2s\n",
      "[CV 5/5] END learning_rate=0.2, max_depth=9, min_samples_leaf=2, min_samples_split=8, n_estimators=100;, score=0.607 total time=   0.2s\n",
      "[CV 4/5] END learning_rate=0.3, max_depth=7, min_samples_leaf=4, min_samples_split=4, n_estimators=200;, score=0.679 total time=   0.4s\n",
      "[CV 4/5] END learning_rate=0.01, max_depth=3, min_samples_leaf=1, min_samples_split=8, n_estimators=100;, score=0.702 total time=   0.1s\n",
      "[CV 3/5] END learning_rate=0.1, max_depth=3, min_samples_leaf=2, min_samples_split=4, n_estimators=50;, score=0.714 total time=   0.1s\n",
      "[CV 2/5] END learning_rate=0.1, max_depth=3, min_samples_leaf=4, min_samples_split=8, n_estimators=200;, score=0.643 total time=   0.2s\n",
      "[CV 3/5] END learning_rate=0.001, max_depth=7, min_samples_leaf=2, min_samples_split=2, n_estimators=100;, score=0.643 total time=   0.2s\n",
      "[CV 2/5] END learning_rate=0.01, max_depth=3, min_samples_leaf=2, min_samples_split=6, n_estimators=100;, score=0.643 total time=   0.1s\n",
      "[CV 4/5] END learning_rate=0.01, max_depth=3, min_samples_leaf=2, min_samples_split=6, n_estimators=100;, score=0.702 total time=   0.1s\n",
      "[CV 2/5] END learning_rate=0.1, max_depth=3, min_samples_leaf=4, min_samples_split=2, n_estimators=100;, score=0.643 total time=   0.2s\n",
      "[CV 2/5] END learning_rate=0.01, max_depth=5, min_samples_leaf=4, min_samples_split=2, n_estimators=50;, score=0.667 total time=   0.1s\n",
      "[CV 1/5] END learning_rate=0.001, max_depth=3, min_samples_leaf=4, min_samples_split=4, n_estimators=200;, score=0.595 total time=   0.2s\n",
      "[CV 5/5] END learning_rate=0.001, max_depth=3, min_samples_leaf=4, min_samples_split=4, n_estimators=200;, score=0.607 total time=   0.2s\n",
      "[CV 4/5] END learning_rate=0.1, max_depth=3, min_samples_leaf=4, min_samples_split=2, n_estimators=200;, score=0.667 total time=   0.2s\n",
      "[CV 3/5] END learning_rate=0.3, max_depth=9, min_samples_leaf=2, min_samples_split=2, n_estimators=200;, score=0.679 total time=   0.5s\n",
      "[CV 3/5] END learning_rate=0.01, max_depth=5, min_samples_leaf=2, min_samples_split=6, n_estimators=100;, score=0.667 total time=   0.1s\n",
      "[CV 1/5] END learning_rate=0.1, max_depth=7, min_samples_leaf=1, min_samples_split=8, n_estimators=200;, score=0.607 total time=   0.3s\n",
      "[CV 5/5] END learning_rate=0.1, max_depth=7, min_samples_leaf=1, min_samples_split=8, n_estimators=200;, score=0.643 total time=   0.3s\n",
      "[CV 2/5] END learning_rate=0.001, max_depth=9, min_samples_leaf=4, min_samples_split=2, n_estimators=50;, score=0.619 total time=   0.2s\n",
      "[CV 3/5] END learning_rate=0.01, max_depth=7, min_samples_leaf=6, min_samples_split=6, n_estimators=50;, score=0.667 total time=   0.1s\n",
      "[CV 2/5] END learning_rate=0.3, max_depth=9, min_samples_leaf=1, min_samples_split=2, n_estimators=200;, score=0.643 total time=   0.7s\n",
      "[CV 3/5] END learning_rate=0.1, max_depth=5, min_samples_leaf=2, min_samples_split=4, n_estimators=100;, score=0.690 total time=   0.1s\n",
      "[CV 1/5] END learning_rate=0.01, max_depth=9, min_samples_leaf=6, min_samples_split=8, n_estimators=200;, score=0.643 total time=   0.4s\n",
      "[CV 4/5] END learning_rate=0.01, max_depth=9, min_samples_leaf=6, min_samples_split=8, n_estimators=200;, score=0.643 total time=   0.6s\n",
      "[CV 3/5] END learning_rate=0.01, max_depth=5, min_samples_leaf=2, min_samples_split=2, n_estimators=200;, score=0.690 total time=   0.4s\n",
      "[CV 1/5] END learning_rate=0.3, max_depth=9, min_samples_leaf=1, min_samples_split=6, n_estimators=50;, score=0.595 total time=   0.2s\n",
      "[CV 4/5] END learning_rate=0.3, max_depth=9, min_samples_leaf=1, min_samples_split=6, n_estimators=50;, score=0.679 total time=   0.2s\n",
      "[CV 1/5] END learning_rate=0.001, max_depth=7, min_samples_leaf=1, min_samples_split=2, n_estimators=50;, score=0.631 total time=   0.2s\n",
      "[CV 2/5] END learning_rate=0.3, max_depth=7, min_samples_leaf=4, min_samples_split=6, n_estimators=200;, score=0.619 total time=   0.5s\n",
      "[CV 3/5] END learning_rate=0.01, max_depth=9, min_samples_leaf=1, min_samples_split=8, n_estimators=200;, score=0.690 total time=   0.5s\n",
      "[CV 3/5] END learning_rate=0.2, max_depth=9, min_samples_leaf=6, min_samples_split=4, n_estimators=50;, score=0.643 total time=   0.1s\n",
      "[CV 1/5] END learning_rate=0.1, max_depth=3, min_samples_leaf=4, min_samples_split=2, n_estimators=50;, score=0.619 total time=   0.0s\n",
      "[CV 3/5] END learning_rate=0.1, max_depth=3, min_samples_leaf=4, min_samples_split=2, n_estimators=50;, score=0.690 total time=   0.1s\n",
      "[CV 1/5] END learning_rate=0.001, max_depth=9, min_samples_leaf=6, min_samples_split=6, n_estimators=200;, score=0.595 total time=   0.5s\n",
      "[CV 3/5] END learning_rate=0.1, max_depth=9, min_samples_leaf=4, min_samples_split=2, n_estimators=50;, score=0.667 total time=   0.1s\n",
      "[CV 1/5] END learning_rate=0.3, max_depth=5, min_samples_leaf=2, min_samples_split=2, n_estimators=50;, score=0.571 total time=   0.1s\n",
      "[CV 2/5] END learning_rate=0.3, max_depth=5, min_samples_leaf=2, min_samples_split=2, n_estimators=50;, score=0.607 total time=   0.1s\n",
      "[CV 1/5] END learning_rate=0.2, max_depth=7, min_samples_leaf=1, min_samples_split=6, n_estimators=200;, score=0.607 total time=   0.4s\n",
      "[CV 1/5] END learning_rate=0.2, max_depth=9, min_samples_leaf=6, min_samples_split=8, n_estimators=50;, score=0.607 total time=   0.1s\n",
      "[CV 5/5] END learning_rate=0.2, max_depth=9, min_samples_leaf=6, min_samples_split=8, n_estimators=50;, score=0.643 total time=   0.1s\n",
      "[CV 3/5] END learning_rate=0.01, max_depth=7, min_samples_leaf=4, min_samples_split=2, n_estimators=200;, score=0.702 total time=   0.4s\n",
      "[CV 2/5] END learning_rate=0.3, max_depth=3, min_samples_leaf=2, min_samples_split=2, n_estimators=50;, score=0.631 total time=   0.1s\n",
      "[CV 4/5] END learning_rate=0.3, max_depth=3, min_samples_leaf=2, min_samples_split=2, n_estimators=50;, score=0.631 total time=   0.1s\n",
      "[CV 2/5] END learning_rate=0.1, max_depth=5, min_samples_leaf=6, min_samples_split=4, n_estimators=50;, score=0.690 total time=   0.1s\n",
      "[CV 5/5] END learning_rate=0.1, max_depth=5, min_samples_leaf=6, min_samples_split=4, n_estimators=50;, score=0.619 total time=   0.1s\n",
      "[CV 3/5] END learning_rate=0.001, max_depth=5, min_samples_leaf=6, min_samples_split=6, n_estimators=50;, score=0.631 total time=   0.1s\n",
      "[CV 2/5] END learning_rate=0.3, max_depth=3, min_samples_leaf=1, min_samples_split=4, n_estimators=50;, score=0.631 total time=   0.0s\n",
      "[CV 5/5] END learning_rate=0.3, max_depth=3, min_samples_leaf=1, min_samples_split=4, n_estimators=50;, score=0.583 total time=   0.1s\n",
      "[CV 3/5] END learning_rate=0.001, max_depth=5, min_samples_leaf=4, min_samples_split=2, n_estimators=100;, score=0.643 total time=   0.2s\n",
      "[CV 2/5] END learning_rate=0.001, max_depth=3, min_samples_leaf=1, min_samples_split=4, n_estimators=200;, score=0.619 total time=   0.2s\n",
      "[CV 4/5] END learning_rate=0.2, max_depth=5, min_samples_leaf=6, min_samples_split=2, n_estimators=100;, score=0.690 total time=   0.1s\n",
      "[CV 5/5] END learning_rate=0.2, max_depth=5, min_samples_leaf=6, min_samples_split=2, n_estimators=100;, score=0.607 total time=   0.1s\n",
      "[CV 2/5] END learning_rate=0.3, max_depth=7, min_samples_leaf=6, min_samples_split=2, n_estimators=200;, score=0.643 total time=   0.3s\n",
      "[CV 2/5] END learning_rate=0.01, max_depth=7, min_samples_leaf=4, min_samples_split=2, n_estimators=200;, score=0.655 total time=   0.4s\n",
      "[CV 5/5] END learning_rate=0.01, max_depth=7, min_samples_leaf=4, min_samples_split=2, n_estimators=200;, score=0.631 total time=   0.4s\n",
      "[CV 1/5] END learning_rate=0.3, max_depth=3, min_samples_leaf=1, min_samples_split=4, n_estimators=50;, score=0.631 total time=   0.0s\n",
      "[CV 4/5] END learning_rate=0.3, max_depth=3, min_samples_leaf=1, min_samples_split=4, n_estimators=50;, score=0.667 total time=   0.1s\n",
      "[CV 2/5] END learning_rate=0.001, max_depth=5, min_samples_leaf=4, min_samples_split=2, n_estimators=100;, score=0.667 total time=   0.2s\n",
      "[CV 1/5] END learning_rate=0.001, max_depth=3, min_samples_leaf=1, min_samples_split=4, n_estimators=200;, score=0.607 total time=   0.2s\n",
      "[CV 2/5] END learning_rate=0.2, max_depth=5, min_samples_leaf=6, min_samples_split=2, n_estimators=100;, score=0.643 total time=   0.1s\n",
      "[CV 3/5] END learning_rate=0.2, max_depth=5, min_samples_leaf=6, min_samples_split=2, n_estimators=100;, score=0.655 total time=   0.1s\n",
      "[CV 3/5] END learning_rate=0.001, max_depth=9, min_samples_leaf=1, min_samples_split=8, n_estimators=100;, score=0.667 total time=   0.2s\n",
      "[CV 4/5] END learning_rate=0.001, max_depth=9, min_samples_leaf=1, min_samples_split=8, n_estimators=100;, score=0.631 total time=   0.2s\n",
      "[CV 4/5] END learning_rate=0.3, max_depth=7, min_samples_leaf=6, min_samples_split=2, n_estimators=200;, score=0.679 total time=   0.3s\n",
      "[CV 5/5] END learning_rate=0.3, max_depth=7, min_samples_leaf=6, min_samples_split=2, n_estimators=200;, score=0.655 total time=   0.3s\n",
      "[CV 2/5] END learning_rate=0.001, max_depth=3, min_samples_leaf=4, min_samples_split=8, n_estimators=200;, score=0.631 total time=   0.2s\n",
      "[CV 3/5] END learning_rate=0.001, max_depth=3, min_samples_leaf=4, min_samples_split=8, n_estimators=200;, score=0.643 total time=   0.2s\n",
      "[CV 4/5] END learning_rate=0.001, max_depth=3, min_samples_leaf=4, min_samples_split=8, n_estimators=200;, score=0.667 total time=   0.2s\n",
      "[CV 5/5] END learning_rate=0.001, max_depth=3, min_samples_leaf=4, min_samples_split=8, n_estimators=200;, score=0.607 total time=   0.2s\n",
      "[CV 5/5] END learning_rate=0.001, max_depth=9, min_samples_leaf=4, min_samples_split=8, n_estimators=200;, score=0.631 total time=   0.4s\n",
      "[CV 1/5] END learning_rate=0.01, max_depth=9, min_samples_leaf=1, min_samples_split=4, n_estimators=100;, score=0.607 total time=   0.3s\n",
      "[CV 1/5] END learning_rate=0.001, max_depth=7, min_samples_leaf=6, min_samples_split=8, n_estimators=200;, score=0.619 total time=   0.4s\n",
      "[CV 2/5] END learning_rate=0.001, max_depth=7, min_samples_leaf=6, min_samples_split=8, n_estimators=200;, score=0.643 total time=   0.4s\n",
      "[CV 4/5] END learning_rate=0.2, max_depth=5, min_samples_leaf=2, min_samples_split=8, n_estimators=200;, score=0.667 total time=   0.3s\n",
      "[CV 5/5] END learning_rate=0.2, max_depth=5, min_samples_leaf=2, min_samples_split=8, n_estimators=200;, score=0.619 total time=   0.2s\n",
      "[CV 2/5] END learning_rate=0.1, max_depth=9, min_samples_leaf=2, min_samples_split=4, n_estimators=100;, score=0.619 total time=   0.3s\n",
      "[CV 3/5] END learning_rate=0.1, max_depth=9, min_samples_leaf=2, min_samples_split=4, n_estimators=100;, score=0.643 total time=   0.2s\n",
      "[CV 3/5] END learning_rate=0.2, max_depth=9, min_samples_leaf=2, min_samples_split=4, n_estimators=100;, score=0.679 total time=   0.2s\n",
      "[CV 4/5] END learning_rate=0.2, max_depth=9, min_samples_leaf=2, min_samples_split=4, n_estimators=100;, score=0.619 total time=   0.2s\n",
      "[CV 1/5] END learning_rate=0.2, max_depth=9, min_samples_leaf=6, min_samples_split=6, n_estimators=100;, score=0.607 total time=   0.2s\n",
      "[CV 2/5] END learning_rate=0.2, max_depth=9, min_samples_leaf=6, min_samples_split=6, n_estimators=100;, score=0.679 total time=   0.2s\n",
      "[CV 5/5] END learning_rate=0.2, max_depth=9, min_samples_leaf=6, min_samples_split=6, n_estimators=100;, score=0.631 total time=   0.2s\n",
      "[CV 1/5] END learning_rate=0.3, max_depth=5, min_samples_leaf=1, min_samples_split=6, n_estimators=100;, score=0.571 total time=   0.1s\n",
      "[CV 2/5] END learning_rate=0.1, max_depth=7, min_samples_leaf=6, min_samples_split=8, n_estimators=200;, score=0.667 total time=   0.3s\n",
      "[CV 3/5] END learning_rate=0.1, max_depth=7, min_samples_leaf=6, min_samples_split=8, n_estimators=200;, score=0.595 total time=   0.3s\n",
      "[CV 5/5] END learning_rate=0.3, max_depth=5, min_samples_leaf=2, min_samples_split=4, n_estimators=50;, score=0.607 total time=   0.1s\n",
      "[CV 1/5] END learning_rate=0.1, max_depth=3, min_samples_leaf=2, min_samples_split=6, n_estimators=50;, score=0.631 total time=   0.0s\n",
      "[CV 4/5] END learning_rate=0.1, max_depth=3, min_samples_leaf=2, min_samples_split=6, n_estimators=50;, score=0.667 total time=   0.1s\n",
      "[CV 5/5] END learning_rate=0.1, max_depth=3, min_samples_leaf=2, min_samples_split=6, n_estimators=50;, score=0.643 total time=   0.0s\n",
      "[CV 5/5] END learning_rate=0.01, max_depth=7, min_samples_leaf=2, min_samples_split=6, n_estimators=50;, score=0.643 total time=   0.1s\n",
      "[CV 1/5] END learning_rate=0.001, max_depth=7, min_samples_leaf=6, min_samples_split=2, n_estimators=200;, score=0.619 total time=   0.3s\n",
      "[CV 3/5] END learning_rate=0.2, max_depth=5, min_samples_leaf=4, min_samples_split=8, n_estimators=100;, score=0.702 total time=   0.1s\n",
      "[CV 4/5] END learning_rate=0.2, max_depth=5, min_samples_leaf=4, min_samples_split=8, n_estimators=100;, score=0.667 total time=   0.1s\n",
      "[CV 2/5] END learning_rate=0.001, max_depth=9, min_samples_leaf=6, min_samples_split=8, n_estimators=50;, score=0.643 total time=   0.1s\n",
      "[CV 3/5] END learning_rate=0.001, max_depth=9, min_samples_leaf=6, min_samples_split=8, n_estimators=50;, score=0.631 total time=   0.1s\n",
      "[CV 5/5] END learning_rate=0.3, max_depth=7, min_samples_leaf=1, min_samples_split=6, n_estimators=200;, score=0.607 total time=   0.3s\n",
      "[CV 1/5] END learning_rate=0.1, max_depth=7, min_samples_leaf=2, min_samples_split=6, n_estimators=50;, score=0.583 total time=   0.1s\n",
      "[CV 1/5] END learning_rate=0.01, max_depth=9, min_samples_leaf=2, min_samples_split=2, n_estimators=100;, score=0.619 total time=   0.3s\n",
      "[CV 2/5] END learning_rate=0.01, max_depth=9, min_samples_leaf=2, min_samples_split=2, n_estimators=100;, score=0.607 total time=   0.3s\n",
      "[CV 1/5] END learning_rate=0.001, max_depth=7, min_samples_leaf=1, min_samples_split=4, n_estimators=100;, score=0.607 total time=   0.2s\n",
      "[CV 2/5] END learning_rate=0.001, max_depth=7, min_samples_leaf=1, min_samples_split=4, n_estimators=100;, score=0.679 total time=   0.2s\n",
      "[CV 1/5] END learning_rate=0.2, max_depth=3, min_samples_leaf=2, min_samples_split=6, n_estimators=50;, score=0.607 total time=   0.1s\n",
      "[CV 2/5] END learning_rate=0.2, max_depth=3, min_samples_leaf=2, min_samples_split=6, n_estimators=50;, score=0.643 total time=   0.0s\n",
      "[CV 2/5] END learning_rate=0.2, max_depth=5, min_samples_leaf=6, min_samples_split=2, n_estimators=200;, score=0.643 total time=   0.2s\n",
      "[CV 3/5] END learning_rate=0.2, max_depth=5, min_samples_leaf=6, min_samples_split=2, n_estimators=200;, score=0.679 total time=   0.3s\n",
      "[CV 2/5] END learning_rate=0.001, max_depth=5, min_samples_leaf=2, min_samples_split=4, n_estimators=100;, score=0.655 total time=   0.1s\n",
      "[CV 3/5] END learning_rate=0.001, max_depth=5, min_samples_leaf=2, min_samples_split=4, n_estimators=100;, score=0.643 total time=   0.2s\n",
      "[CV 3/5] END learning_rate=0.1, max_depth=7, min_samples_leaf=4, min_samples_split=4, n_estimators=200;, score=0.643 total time=   0.3s\n",
      "[CV 4/5] END learning_rate=0.1, max_depth=7, min_samples_leaf=4, min_samples_split=4, n_estimators=200;, score=0.667 total time=   0.3s\n",
      "[CV 5/5] END learning_rate=0.01, max_depth=3, min_samples_leaf=1, min_samples_split=4, n_estimators=100;, score=0.619 total time=   0.1s\n",
      "[CV 1/5] END learning_rate=0.001, max_depth=5, min_samples_leaf=2, min_samples_split=8, n_estimators=100;, score=0.667 total time=   0.1s\n",
      "[CV 3/5] END learning_rate=0.3, max_depth=7, min_samples_leaf=4, min_samples_split=8, n_estimators=100;, score=0.643 total time=   0.2s\n",
      "[CV 4/5] END learning_rate=0.3, max_depth=7, min_samples_leaf=4, min_samples_split=8, n_estimators=100;, score=0.679 total time=   0.2s[CV 1/5] END learning_rate=0.001, max_depth=5, min_samples_leaf=4, min_samples_split=2, n_estimators=100;, score=0.655 total time=   0.2s\n",
      "[CV 5/5] END learning_rate=0.001, max_depth=5, min_samples_leaf=4, min_samples_split=2, n_estimators=100;, score=0.643 total time=   0.2s\n",
      "[CV 5/5] END learning_rate=0.001, max_depth=3, min_samples_leaf=1, min_samples_split=4, n_estimators=200;, score=0.607 total time=   0.2s\n",
      "[CV 1/5] END learning_rate=0.2, max_depth=5, min_samples_leaf=6, min_samples_split=2, n_estimators=100;, score=0.583 total time=   0.1s\n",
      "[CV 5/5] END learning_rate=0.001, max_depth=9, min_samples_leaf=1, min_samples_split=8, n_estimators=100;, score=0.595 total time=   0.2s\n",
      "[CV 1/5] END learning_rate=0.3, max_depth=7, min_samples_leaf=6, min_samples_split=2, n_estimators=200;, score=0.619 total time=   0.3s\n",
      "[CV 3/5] END learning_rate=0.3, max_depth=9, min_samples_leaf=1, min_samples_split=4, n_estimators=200;, score=0.679 total time=   0.4s\n",
      "[CV 4/5] END learning_rate=0.3, max_depth=9, min_samples_leaf=1, min_samples_split=4, n_estimators=200;, score=0.667 total time=   0.4s\n",
      "[CV 5/5] END learning_rate=0.3, max_depth=7, min_samples_leaf=2, min_samples_split=2, n_estimators=50;, score=0.667 total time=   0.1s\n",
      "[CV 1/5] END learning_rate=0.1, max_depth=5, min_samples_leaf=1, min_samples_split=6, n_estimators=50;, score=0.595 total time=   0.1s\n",
      "[CV 1/5] END learning_rate=0.001, max_depth=9, min_samples_leaf=4, min_samples_split=8, n_estimators=200;, score=0.619 total time=   0.5s\n",
      "[CV 2/5] END learning_rate=0.001, max_depth=9, min_samples_leaf=4, min_samples_split=8, n_estimators=200;, score=0.619 total time=   0.5s\n",
      "[CV 5/5] END learning_rate=0.001, max_depth=7, min_samples_leaf=6, min_samples_split=8, n_estimators=200;, score=0.607 total time=   0.4s\n",
      "[CV 1/5] END learning_rate=0.2, max_depth=5, min_samples_leaf=2, min_samples_split=8, n_estimators=200;, score=0.583 total time=   0.2s\n",
      "[CV 3/5] END learning_rate=0.1, max_depth=9, min_samples_leaf=4, min_samples_split=2, n_estimators=200;, score=0.667 total time=   0.4s\n",
      "[CV 4/5] END learning_rate=0.1, max_depth=9, min_samples_leaf=4, min_samples_split=2, n_estimators=200;, score=0.679 total time=   0.5s\n",
      "[CV 4/5] END learning_rate=0.1, max_depth=9, min_samples_leaf=2, min_samples_split=4, n_estimators=100;, score=0.643 total time=   0.2s\n",
      "[CV 5/5] END learning_rate=0.1, max_depth=9, min_samples_leaf=2, min_samples_split=4, n_estimators=100;, score=0.619 total time=   0.2s\n",
      "[CV 2/5] END learning_rate=0.01, max_depth=3, min_samples_leaf=1, min_samples_split=4, n_estimators=200;, score=0.655 total time=   0.2s\n",
      "[CV 3/5] END learning_rate=0.01, max_depth=3, min_samples_leaf=1, min_samples_split=4, n_estimators=200;, score=0.655 total time=   0.2s\n",
      "[CV 2/5] END learning_rate=0.3, max_depth=5, min_samples_leaf=1, min_samples_split=6, n_estimators=100;, score=0.655 total time=   0.1s\n",
      "[CV 3/5] END learning_rate=0.3, max_depth=5, min_samples_leaf=1, min_samples_split=6, n_estimators=100;, score=0.667 total time=   0.1s\n",
      "[CV 3/5] END learning_rate=0.2, max_depth=5, min_samples_leaf=2, min_samples_split=4, n_estimators=200;, score=0.595 total time=   0.3s\n",
      "[CV 4/5] END learning_rate=0.2, max_depth=5, min_samples_leaf=2, min_samples_split=4, n_estimators=200;, score=0.643 total time=   0.3s\n",
      "[CV 1/5] END learning_rate=0.3, max_depth=5, min_samples_leaf=2, min_samples_split=4, n_estimators=50;, score=0.571 total time=   0.1s\n",
      "[CV 2/5] END learning_rate=0.3, max_depth=5, min_samples_leaf=2, min_samples_split=4, n_estimators=50;, score=0.607 total time=   0.1s\n",
      "[CV 2/5] END learning_rate=0.1, max_depth=3, min_samples_leaf=2, min_samples_split=6, n_estimators=50;, score=0.655 total time=   0.1s\n",
      "[CV 3/5] END learning_rate=0.1, max_depth=3, min_samples_leaf=2, min_samples_split=6, n_estimators=50;, score=0.702 total time=   0.0s\n",
      "[CV 3/5] END learning_rate=0.01, max_depth=7, min_samples_leaf=2, min_samples_split=6, n_estimators=50;, score=0.667 total time=   0.1s\n",
      "[CV 4/5] END learning_rate=0.01, max_depth=7, min_samples_leaf=2, min_samples_split=6, n_estimators=50;, score=0.655 total time=   0.1s\n",
      "[CV 4/5] END learning_rate=0.001, max_depth=7, min_samples_leaf=6, min_samples_split=2, n_estimators=200;, score=0.667 total time=   0.3s\n",
      "[CV 5/5] END learning_rate=0.001, max_depth=7, min_samples_leaf=6, min_samples_split=2, n_estimators=200;, score=0.607 total time=   0.4s\n",
      "[CV 4/5] END learning_rate=0.001, max_depth=9, min_samples_leaf=6, min_samples_split=8, n_estimators=50;, score=0.631 total time=   0.1s\n",
      "[CV 5/5] END learning_rate=0.001, max_depth=9, min_samples_leaf=6, min_samples_split=8, n_estimators=50;, score=0.655 total time=   0.1s\n",
      "[CV 2/5] END learning_rate=0.1, max_depth=7, min_samples_leaf=2, min_samples_split=6, n_estimators=50;, score=0.667 total time=   0.1s\n",
      "[CV 3/5] END learning_rate=0.1, max_depth=7, min_samples_leaf=2, min_samples_split=6, n_estimators=50;, score=0.643 total time=   0.1s\n",
      "[CV 4/5] END learning_rate=0.1, max_depth=7, min_samples_leaf=2, min_samples_split=6, n_estimators=50;, score=0.643 total time=   0.1s\n",
      "[CV 5/5] END learning_rate=0.1, max_depth=7, min_samples_leaf=2, min_samples_split=6, n_estimators=50;, score=0.643 total time=   0.1s\n",
      "[CV 3/5] END learning_rate=0.01, max_depth=9, min_samples_leaf=2, min_samples_split=2, n_estimators=100;, score=0.655 total time=   0.3s\n",
      "[CV 4/5] END learning_rate=0.01, max_depth=9, min_samples_leaf=2, min_samples_split=2, n_estimators=100;, score=0.607 total time=   0.3s\n",
      "[CV 2/5] END learning_rate=0.01, max_depth=5, min_samples_leaf=2, min_samples_split=8, n_estimators=100;, score=0.655 total time=   0.1s\n",
      "[CV 3/5] END learning_rate=0.01, max_depth=5, min_samples_leaf=2, min_samples_split=8, n_estimators=100;, score=0.667 total time=   0.1s\n",
      "[CV 4/5] END learning_rate=0.01, max_depth=5, min_samples_leaf=2, min_samples_split=8, n_estimators=100;, score=0.702 total time=   0.1s\n",
      "[CV 5/5] END learning_rate=0.01, max_depth=5, min_samples_leaf=2, min_samples_split=8, n_estimators=100;, score=0.583 total time=   0.1s\n",
      "[CV 1/5] END learning_rate=0.01, max_depth=3, min_samples_leaf=4, min_samples_split=2, n_estimators=200;, score=0.595 total time=   0.2s\n",
      "[CV 2/5] END learning_rate=0.01, max_depth=3, min_samples_leaf=4, min_samples_split=2, n_estimators=200;, score=0.655 total time=   0.2s\n",
      "[CV 5/5] END learning_rate=0.01, max_depth=3, min_samples_leaf=4, min_samples_split=2, n_estimators=200;, score=0.619 total time=   0.2s\n",
      "[CV 1/5] END learning_rate=0.001, max_depth=5, min_samples_leaf=2, min_samples_split=4, n_estimators=100;, score=0.667 total time=   0.2s\n",
      "[CV 5/5] END learning_rate=0.1, max_depth=7, min_samples_leaf=4, min_samples_split=4, n_estimators=200;, score=0.607 total time=   0.3s\n",
      "[CV 1/5] END learning_rate=0.1, max_depth=9, min_samples_leaf=1, min_samples_split=2, n_estimators=50;, score=0.607 total time=   0.2s\n",
      "[CV 1/5] END learning_rate=0.01, max_depth=3, min_samples_leaf=1, min_samples_split=4, n_estimators=100;, score=0.631 total time=   0.1s\n",
      "[CV 2/5] END learning_rate=0.01, max_depth=3, min_samples_leaf=1, min_samples_split=4, n_estimators=100;, score=0.631 total time=   0.1s\n",
      "[CV 2/5] END learning_rate=0.001, max_depth=5, min_samples_leaf=2, min_samples_split=8, n_estimators=100;, score=0.667 total time=   0.1s\n",
      "[CV 3/5] END learning_rate=0.001, max_depth=5, min_samples_leaf=2, min_samples_split=8, n_estimators=100;, score=0.643 total time=   0.1s\n",
      "[CV 5/5] END learning_rate=0.3, max_depth=7, min_samples_leaf=4, min_samples_split=8, n_estimators=100;, score=0.631 total time=   0.2s\n",
      "[CV 1/5] END learning_rate=0.01, max_depth=9, min_samples_leaf=4, min_samples_split=6, n_estimators=200;, score=0.619 total time=   0.5s\n",
      "[CV 2/5] END learning_rate=0.3, max_depth=9, min_samples_leaf=2, min_samples_split=8, n_estimators=200;, score=0.631 total time=   0.4s\n",
      "[CV 3/5] END learning_rate=0.3, max_depth=9, min_samples_leaf=2, min_samples_split=8, n_estimators=200;, score=0.667 total time=   0.4s\n",
      "[CV 2/5] END learning_rate=0.001, max_depth=3, min_samples_leaf=2, min_samples_split=8, n_estimators=100;, score=0.631 total time=   0.1s\n",
      "[CV 3/5] END learning_rate=0.001, max_depth=3, min_samples_leaf=2, min_samples_split=8, n_estimators=100;, score=0.643 total time=   0.1s[CV 5/5] END learning_rate=0.2, max_depth=7, min_samples_leaf=1, min_samples_split=6, n_estimators=200;, score=0.679 total time=   0.3s\n",
      "[CV 4/5] END learning_rate=0.01, max_depth=7, min_samples_leaf=4, min_samples_split=2, n_estimators=200;, score=0.679 total time=   0.4s\n",
      "[CV 1/5] END learning_rate=0.1, max_depth=5, min_samples_leaf=6, min_samples_split=4, n_estimators=50;, score=0.607 total time=   0.1s\n",
      "[CV 4/5] END learning_rate=0.1, max_depth=5, min_samples_leaf=6, min_samples_split=4, n_estimators=50;, score=0.679 total time=   0.1s\n",
      "[CV 2/5] END learning_rate=0.001, max_depth=5, min_samples_leaf=6, min_samples_split=6, n_estimators=50;, score=0.655 total time=   0.1s\n",
      "[CV 5/5] END learning_rate=0.001, max_depth=5, min_samples_leaf=6, min_samples_split=6, n_estimators=50;, score=0.655 total time=   0.1s\n",
      "[CV 4/5] END learning_rate=0.001, max_depth=5, min_samples_leaf=4, min_samples_split=2, n_estimators=100;, score=0.667 total time=   0.2s\n",
      "[CV 3/5] END learning_rate=0.001, max_depth=3, min_samples_leaf=1, min_samples_split=4, n_estimators=200;, score=0.643 total time=   0.2s\n",
      "[CV 4/5] END learning_rate=0.001, max_depth=3, min_samples_leaf=1, min_samples_split=4, n_estimators=200;, score=0.667 total time=   0.2s\n",
      "[CV 1/5] END learning_rate=0.001, max_depth=9, min_samples_leaf=1, min_samples_split=8, n_estimators=100;, score=0.583 total time=   0.2s\n",
      "[CV 2/5] END learning_rate=0.001, max_depth=9, min_samples_leaf=1, min_samples_split=8, n_estimators=100;, score=0.619 total time=   0.2s\n",
      "[CV 1/5] END learning_rate=0.3, max_depth=9, min_samples_leaf=1, min_samples_split=4, n_estimators=200;, score=0.595 total time=   0.5s\n",
      "[CV 2/5] END learning_rate=0.3, max_depth=9, min_samples_leaf=1, min_samples_split=4, n_estimators=200;, score=0.643 total time=   0.4s\n",
      "[CV 1/5] END learning_rate=0.3, max_depth=7, min_samples_leaf=2, min_samples_split=2, n_estimators=50;, score=0.595 total time=   0.1s\n",
      "[CV 2/5] END learning_rate=0.3, max_depth=7, min_samples_leaf=2, min_samples_split=2, n_estimators=50;, score=0.643 total time=   0.1s\n",
      "[CV 2/5] END learning_rate=0.1, max_depth=5, min_samples_leaf=1, min_samples_split=6, n_estimators=50;, score=0.679 total time=   0.1s\n",
      "[CV 3/5] END learning_rate=0.1, max_depth=5, min_samples_leaf=1, min_samples_split=6, n_estimators=50;, score=0.690 total time=   0.1s\n",
      "[CV 3/5] END learning_rate=0.001, max_depth=9, min_samples_leaf=4, min_samples_split=8, n_estimators=200;, score=0.702 total time=   0.4s\n",
      "[CV 4/5] END learning_rate=0.001, max_depth=9, min_samples_leaf=4, min_samples_split=8, n_estimators=200;, score=0.667 total time=   0.4s\n",
      "[CV 3/5] END learning_rate=0.001, max_depth=7, min_samples_leaf=6, min_samples_split=8, n_estimators=200;, score=0.655 total time=   0.3s\n",
      "[CV 4/5] END learning_rate=0.001, max_depth=7, min_samples_leaf=6, min_samples_split=8, n_estimators=200;, score=0.667 total time=   0.3s\n",
      "[CV 1/5] END learning_rate=0.1, max_depth=9, min_samples_leaf=4, min_samples_split=2, n_estimators=200;, score=0.571 total time=   0.4s\n",
      "[CV 2/5] END learning_rate=0.1, max_depth=9, min_samples_leaf=4, min_samples_split=2, n_estimators=200;, score=0.619 total time=   0.5s\n",
      "[CV 1/5] END learning_rate=0.2, max_depth=9, min_samples_leaf=2, min_samples_split=4, n_estimators=100;, score=0.619 total time=   0.2s\n",
      "[CV 2/5] END learning_rate=0.2, max_depth=9, min_samples_leaf=2, min_samples_split=4, n_estimators=100;, score=0.619 total time=   0.2s\n",
      "[CV 4/5] END learning_rate=0.01, max_depth=3, min_samples_leaf=1, min_samples_split=4, n_estimators=200;, score=0.679 total time=   0.2s\n",
      "[CV 5/5] END learning_rate=0.01, max_depth=3, min_samples_leaf=1, min_samples_split=4, n_estimators=200;, score=0.607 total time=   0.2s\n",
      "[CV 4/5] END learning_rate=0.3, max_depth=5, min_samples_leaf=1, min_samples_split=6, n_estimators=100;, score=0.655 total time=   0.1s\n",
      "[CV 5/5] END learning_rate=0.3, max_depth=5, min_samples_leaf=1, min_samples_split=6, n_estimators=100;, score=0.583 total time=   0.1s\n",
      "[CV 5/5] END learning_rate=0.2, max_depth=5, min_samples_leaf=2, min_samples_split=4, n_estimators=200;, score=0.667 total time=   0.3s\n",
      "[CV 1/5] END learning_rate=0.1, max_depth=7, min_samples_leaf=6, min_samples_split=8, n_estimators=200;, score=0.571 total time=   0.3s\n",
      "[CV 3/5] END learning_rate=0.3, max_depth=5, min_samples_leaf=2, min_samples_split=4, n_estimators=50;, score=0.619 total time=   0.1s\n",
      "[CV 4/5] END learning_rate=0.3, max_depth=5, min_samples_leaf=2, min_samples_split=4, n_estimators=50;, score=0.607 total time=   0.1s\n",
      "[CV 1/5] END learning_rate=0.01, max_depth=7, min_samples_leaf=2, min_samples_split=6, n_estimators=50;, score=0.619 total time=   0.1s\n",
      "[CV 2/5] END learning_rate=0.01, max_depth=7, min_samples_leaf=2, min_samples_split=6, n_estimators=50;, score=0.679 total time=   0.1s\n",
      "[CV 2/5] END learning_rate=0.001, max_depth=7, min_samples_leaf=6, min_samples_split=2, n_estimators=200;, score=0.643 total time=   0.4s\n",
      "[CV 3/5] END learning_rate=0.001, max_depth=7, min_samples_leaf=6, min_samples_split=2, n_estimators=200;, score=0.655 total time=   0.3s\n",
      "[CV 1/5] END learning_rate=0.3, max_depth=7, min_samples_leaf=1, min_samples_split=6, n_estimators=200;, score=0.631 total time=   0.3s\n",
      "[CV 2/5] END learning_rate=0.3, max_depth=7, min_samples_leaf=1, min_samples_split=6, n_estimators=200;, score=0.643 total time=   0.3s\n",
      "[CV 5/5] END learning_rate=0.01, max_depth=9, min_samples_leaf=2, min_samples_split=2, n_estimators=100;, score=0.619 total time=   0.3s\n",
      "[CV 1/5] END learning_rate=0.01, max_depth=5, min_samples_leaf=1, min_samples_split=6, n_estimators=50;, score=0.595 total time=   0.1s\n",
      "[CV 3/5] END learning_rate=0.001, max_depth=7, min_samples_leaf=1, min_samples_split=4, n_estimators=100;, score=0.631 total time=   0.2s\n",
      "[CV 4/5] END learning_rate=0.001, max_depth=7, min_samples_leaf=1, min_samples_split=4, n_estimators=100;, score=0.643 total time=   0.2s\n",
      "[CV 5/5] END learning_rate=0.2, max_depth=3, min_samples_leaf=2, min_samples_split=6, n_estimators=50;, score=0.643 total time=   0.0s\n",
      "[CV 1/5] END learning_rate=0.2, max_depth=5, min_samples_leaf=6, min_samples_split=2, n_estimators=200;, score=0.571 total time=   0.2s\n",
      "[CV 3/5] END learning_rate=0.01, max_depth=3, min_samples_leaf=4, min_samples_split=2, n_estimators=200;, score=0.655 total time=   0.2s\n",
      "[CV 4/5] END learning_rate=0.01, max_depth=3, min_samples_leaf=4, min_samples_split=2, n_estimators=200;, score=0.690 total time=   0.2s\n",
      "[CV 1/5] END learning_rate=0.1, max_depth=7, min_samples_leaf=4, min_samples_split=4, n_estimators=200;, score=0.607 total time=   0.3s\n",
      "[CV 2/5] END learning_rate=0.1, max_depth=7, min_samples_leaf=4, min_samples_split=4, n_estimators=200;, score=0.643 total time=   0.3s\n",
      "[CV 4/5] END learning_rate=0.1, max_depth=9, min_samples_leaf=1, min_samples_split=2, n_estimators=50;, score=0.679 total time=   0.2s\n",
      "[CV 5/5] END learning_rate=0.1, max_depth=9, min_samples_leaf=1, min_samples_split=2, n_estimators=50;, score=0.607 total time=   0.2s\n",
      "[CV 4/5] END learning_rate=0.001, max_depth=5, min_samples_leaf=2, min_samples_split=8, n_estimators=100;, score=0.631 total time=   0.1s\n",
      "[CV 5/5] END learning_rate=0.001, max_depth=5, min_samples_leaf=2, min_samples_split=8, n_estimators=100;, score=0.631 total time=   0.2s\n",
      "[CV 2/5] END learning_rate=0.01, max_depth=9, min_samples_leaf=4, min_samples_split=6, n_estimators=200;, score=0.607 total time=   0.5s\n",
      "[CV 3/5] END learning_rate=0.01, max_depth=9, min_samples_leaf=4, min_samples_split=6, n_estimators=200;, score=0.655 total time=   0.5s\n",
      "[CV 1/5] END learning_rate=0.001, max_depth=5, min_samples_leaf=4, min_samples_split=8, n_estimators=100;, score=0.655 total time=   0.1s\n",
      "[CV 2/5] END learning_rate=0.001, max_depth=5, min_samples_leaf=4, min_samples_split=8, n_estimators=100;, score=0.667 total time=   0.1s\n",
      "[CV 5/5] END learning_rate=0.001, max_depth=5, min_samples_leaf=4, min_samples_split=8, n_estimators=100;, score=0.643 total time=   0.2s\n",
      "[CV 1/5] END learning_rate=0.001, max_depth=3, min_samples_leaf=2, min_samples_split=8, n_estimators=100;, score=0.607 total time=   0.1s\n",
      "{'n_estimators': 200, 'min_samples_split': 2, 'min_samples_leaf': 2, 'max_depth': 5, 'learning_rate': 0.01}\n",
      "{'learning_rate': 0.01, 'max_depth': 7, 'min_samples_leaf': 4, 'min_samples_split': 2, 'n_estimators': 50}\n"
     ]
    }
   ],
   "source": [
    "# Create the model to be tuned\n",
    "gb_base = GradientBoostingClassifier(random_state=42)\n",
    "\n",
    "# Create the random search Random Forest\n",
    "gb_random = RandomizedSearchCV(\n",
    "    estimator = gb_base, \n",
    "    param_distributions = gb_hyperparams, \n",
    "    n_iter = 100, \n",
    "    cv = 5, \n",
    "    verbose=3,\n",
    "    n_jobs = -1\n",
    ")\n",
    "\n",
    "gb_grid = GridSearchCV(\n",
    "    estimator = gb_base, \n",
    "    param_grid = gb_hyperparams,\n",
    "    cv = 5, \n",
    "    n_jobs = -1\n",
    ")\n",
    "\n",
    "# Fit the random search model\n",
    "gb_random.fit(X_train, y_train)\n",
    "gb_grid.fit(X_train, y_train)\n",
    "\n",
    "# View the best parameters from the random search\n",
    "print(gb_random.best_params_)\n",
    "print(gb_grid.best_params_)"
   ]
  },
  {
   "cell_type": "code",
   "execution_count": 28,
   "id": "b6c89fc5-9c60-4344-a363-c8ae3d99a6fb",
   "metadata": {},
   "outputs": [
    {
     "name": "stdout",
     "output_type": "stream",
     "text": [
      "0.6714285714285715\n",
      "0.6761904761904762\n"
     ]
    }
   ],
   "source": [
    "print(gb_random.best_score_)\n",
    "print(gb_grid.best_score_)"
   ]
  },
  {
   "cell_type": "code",
   "execution_count": 29,
   "id": "8ee0a828-74a4-44d8-9464-8a2478a4c454",
   "metadata": {},
   "outputs": [],
   "source": [
    "model = gb_grid.best_estimator_"
   ]
  },
  {
   "cell_type": "markdown",
   "id": "2629f3f5-5a51-45d7-9c68-75b969101405",
   "metadata": {},
   "source": [
    "## Submission"
   ]
  },
  {
   "cell_type": "markdown",
   "id": "287c178f-1113-4456-b1c6-3188273bc1f3",
   "metadata": {},
   "source": [
    "Once you are happy with your model, you can make a submission. To make a submission, you will need to use your model to make predictions about the presence of rice crops for a set of test coordinates we have provided in the <a href=\"https://challenge.ey.com/api/v1/storage/admin-files/6847912254281276-63ca8b5ab12e510013520e2b-challenge_1_submission_template.csv\"><b>\"challenge_1_submission_template.csv\"</b></a> file and upload the file onto the challenge platform."
   ]
  },
  {
   "cell_type": "code",
   "execution_count": 30,
   "id": "c1fc4682-5a87-4ccb-9b4d-877221e397e9",
   "metadata": {},
   "outputs": [
    {
     "data": {
      "text/html": [
       "<div>\n",
       "<style scoped>\n",
       "    .dataframe tbody tr th:only-of-type {\n",
       "        vertical-align: middle;\n",
       "    }\n",
       "\n",
       "    .dataframe tbody tr th {\n",
       "        vertical-align: top;\n",
       "    }\n",
       "\n",
       "    .dataframe thead th {\n",
       "        text-align: right;\n",
       "    }\n",
       "</style>\n",
       "<table border=\"1\" class=\"dataframe\">\n",
       "  <thead>\n",
       "    <tr style=\"text-align: right;\">\n",
       "      <th></th>\n",
       "      <th>Latitude and Longitude</th>\n",
       "      <th>target</th>\n",
       "    </tr>\n",
       "  </thead>\n",
       "  <tbody>\n",
       "    <tr>\n",
       "      <th>0</th>\n",
       "      <td>(10.18019073690894, 105.32022315786804)</td>\n",
       "      <td>NaN</td>\n",
       "    </tr>\n",
       "    <tr>\n",
       "      <th>1</th>\n",
       "      <td>(10.561107033461816, 105.12772097986661)</td>\n",
       "      <td>NaN</td>\n",
       "    </tr>\n",
       "    <tr>\n",
       "      <th>2</th>\n",
       "      <td>(10.623790611954897, 105.13771401411867)</td>\n",
       "      <td>NaN</td>\n",
       "    </tr>\n",
       "    <tr>\n",
       "      <th>3</th>\n",
       "      <td>(10.583364246115156, 105.23946127195805)</td>\n",
       "      <td>NaN</td>\n",
       "    </tr>\n",
       "    <tr>\n",
       "      <th>4</th>\n",
       "      <td>(10.20744446668854, 105.26844107128906)</td>\n",
       "      <td>NaN</td>\n",
       "    </tr>\n",
       "    <tr>\n",
       "      <th>...</th>\n",
       "      <td>...</td>\n",
       "      <td>...</td>\n",
       "    </tr>\n",
       "    <tr>\n",
       "      <th>245</th>\n",
       "      <td>(10.308283266873062, 105.50872812216863)</td>\n",
       "      <td>NaN</td>\n",
       "    </tr>\n",
       "    <tr>\n",
       "      <th>246</th>\n",
       "      <td>(10.582910017285496, 105.23991550078767)</td>\n",
       "      <td>NaN</td>\n",
       "    </tr>\n",
       "    <tr>\n",
       "      <th>247</th>\n",
       "      <td>(10.581547330796518, 105.23991550078767)</td>\n",
       "      <td>NaN</td>\n",
       "    </tr>\n",
       "    <tr>\n",
       "      <th>248</th>\n",
       "      <td>(10.629241357910818, 105.15315779432643)</td>\n",
       "      <td>NaN</td>\n",
       "    </tr>\n",
       "    <tr>\n",
       "      <th>249</th>\n",
       "      <td>(10.574733898351617, 105.10410108072531)</td>\n",
       "      <td>NaN</td>\n",
       "    </tr>\n",
       "  </tbody>\n",
       "</table>\n",
       "<p>250 rows × 2 columns</p>\n",
       "</div>"
      ],
      "text/plain": [
       "                       Latitude and Longitude  target\n",
       "0     (10.18019073690894, 105.32022315786804)     NaN\n",
       "1    (10.561107033461816, 105.12772097986661)     NaN\n",
       "2    (10.623790611954897, 105.13771401411867)     NaN\n",
       "3    (10.583364246115156, 105.23946127195805)     NaN\n",
       "4     (10.20744446668854, 105.26844107128906)     NaN\n",
       "..                                        ...     ...\n",
       "245  (10.308283266873062, 105.50872812216863)     NaN\n",
       "246  (10.582910017285496, 105.23991550078767)     NaN\n",
       "247  (10.581547330796518, 105.23991550078767)     NaN\n",
       "248  (10.629241357910818, 105.15315779432643)     NaN\n",
       "249  (10.574733898351617, 105.10410108072531)     NaN\n",
       "\n",
       "[250 rows x 2 columns]"
      ]
     },
     "execution_count": 30,
     "metadata": {},
     "output_type": "execute_result"
    }
   ],
   "source": [
    "#Reading the coordinates for the submission\n",
    "test_file = pd.read_csv('../../../data/challenge_1_submission_template.csv')\n",
    "test_file = test_file.rename(columns={\"id\": \"Latitude and Longitude\"})\n",
    "test_file"
   ]
  },
  {
   "cell_type": "markdown",
   "id": "806f44d0-167f-47ad-8454-faa200364915",
   "metadata": {},
   "source": [
    "### RUN THIS BELOW CODE IF YOU DON'T HAVE THE DATA DOWNLOADED"
   ]
  },
  {
   "cell_type": "code",
   "execution_count": 31,
   "id": "c0c5e29a-3bfa-4f5e-ac00-ffbf6b18033e",
   "metadata": {},
   "outputs": [
    {
     "name": "stdout",
     "output_type": "stream",
     "text": [
      "\n",
      "[CV 3/5] END learning_rate=0.001, max_depth=7, min_samples_leaf=2, min_samples_split=4, n_estimators=50;, score=0.655 total time=   0.1s\n",
      "[CV 4/5] END learning_rate=0.001, max_depth=7, min_samples_leaf=2, min_samples_split=4, n_estimators=50;, score=0.655 total time=   0.1s\n",
      "[CV 1/5] END learning_rate=0.001, max_depth=9, min_samples_leaf=6, min_samples_split=4, n_estimators=100;, score=0.607 total time=   0.2s\n",
      "[CV 2/5] END learning_rate=0.001, max_depth=9, min_samples_leaf=6, min_samples_split=4, n_estimators=100;, score=0.643 total time=   0.2s\n",
      "[CV 3/5] END learning_rate=0.3, max_depth=7, min_samples_leaf=6, min_samples_split=2, n_estimators=200;, score=0.619 total time=   0.3s\n",
      "[CV 5/5] END learning_rate=0.3, max_depth=9, min_samples_leaf=1, min_samples_split=4, n_estimators=200;, score=0.595 total time=   0.5s\n",
      "[CV 1/5] END learning_rate=0.001, max_depth=3, min_samples_leaf=4, min_samples_split=8, n_estimators=200;, score=0.595 total time=   0.2s\n",
      "[CV 3/5] END learning_rate=0.3, max_depth=7, min_samples_leaf=2, min_samples_split=2, n_estimators=50;, score=0.607 total time=   0.1s\n",
      "[CV 4/5] END learning_rate=0.3, max_depth=7, min_samples_leaf=2, min_samples_split=2, n_estimators=50;, score=0.679 total time=   0.1s\n",
      "[CV 4/5] END learning_rate=0.1, max_depth=5, min_samples_leaf=1, min_samples_split=6, n_estimators=50;, score=0.643 total time=   0.1s\n",
      "[CV 5/5] END learning_rate=0.1, max_depth=5, min_samples_leaf=1, min_samples_split=6, n_estimators=50;, score=0.643 total time=   0.1s\n",
      "[CV 2/5] END learning_rate=0.01, max_depth=9, min_samples_leaf=1, min_samples_split=4, n_estimators=100;, score=0.607 total time=   0.3s\n",
      "[CV 3/5] END learning_rate=0.01, max_depth=9, min_samples_leaf=1, min_samples_split=4, n_estimators=100;, score=0.690 total time=   0.3s\n",
      "[CV 4/5] END learning_rate=0.01, max_depth=9, min_samples_leaf=1, min_samples_split=4, n_estimators=100;, score=0.643 total time=   0.3s\n",
      "[CV 5/5] END learning_rate=0.01, max_depth=9, min_samples_leaf=1, min_samples_split=4, n_estimators=100;, score=0.607 total time=   0.4s\n",
      "[CV 2/5] END learning_rate=0.2, max_depth=5, min_samples_leaf=2, min_samples_split=8, n_estimators=200;, score=0.631 total time=   0.3s\n",
      "[CV 3/5] END learning_rate=0.2, max_depth=5, min_samples_leaf=2, min_samples_split=8, n_estimators=200;, score=0.643 total time=   0.3s\n",
      "[CV 5/5] END learning_rate=0.1, max_depth=9, min_samples_leaf=4, min_samples_split=2, n_estimators=200;, score=0.619 total time=   0.5s\n",
      "[CV 1/5] END learning_rate=0.1, max_depth=9, min_samples_leaf=2, min_samples_split=4, n_estimators=100;, score=0.583 total time=   0.3s\n",
      "[CV 5/5] END learning_rate=0.2, max_depth=9, min_samples_leaf=2, min_samples_split=4, n_estimators=100;, score=0.631 total time=   0.2s\n",
      "[CV 1/5] END learning_rate=0.01, max_depth=3, min_samples_leaf=1, min_samples_split=4, n_estimators=200;, score=0.595 total time=   0.2s\n",
      "[CV 3/5] END learning_rate=0.2, max_depth=9, min_samples_leaf=6, min_samples_split=6, n_estimators=100;, score=0.619 total time=   0.2s\n",
      "[CV 4/5] END learning_rate=0.2, max_depth=9, min_samples_leaf=6, min_samples_split=6, n_estimators=100;, score=0.667 total time=   0.2s\n",
      "[CV 1/5] END learning_rate=0.2, max_depth=5, min_samples_leaf=2, min_samples_split=4, n_estimators=200;, score=0.595 total time=   0.3s\n",
      "[CV 2/5] END learning_rate=0.2, max_depth=5, min_samples_leaf=2, min_samples_split=4, n_estimators=200;, score=0.619 total time=   0.3s\n",
      "[CV 4/5] END learning_rate=0.1, max_depth=7, min_samples_leaf=6, min_samples_split=8, n_estimators=200;, score=0.690 total time=   0.3s\n",
      "[CV 5/5] END learning_rate=0.1, max_depth=7, min_samples_leaf=6, min_samples_split=8, n_estimators=200;, score=0.643 total time=   0.3s\n",
      "[CV 1/5] END learning_rate=0.2, max_depth=5, min_samples_leaf=4, min_samples_split=8, n_estimators=100;, score=0.571 total time=   0.1s\n",
      "[CV 2/5] END learning_rate=0.2, max_depth=5, min_samples_leaf=4, min_samples_split=8, n_estimators=100;, score=0.631 total time=   0.1s\n",
      "[CV 5/5] END learning_rate=0.2, max_depth=5, min_samples_leaf=4, min_samples_split=8, n_estimators=100;, score=0.607 total time=   0.2s\n",
      "[CV 1/5] END learning_rate=0.001, max_depth=9, min_samples_leaf=6, min_samples_split=8, n_estimators=50;, score=0.595 total time=   0.1s\n",
      "[CV 3/5] END learning_rate=0.3, max_depth=7, min_samples_leaf=1, min_samples_split=6, n_estimators=200;, score=0.690 total time=   0.4s\n",
      "[CV 4/5] END learning_rate=0.3, max_depth=7, min_samples_leaf=1, min_samples_split=6, n_estimators=200;, score=0.655 total time=   0.4s\n",
      "[CV 2/5] END learning_rate=0.01, max_depth=5, min_samples_leaf=1, min_samples_split=6, n_estimators=50;, score=0.679 total time=   0.1s\n",
      "[CV 3/5] END learning_rate=0.01, max_depth=5, min_samples_leaf=1, min_samples_split=6, n_estimators=50;, score=0.619 total time=   0.1s\n",
      "[CV 4/5] END learning_rate=0.01, max_depth=5, min_samples_leaf=1, min_samples_split=6, n_estimators=50;, score=0.619 total time=   0.1s\n",
      "[CV 5/5] END learning_rate=0.01, max_depth=5, min_samples_leaf=1, min_samples_split=6, n_estimators=50;, score=0.595 total time=   0.1s\n",
      "[CV 5/5] END learning_rate=0.001, max_depth=7, min_samples_leaf=1, min_samples_split=4, n_estimators=100;, score=0.595 total time=   0.2s\n",
      "[CV 1/5] END learning_rate=0.01, max_depth=5, min_samples_leaf=2, min_samples_split=8, n_estimators=100;, score=0.655 total time=   0.1s\n",
      "[CV 3/5] END learning_rate=0.2, max_depth=3, min_samples_leaf=2, min_samples_split=6, n_estimators=50;, score=0.679 total time=   0.1s\n",
      "[CV 4/5] END learning_rate=0.2, max_depth=3, min_samples_leaf=2, min_samples_split=6, n_estimators=50;, score=0.631 total time=   0.0s\n",
      "[CV 4/5] END learning_rate=0.2, max_depth=5, min_samples_leaf=6, min_samples_split=2, n_estimators=200;, score=0.690 total time=   0.3s\n",
      "[CV 5/5] END learning_rate=0.2, max_depth=5, min_samples_leaf=6, min_samples_split=2, n_estimators=200;, score=0.583 total time=   0.3s\n",
      "[CV 4/5] END learning_rate=0.001, max_depth=5, min_samples_leaf=2, min_samples_split=4, n_estimators=100;, score=0.631 total time=   0.2s\n",
      "[CV 5/5] END learning_rate=0.001, max_depth=5, min_samples_leaf=2, min_samples_split=4, n_estimators=100;, score=0.631 total time=   0.2s\n",
      "[CV 2/5] END learning_rate=0.1, max_depth=9, min_samples_leaf=1, min_samples_split=2, n_estimators=50;, score=0.583 total time=   0.3s\n",
      "[CV 3/5] END learning_rate=0.1, max_depth=9, min_samples_leaf=1, min_samples_split=2, n_estimators=50;, score=0.667 total time=   0.2s\n",
      "[CV 3/5] END learning_rate=0.01, max_depth=3, min_samples_leaf=1, min_samples_split=4, n_estimators=100;, score=0.643 total time=   0.1s\n",
      "[CV 4/5] END learning_rate=0.01, max_depth=3, min_samples_leaf=1, min_samples_split=4, n_estimators=100;, score=0.702 total time=   0.1s\n",
      "[CV 1/5] END learning_rate=0.3, max_depth=7, min_samples_leaf=4, min_samples_split=8, n_estimators=100;, score=0.560 total time=   0.2s\n",
      "[CV 2/5] END learning_rate=0.3, max_depth=7, min_samples_leaf=4, min_samples_split=8, n_estimators=100;, score=0.643 total time=   0.2s\n",
      "[CV 4/5] END learning_rate=0.01, max_depth=9, min_samples_leaf=4, min_samples_split=6, n_estimators=200;, score=0.714 total time=   0.5s\n",
      "[CV 5/5] END learning_rate=0.01, max_depth=9, min_samples_leaf=4, min_samples_split=6, n_estimators=200;, score=0.631 total time=   0.5s\n",
      "[CV 3/5] END learning_rate=0.001, max_depth=5, min_samples_leaf=4, min_samples_split=8, n_estimators=100;, score=0.643 total time=   0.1s\n",
      "[CV 4/5] END learning_rate=0.001, max_depth=5, min_samples_leaf=4, min_samples_split=8, n_estimators=100;, score=0.667 total time=   0.1s\n",
      "[CV 4/5] END learning_rate=0.001, max_depth=3, min_samples_leaf=2, min_samples_split=8, n_estimators=100;, score=0.690 total time=   0.1s\n",
      "[CV 5/5] END learning_rate=0.001, max_depth=3, min_samples_leaf=2, min_samples_split=8, n_estimators=100;, score=0.607 total time=   0.1s\n",
      "[CV 5/5] END learning_rate=0.001, max_depth=7, min_samples_leaf=2, min_samples_split=4, n_estimators=50;, score=0.560 total time=   0.1s\n",
      "[CV 1/5] END learning_rate=0.01, max_depth=7, min_samples_leaf=1, min_samples_split=8, n_estimators=50;, score=0.631 total time=   0.1s\n",
      "[CV 5/5] END learning_rate=0.001, max_depth=9, min_samples_leaf=6, min_samples_split=4, n_estimators=100;, score=0.655 total time=   0.2s\n",
      "[CV 1/5] END learning_rate=0.2, max_depth=5, min_samples_leaf=4, min_samples_split=2, n_estimators=200;, score=0.595 total time=   0.3s\n",
      "\n",
      "[CV 1/5] END learning_rate=0.2, max_depth=3, min_samples_leaf=2, min_samples_split=2, n_estimators=100;, score=0.619 total time=   0.1s\n",
      "[CV 2/5] END learning_rate=0.2, max_depth=3, min_samples_leaf=2, min_samples_split=2, n_estimators=100;, score=0.631 total time=   0.1s\n",
      "[CV 3/5] END learning_rate=0.2, max_depth=3, min_samples_leaf=2, min_samples_split=2, n_estimators=100;, score=0.679 total time=   0.1s\n",
      "[CV 4/5] END learning_rate=0.2, max_depth=3, min_samples_leaf=2, min_samples_split=2, n_estimators=100;, score=0.655 total time=   0.1s\n",
      "[CV 5/5] END learning_rate=0.2, max_depth=3, min_samples_leaf=2, min_samples_split=2, n_estimators=100;, score=0.619 total time=   0.1s\n",
      "[CV 1/5] END learning_rate=0.3, max_depth=9, min_samples_leaf=2, min_samples_split=8, n_estimators=200;, score=0.619 total time=   0.3s\n",
      "[CV 4/5] END learning_rate=0.3, max_depth=9, min_samples_leaf=2, min_samples_split=8, n_estimators=200;, score=0.619 total time=   0.3s\n",
      "[CV 5/5] END learning_rate=0.3, max_depth=9, min_samples_leaf=2, min_samples_split=8, n_estimators=200;, score=0.583 total time=   0.4s\n",
      "[CV 2/5] END learning_rate=0.01, max_depth=7, min_samples_leaf=1, min_samples_split=8, n_estimators=50;, score=0.667 total time=   0.1s\n",
      "[CV 3/5] END learning_rate=0.01, max_depth=7, min_samples_leaf=1, min_samples_split=8, n_estimators=50;, score=0.643 total time=   0.1s\n",
      "[CV 3/5] END learning_rate=0.001, max_depth=9, min_samples_leaf=6, min_samples_split=4, n_estimators=100;, score=0.643 total time=   0.2s\n",
      "[CV 4/5] END learning_rate=0.001, max_depth=9, min_samples_leaf=6, min_samples_split=4, n_estimators=100;, score=0.631 total time=   0.2s\n",
      "[CV 4/5] END learning_rate=0.2, max_depth=5, min_samples_leaf=4, min_samples_split=2, n_estimators=200;, score=0.679 total time=   0.2s\n",
      "[CV 5/5] END learning_rate=0.2, max_depth=5, min_samples_leaf=4, min_samples_split=2, n_estimators=200;, score=0.619 total time=   0.2s\n",
      "[CV 1/5] END learning_rate=0.001, max_depth=7, min_samples_leaf=2, min_samples_split=4, n_estimators=50;, score=0.631 total time=   0.1s\n",
      "[CV 2/5] END learning_rate=0.001, max_depth=7, min_samples_leaf=2, min_samples_split=4, n_estimators=50;, score=0.655 total time=   0.1s\n",
      "[CV 4/5] END learning_rate=0.01, max_depth=7, min_samples_leaf=1, min_samples_split=8, n_estimators=50;, score=0.655 total time=   0.1s\n",
      "[CV 5/5] END learning_rate=0.01, max_depth=7, min_samples_leaf=1, min_samples_split=8, n_estimators=50;, score=0.631 total time=   0.1s\n",
      "[CV 2/5] END learning_rate=0.2, max_depth=5, min_samples_leaf=4, min_samples_split=2, n_estimators=200;, score=0.655 total time=   0.2s\n",
      "[CV 3/5] END learning_rate=0.2, max_depth=5, min_samples_leaf=4, min_samples_split=2, n_estimators=200;, score=0.679 total time=   0.2s\n"
     ]
    }
   ],
   "source": [
    "# # Function call to extract VV,VH Values\n",
    "# assests = ['vh','vv']\n",
    "# rvis = []\n",
    "\n",
    "# for coordinates in tqdm(test_file['Latitude and Longitude']):\n",
    "#     data = get_sentinel_data(coordinates,TIME_SLICE,assests)\n",
    "    \n",
    "#     # calculate mean\n",
    "#     mean = data.mean(dim=['y', 'x', 'time']).compute()\n",
    "#     mean_vh = mean[\"vh\"].values.tolist()\n",
    "#     mean_vv = mean[\"vv\"].values.tolist()\n",
    "    \n",
    "#     # calculate median\n",
    "#     median = data.median(dim=['y', 'x', 'time']).compute()\n",
    "#     median_vh = median[\"vh\"].values.tolist()\n",
    "#     median_vv = median[\"vv\"].values.tolist()\n",
    "#     rvis.append((mean_vh, mean_vv, median_vh, median_vv))\n",
    "\n",
    "# columns =  ['mean_vh', 'mean_vv', 'median_vh', 'median_vv']\n",
    "# submission_rvi_data = pd.DataFrame(\n",
    "#     vh_vv,\n",
    "#     columns=columns\n",
    "# )"
   ]
  },
  {
   "cell_type": "code",
   "execution_count": 31,
   "id": "8a05a6d2-5bc1-463a-9f30-93630bb41936",
   "metadata": {
    "tags": []
   },
   "outputs": [
    {
     "name": "stderr",
     "output_type": "stream",
     "text": [
      "100%|██████████| 250/250 [00:03<00:00, 75.56it/s]\n"
     ]
    }
   ],
   "source": [
    "# Function call to extract VV,VH Values\n",
    "directory = \"../../../data/test/sentinel-1-rtc/1-year-202201-202212/vh-vv-1x1/\"\n",
    "rvis = []\n",
    "\n",
    "for coordinates in tqdm(test_file['Latitude and Longitude']):\n",
    "    data = xr.open_dataset(directory + coordinates + \".nc\")\n",
    "    \n",
    "    # calculate mean with repect to dimension y and x/ longitude and latitude\n",
    "    mean = data.mean(dim=['y', 'x']).compute()\n",
    "    \n",
    "    # calculate median with repect to dimension y and x/ longitude and latitude\n",
    "    median = data.median(dim=['y', 'x']).compute()\n",
    "    \n",
    "    # calculate mean of rvi with respect to time\n",
    "    mean_rvi = calculate_rvi(mean).mean(dim=['time']).values.tolist()\n",
    "    \n",
    "    # calculate median of rvi with respect to time\n",
    "    median_rvi = calculate_rvi(median).median(dim=['time']).values.tolist()\n",
    "        \n",
    "    rvis.append((\n",
    "        mean_rvi,\n",
    "        median_rvi,\n",
    "    ))\n",
    "\n",
    "columns =  [\n",
    "    'mean_rvi', 'median_rvi', \n",
    "]\n",
    "submission_rvi_data = pd.DataFrame(rvis, columns = columns)"
   ]
  },
  {
   "cell_type": "code",
   "execution_count": 32,
   "id": "2cb45aca-974a-41e1-a522-36ca202d9af5",
   "metadata": {},
   "outputs": [],
   "source": [
    "# Feature Scaling \n",
    "submission_rvi_data = submission_rvi_data.values\n",
    "transformed_submission_data = sc.transform(submission_rvi_data)"
   ]
  },
  {
   "cell_type": "code",
   "execution_count": 33,
   "id": "ecc34e3a-bfc1-49a0-94bb-ee1e540abe98",
   "metadata": {},
   "outputs": [],
   "source": [
    "#Making predictions\n",
    "final_predictions = model.predict(transformed_submission_data)\n",
    "final_prediction_series = pd.Series(final_predictions)"
   ]
  },
  {
   "cell_type": "code",
   "execution_count": 34,
   "id": "0375e4cd-fdb0-4b82-8508-6ff022061cf9",
   "metadata": {},
   "outputs": [],
   "source": [
    "#Combining the results into dataframe\n",
    "submission_df = pd.DataFrame({'id':test_file['Latitude and Longitude'].values, 'target':final_prediction_series.values})"
   ]
  },
  {
   "cell_type": "code",
   "execution_count": 35,
   "id": "1a1a563b-c0ed-4e2c-a7fe-08ad59cf1626",
   "metadata": {},
   "outputs": [
    {
     "data": {
      "text/html": [
       "<div>\n",
       "<style scoped>\n",
       "    .dataframe tbody tr th:only-of-type {\n",
       "        vertical-align: middle;\n",
       "    }\n",
       "\n",
       "    .dataframe tbody tr th {\n",
       "        vertical-align: top;\n",
       "    }\n",
       "\n",
       "    .dataframe thead th {\n",
       "        text-align: right;\n",
       "    }\n",
       "</style>\n",
       "<table border=\"1\" class=\"dataframe\">\n",
       "  <thead>\n",
       "    <tr style=\"text-align: right;\">\n",
       "      <th></th>\n",
       "      <th>id</th>\n",
       "      <th>target</th>\n",
       "    </tr>\n",
       "  </thead>\n",
       "  <tbody>\n",
       "    <tr>\n",
       "      <th>0</th>\n",
       "      <td>(10.18019073690894, 105.32022315786804)</td>\n",
       "      <td>Non Rice</td>\n",
       "    </tr>\n",
       "    <tr>\n",
       "      <th>1</th>\n",
       "      <td>(10.561107033461816, 105.12772097986661)</td>\n",
       "      <td>Non Rice</td>\n",
       "    </tr>\n",
       "    <tr>\n",
       "      <th>2</th>\n",
       "      <td>(10.623790611954897, 105.13771401411867)</td>\n",
       "      <td>Non Rice</td>\n",
       "    </tr>\n",
       "    <tr>\n",
       "      <th>3</th>\n",
       "      <td>(10.583364246115156, 105.23946127195805)</td>\n",
       "      <td>Non Rice</td>\n",
       "    </tr>\n",
       "    <tr>\n",
       "      <th>4</th>\n",
       "      <td>(10.20744446668854, 105.26844107128906)</td>\n",
       "      <td>Rice</td>\n",
       "    </tr>\n",
       "    <tr>\n",
       "      <th>...</th>\n",
       "      <td>...</td>\n",
       "      <td>...</td>\n",
       "    </tr>\n",
       "    <tr>\n",
       "      <th>245</th>\n",
       "      <td>(10.308283266873062, 105.50872812216863)</td>\n",
       "      <td>Non Rice</td>\n",
       "    </tr>\n",
       "    <tr>\n",
       "      <th>246</th>\n",
       "      <td>(10.582910017285496, 105.23991550078767)</td>\n",
       "      <td>Non Rice</td>\n",
       "    </tr>\n",
       "    <tr>\n",
       "      <th>247</th>\n",
       "      <td>(10.581547330796518, 105.23991550078767)</td>\n",
       "      <td>Rice</td>\n",
       "    </tr>\n",
       "    <tr>\n",
       "      <th>248</th>\n",
       "      <td>(10.629241357910818, 105.15315779432643)</td>\n",
       "      <td>Rice</td>\n",
       "    </tr>\n",
       "    <tr>\n",
       "      <th>249</th>\n",
       "      <td>(10.574733898351617, 105.10410108072531)</td>\n",
       "      <td>Rice</td>\n",
       "    </tr>\n",
       "  </tbody>\n",
       "</table>\n",
       "<p>250 rows × 2 columns</p>\n",
       "</div>"
      ],
      "text/plain": [
       "                                           id    target\n",
       "0     (10.18019073690894, 105.32022315786804)  Non Rice\n",
       "1    (10.561107033461816, 105.12772097986661)  Non Rice\n",
       "2    (10.623790611954897, 105.13771401411867)  Non Rice\n",
       "3    (10.583364246115156, 105.23946127195805)  Non Rice\n",
       "4     (10.20744446668854, 105.26844107128906)      Rice\n",
       "..                                        ...       ...\n",
       "245  (10.308283266873062, 105.50872812216863)  Non Rice\n",
       "246  (10.582910017285496, 105.23991550078767)  Non Rice\n",
       "247  (10.581547330796518, 105.23991550078767)      Rice\n",
       "248  (10.629241357910818, 105.15315779432643)      Rice\n",
       "249  (10.574733898351617, 105.10410108072531)      Rice\n",
       "\n",
       "[250 rows x 2 columns]"
      ]
     },
     "metadata": {},
     "output_type": "display_data"
    }
   ],
   "source": [
    "#Displaying the sample submission dataframe\n",
    "display(submission_df)"
   ]
  },
  {
   "cell_type": "code",
   "execution_count": 36,
   "id": "2fcec864-4da3-41e7-80da-b77e42a9d810",
   "metadata": {},
   "outputs": [],
   "source": [
    "#Dumping the predictions into a csv file.\n",
    "submission_df.to_csv(\"../../../output/submission_sentinel_rtc_1_rvi_mean_median_1_year_1x1_gnb_hp_tune.csv\",index = False)"
   ]
  },
  {
   "cell_type": "markdown",
   "id": "094c2fba-5ecb-4ea5-a4a5-1fd6a74952cc",
   "metadata": {},
   "source": [
    "## Conclusion"
   ]
  },
  {
   "cell_type": "markdown",
   "id": "5e31e154-d939-4066-83d6-98aee8b4bca9",
   "metadata": {},
   "source": [
    "Achieve score 0.7, using RVI didn't bring any value. Just stick to VH and VV. Or we can try to find NDVI, NDWI, and PSRI"
   ]
  }
 ],
 "metadata": {
  "kernelspec": {
   "display_name": "Python [conda env:notebook] *",
   "language": "python",
   "name": "conda-env-notebook-py"
  },
  "language_info": {
   "codemirror_mode": {
    "name": "ipython",
    "version": 3
   },
   "file_extension": ".py",
   "mimetype": "text/x-python",
   "name": "python",
   "nbconvert_exporter": "python",
   "pygments_lexer": "ipython3",
   "version": "3.10.6"
  }
 },
 "nbformat": 4,
 "nbformat_minor": 5
}
