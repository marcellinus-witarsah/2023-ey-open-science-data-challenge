{
 "cells": [
  {
   "cell_type": "markdown",
   "metadata": {
    "tags": []
   },
   "source": [
    "## 2023 Open Science Data Challenge - Sentinel-1 Phenology\n",
    "\n",
    "This notebook calculates vegetation phenology changes using radiometrically terrain corrected Sentinel-1 radar data. To detect vegetation changes, the algorithm uses variations in the Radar Vegetation Index (RVI) which is a common proxy for vegetation growth and health. The outputs of this notebook can be used to assess differences in agriculture fields over time or space and also allow the assessment of growing states such as planting and harvesting. The baseline data is [Sentinel-1 RTC](https://planetarycomputer.microsoft.com/dataset/sentinel-1-rtc) data from the MS Planetary Computer catalog. For more information about how to interpret radar data, see the following document: \"A Layman's Interpretation Guide to L-Band and C-Band Synthetic Aperture Radar Data\" found <a href=\"https://ceos.org/document_management/SEO/DataCube/Laymans_SAR_Interpretation_Guide_2.0.pdf\" target=\"_blank\"><b>HERE</b></a>.\n"
   ]
  },
  {
   "cell_type": "code",
   "execution_count": 1,
   "metadata": {},
   "outputs": [],
   "source": [
    "# Supress Warnings \n",
    "import warnings\n",
    "warnings.filterwarnings('ignore')\n",
    "\n",
    "# Import common GIS tools\n",
    "import numpy as np\n",
    "import xarray as xr\n",
    "import matplotlib.pyplot as plt\n",
    "import rioxarray as rio\n",
    "import rasterio.features\n",
    "\n",
    "# Import Planetary Computer tools\n",
    "import stackstac\n",
    "import pystac_client\n",
    "import planetary_computer as pc\n",
    "# import xrspatial.multispectral as ms\n",
    "import odc\n",
    "from odc.stac import stac_load\n",
    "\n",
    "# Pass your API key here\n",
    "pc.settings.set_subscription_key('cf5657d28bb2408ba8fd775642c2e1cb')"
   ]
  },
  {
   "cell_type": "markdown",
   "metadata": {},
   "source": [
    "### Discover and load the data for analysis\n",
    "\n",
    "Our test region is a rice crop field in Vietnam. First, we define our area of interest using latitude and longitude coordinates of the centroid. Then we define the size of the surrounding bounding box (in degrees). GeoJSON format uses a specific order: (longitude, latitude), so be careful when entering the coordinates."
   ]
  },
  {
   "cell_type": "code",
   "execution_count": 2,
   "metadata": {},
   "outputs": [],
   "source": [
    "# Rice Crop Field in An Giang, Vietnam\n",
    "\n",
    "# lat_long = (10.4391, 105.3338) # Lat-Lon centroid location\n",
    "lat_long_rice = (10.322364360592521, 105.27843410554115)\t\t\n",
    "lat_long_non_rice = (10.013942985253381, 105.67361318732796)\t\n",
    "box_size_deg_3x3 = 0.0002 # Surrounding box in degrees, yields approximately 3x3 pixel region\n",
    "box_size_deg_5x5 = 0.0004 # Surrounding box in degrees, yields approximately 5x5 pixel region\n",
    "box_size_deg_7x7 = 0.0006 # Surrounding box in degrees, yields approximately 7x7 pixel region\n",
    "\n",
    "def create_bbox(lat_long, box_size_deg):\n",
    "    min_lon = lat_long[1]-box_size_deg/2\n",
    "    min_lat = lat_long[0]-box_size_deg/2\n",
    "    max_lon = lat_long[1]+box_size_deg/2\n",
    "    max_lat = lat_long[0]+box_size_deg/2\n",
    "    return (min_lon, min_lat, max_lon, max_lat)\n",
    "\n",
    "\n",
    "bbox_3x3_rice = create_bbox(lat_long_rice, box_size_deg_3x3)\n",
    "bbox_3x3_non_rice = create_bbox(lat_long_non_rice, box_size_deg_3x3)\n",
    "# bbox_5x5 = create_bbox(lat_long, box_size_deg_5x5)\n",
    "# bbox_7x7 = create_bbox(lat_long, box_size_deg_7x7)"
   ]
  },
  {
   "cell_type": "markdown",
   "metadata": {},
   "source": [
    "Using the `pystac_client` we can search the Planetary Computer's STAC endpoint for items matching our query parameters. We will use a time window in late-2021 to early-2022 when we know there is a rice crop growing cycle. The result is the number of scenes matching our search criteria that touch our area of interest. Some of these may be partial scenes. "
   ]
  },
  {
   "cell_type": "code",
   "execution_count": 3,
   "metadata": {},
   "outputs": [],
   "source": [
    "time_of_interest = \"2021-11-01/2022-11-11\""
   ]
  },
  {
   "cell_type": "code",
   "execution_count": 4,
   "metadata": {},
   "outputs": [],
   "source": [
    "catalog = pystac_client.Client.open(\"https://planetarycomputer.microsoft.com/api/stac/v1\")\n",
    "search_rice = catalog.search(collections=[\"sentinel-1-rtc\"], bbox=bbox_3x3_rice, datetime=time_of_interest)\n",
    "search_non_rice = catalog.search(collections=[\"sentinel-1-rtc\"], bbox=bbox_3x3_non_rice, datetime=time_of_interest)\n",
    "items_rice = list(search_rice.get_all_items()) # This produces a list of scene IDs\n",
    "items_non_rice = list(search_non_rice.get_all_items()) # This produces a list of scene IDs"
   ]
  },
  {
   "cell_type": "markdown",
   "metadata": {},
   "source": [
    "Next, we'll load the data into an [xarray](https://xarray.pydata.org/en/stable/) using [stackstac](https://stackstac.readthedocs.io/) and then \"clip\" the data to only the pixels within our region (bounding box). We will only keep the desired bands (VV, VH) since they are needed to create the Radar Vegetation Index (RVI). There are also several other <b>important settings for the data</b>: We have changed the projection to epsg=4326 which is standard latitude-longitude in degrees and we have specified the spatial resolution of each pixel to be 10-meters, which is the baseline accuracy for this data. "
   ]
  },
  {
   "cell_type": "code",
   "execution_count": 5,
   "metadata": {},
   "outputs": [],
   "source": [
    "# Define the pixel resolution for the final product\n",
    "# Define the scale according to our selected crs, so we will use degrees\n",
    "\n",
    "resolution = 10  # meters per pixel \n",
    "scale = resolution / 111320.0 # degrees per pixel for crs=4326 "
   ]
  },
  {
   "cell_type": "code",
   "execution_count": null,
   "metadata": {},
   "outputs": [],
   "source": [
    "# Load the data using Open Data Cube\n",
    "data_rice = stac_load(items_rice,bands=[\"vv\", \"vh\"], patch_url=pc.sign, bbox=bbox_3x3_rice)\n",
    "data_non_rice = stac_load(items_non_rice,bands=[\"vv\", \"vh\"], patch_url=pc.sign, bbox=bbox_3x3_non_rice)"
   ]
  },
  {
   "cell_type": "markdown",
   "metadata": {},
   "source": [
    "### Radar Vegetation Index (RVI)\n",
    "\n",
    "The <b>Radar Vegetation Index (RVI)</b> is one example of an index used to measure vegetation growth with radar data. Since radar data can penetrate clouds, such indices are valuable to monitor crop phenology (growth). For more information on the RVI formula, see the following Sentinel Hub link: <a href=\"https://custom-scripts.sentinel-hub.com/custom-scripts/sentinel-1/radar_vegetation_index/\" target=\"_blank\"><b>HERE</b></a>.\n"
   ]
  },
  {
   "cell_type": "code",
   "execution_count": null,
   "metadata": {},
   "outputs": [],
   "source": [
    "# Calculate the mean of the data across the sample region\n",
    "mean_rice = data_rice.mean(dim=['y', 'x']).compute()\n",
    "mean_non_rice = data_non_rice.mean(dim=['y', 'x']).compute()"
   ]
  },
  {
   "cell_type": "code",
   "execution_count": null,
   "metadata": {},
   "outputs": [],
   "source": [
    "# Calculate RVI\n",
    "def rvi(mean):\n",
    "    dop = (mean.vv / (mean.vv + mean.vh))\n",
    "    m = 1 - dop\n",
    "    rvi = (np.sqrt(dop))*((4*mean.vh)/(mean.vv + mean.vh))\n",
    "    return rvi\n",
    "\n",
    "rvi_rice = rvi(mean_rice)\n",
    "rvi_non_rice = rvi(mean_non_rice)"
   ]
  },
  {
   "cell_type": "code",
   "execution_count": null,
   "metadata": {},
   "outputs": [],
   "source": [
    "fig = plt.figure(figsize=(10, 5))\n",
    "rvi_non_rice.plot(color='green',marker='o',markersize=4,linewidth=2)\n",
    "plt.title(\"Mean RVI = Radar Vegetation Index Non Rice\")\n",
    "plt.xlabel(\"Date\")\n",
    "plt.ylabel(\"RVI\")\n",
    "plt.show()"
   ]
  },
  {
   "cell_type": "code",
   "execution_count": null,
   "metadata": {},
   "outputs": [],
   "source": [
    "fig = plt.figure(figsize=(10, 5))\n",
    "rvi_rice.plot(color='green',marker='o',markersize=4,linewidth=2)\n",
    "plt.title(\"Mean RVI = Radar Vegetation Index Rice\")\n",
    "plt.xlabel(\"Date\")\n",
    "plt.ylabel(\"RVI\")\n",
    "plt.show()"
   ]
  },
  {
   "cell_type": "code",
   "execution_count": null,
   "metadata": {},
   "outputs": [],
   "source": []
  },
  {
   "cell_type": "code",
   "execution_count": null,
   "metadata": {},
   "outputs": [],
   "source": []
  }
 ],
 "metadata": {
  "kernelspec": {
   "display_name": "Python [conda env:notebook] *",
   "language": "python",
   "name": "conda-env-notebook-py"
  },
  "language_info": {
   "codemirror_mode": {
    "name": "ipython",
    "version": 3
   },
   "file_extension": ".py",
   "mimetype": "text/x-python",
   "name": "python",
   "nbconvert_exporter": "python",
   "pygments_lexer": "ipython3",
   "version": "3.10.6"
  },
  "widgets": {
   "application/vnd.jupyter.widget-state+json": {
    "state": {
     "2ca0804b9f904dab815db80637a4f2d9": {
      "model_module": "@jupyter-widgets/base",
      "model_module_version": "1.2.0",
      "model_name": "LayoutModel",
      "state": {}
     },
     "e2f3ac516e3b4cf3a1ba1fc6aa0897ad": {
      "model_module": "@jupyter-widgets/controls",
      "model_module_version": "1.5.0",
      "model_name": "VBoxModel",
      "state": {
       "layout": "IPY_MODEL_2ca0804b9f904dab815db80637a4f2d9"
      }
     }
    },
    "version_major": 2,
    "version_minor": 0
   }
  }
 },
 "nbformat": 4,
 "nbformat_minor": 4
}
