{
 "cells": [
  {
   "cell_type": "markdown",
   "id": "626a022d-5469-4e2c-aba7-c6b00be60b54",
   "metadata": {},
   "source": [
    "# Download Sentinel 2 L2A Data"
   ]
  },
  {
   "cell_type": "markdown",
   "id": "02aefc82-377f-4661-bebb-67dd75991be4",
   "metadata": {},
   "source": [
    "Import necessary libraries"
   ]
  },
  {
   "cell_type": "code",
   "execution_count": 45,
   "id": "2073cd10-a6ab-48ba-89a1-17f2b302e238",
   "metadata": {},
   "outputs": [],
   "source": [
    "# imports\n",
    "# Supress Warnings\n",
    "import warnings\n",
    "warnings.filterwarnings('ignore')\n",
    "\n",
    "# Visualization\n",
    "import ipyleaflet\n",
    "import matplotlib.pyplot as plt\n",
    "from IPython.display import Image\n",
    "import seaborn as sns\n",
    "\n",
    "# Data Science\n",
    "import numpy as np\n",
    "import pandas as pd\n",
    "import xarray as xr\n",
    "\n",
    "# Planetary Computer Tools\n",
    "import pystac\n",
    "import pystac_client\n",
    "import odc\n",
    "from pystac_client import Client\n",
    "from pystac.extensions.eo import EOExtension as eo\n",
    "from odc.stac import stac_load\n",
    "import planetary_computer as pc\n",
    "pc.settings.set_subscription_key('cf5657d28bb2408ba8fd775642c2e1cb')\n",
    "\n",
    "# Others\n",
    "import requests\n",
    "import rich.table\n",
    "from itertools import cycle\n",
    "from tqdm import tqdm\n",
    "from datetime import datetime\n",
    "import os\n",
    "from glob import glob"
   ]
  },
  {
   "cell_type": "markdown",
   "id": "ccfd5ecb-92da-4356-860f-64cec7534b45",
   "metadata": {
    "tags": []
   },
   "source": [
    "## Downloading Annual Data and Variety of Pixel Areas"
   ]
  },
  {
   "cell_type": "markdown",
   "id": "e854b5f4-ee16-40da-a6d1-81898cc52aae",
   "metadata": {},
   "source": [
    "<p align=\"justify\">For this experiment the author chose to download data between <b>1st January 2022</b> until <b>31th December 2022</b>. The author also experiment using various of pixel area start from:\n",
    "    <ol>\n",
    "        <li><b>1x1</b>,</li>\n",
    "        <li><b>3x3</b>,</li>\n",
    "        <li><b>5x5</b>,</li>\n",
    "        <li><b>7x7</b>, and</li>\n",
    "        <li><b>10x10</b></li>\n",
    "    </ol>\n",
    "</p>"
   ]
  },
  {
   "cell_type": "markdown",
   "id": "6dfe4d5a-6b5c-43be-a305-42712e3568b1",
   "metadata": {},
   "source": [
    "## 1. Preparing Train and Test Coordinates"
   ]
  },
  {
   "cell_type": "code",
   "execution_count": 46,
   "id": "0f1da678",
   "metadata": {},
   "outputs": [
    {
     "data": {
      "text/html": [
       "<div>\n",
       "<style scoped>\n",
       "    .dataframe tbody tr th:only-of-type {\n",
       "        vertical-align: middle;\n",
       "    }\n",
       "\n",
       "    .dataframe tbody tr th {\n",
       "        vertical-align: top;\n",
       "    }\n",
       "\n",
       "    .dataframe thead th {\n",
       "        text-align: right;\n",
       "    }\n",
       "</style>\n",
       "<table border=\"1\" class=\"dataframe\">\n",
       "  <thead>\n",
       "    <tr style=\"text-align: right;\">\n",
       "      <th></th>\n",
       "      <th>Latitude and Longitude</th>\n",
       "      <th>Class of Land</th>\n",
       "    </tr>\n",
       "  </thead>\n",
       "  <tbody>\n",
       "    <tr>\n",
       "      <th>0</th>\n",
       "      <td>(10.323727047081501, 105.2516346045924)</td>\n",
       "      <td>Rice</td>\n",
       "    </tr>\n",
       "    <tr>\n",
       "      <th>1</th>\n",
       "      <td>(10.322364360592521, 105.27843410554115)</td>\n",
       "      <td>Rice</td>\n",
       "    </tr>\n",
       "    <tr>\n",
       "      <th>2</th>\n",
       "      <td>(10.321455902933202, 105.25254306225168)</td>\n",
       "      <td>Rice</td>\n",
       "    </tr>\n",
       "    <tr>\n",
       "      <th>3</th>\n",
       "      <td>(10.324181275911162, 105.25118037576274)</td>\n",
       "      <td>Rice</td>\n",
       "    </tr>\n",
       "    <tr>\n",
       "      <th>4</th>\n",
       "      <td>(10.324635504740822, 105.27389181724476)</td>\n",
       "      <td>Rice</td>\n",
       "    </tr>\n",
       "    <tr>\n",
       "      <th>...</th>\n",
       "      <td>...</td>\n",
       "      <td>...</td>\n",
       "    </tr>\n",
       "    <tr>\n",
       "      <th>595</th>\n",
       "      <td>(10.013942985253381, 105.67361318732796)</td>\n",
       "      <td>Non Rice</td>\n",
       "    </tr>\n",
       "    <tr>\n",
       "      <th>596</th>\n",
       "      <td>(10.01348875642372, 105.67361318732796)</td>\n",
       "      <td>Non Rice</td>\n",
       "    </tr>\n",
       "    <tr>\n",
       "      <th>597</th>\n",
       "      <td>(10.013034527594062, 105.67361318732796)</td>\n",
       "      <td>Non Rice</td>\n",
       "    </tr>\n",
       "    <tr>\n",
       "      <th>598</th>\n",
       "      <td>(10.012580298764401, 105.67361318732796)</td>\n",
       "      <td>Non Rice</td>\n",
       "    </tr>\n",
       "    <tr>\n",
       "      <th>599</th>\n",
       "      <td>(10.012126069934741, 105.67361318732796)</td>\n",
       "      <td>Non Rice</td>\n",
       "    </tr>\n",
       "  </tbody>\n",
       "</table>\n",
       "<p>600 rows × 2 columns</p>\n",
       "</div>"
      ],
      "text/plain": [
       "                       Latitude and Longitude Class of Land\n",
       "0     (10.323727047081501, 105.2516346045924)          Rice\n",
       "1    (10.322364360592521, 105.27843410554115)          Rice\n",
       "2    (10.321455902933202, 105.25254306225168)          Rice\n",
       "3    (10.324181275911162, 105.25118037576274)          Rice\n",
       "4    (10.324635504740822, 105.27389181724476)          Rice\n",
       "..                                        ...           ...\n",
       "595  (10.013942985253381, 105.67361318732796)      Non Rice\n",
       "596   (10.01348875642372, 105.67361318732796)      Non Rice\n",
       "597  (10.013034527594062, 105.67361318732796)      Non Rice\n",
       "598  (10.012580298764401, 105.67361318732796)      Non Rice\n",
       "599  (10.012126069934741, 105.67361318732796)      Non Rice\n",
       "\n",
       "[600 rows x 2 columns]"
      ]
     },
     "metadata": {},
     "output_type": "display_data"
    },
    {
     "data": {
      "text/html": [
       "<div>\n",
       "<style scoped>\n",
       "    .dataframe tbody tr th:only-of-type {\n",
       "        vertical-align: middle;\n",
       "    }\n",
       "\n",
       "    .dataframe tbody tr th {\n",
       "        vertical-align: top;\n",
       "    }\n",
       "\n",
       "    .dataframe thead th {\n",
       "        text-align: right;\n",
       "    }\n",
       "</style>\n",
       "<table border=\"1\" class=\"dataframe\">\n",
       "  <thead>\n",
       "    <tr style=\"text-align: right;\">\n",
       "      <th></th>\n",
       "      <th>Latitude and Longitude</th>\n",
       "      <th>target</th>\n",
       "    </tr>\n",
       "  </thead>\n",
       "  <tbody>\n",
       "    <tr>\n",
       "      <th>0</th>\n",
       "      <td>(10.18019073690894, 105.32022315786804)</td>\n",
       "      <td>NaN</td>\n",
       "    </tr>\n",
       "    <tr>\n",
       "      <th>1</th>\n",
       "      <td>(10.561107033461816, 105.12772097986661)</td>\n",
       "      <td>NaN</td>\n",
       "    </tr>\n",
       "    <tr>\n",
       "      <th>2</th>\n",
       "      <td>(10.623790611954897, 105.13771401411867)</td>\n",
       "      <td>NaN</td>\n",
       "    </tr>\n",
       "    <tr>\n",
       "      <th>3</th>\n",
       "      <td>(10.583364246115156, 105.23946127195805)</td>\n",
       "      <td>NaN</td>\n",
       "    </tr>\n",
       "    <tr>\n",
       "      <th>4</th>\n",
       "      <td>(10.20744446668854, 105.26844107128906)</td>\n",
       "      <td>NaN</td>\n",
       "    </tr>\n",
       "    <tr>\n",
       "      <th>...</th>\n",
       "      <td>...</td>\n",
       "      <td>...</td>\n",
       "    </tr>\n",
       "    <tr>\n",
       "      <th>245</th>\n",
       "      <td>(10.308283266873062, 105.50872812216863)</td>\n",
       "      <td>NaN</td>\n",
       "    </tr>\n",
       "    <tr>\n",
       "      <th>246</th>\n",
       "      <td>(10.582910017285496, 105.23991550078767)</td>\n",
       "      <td>NaN</td>\n",
       "    </tr>\n",
       "    <tr>\n",
       "      <th>247</th>\n",
       "      <td>(10.581547330796518, 105.23991550078767)</td>\n",
       "      <td>NaN</td>\n",
       "    </tr>\n",
       "    <tr>\n",
       "      <th>248</th>\n",
       "      <td>(10.629241357910818, 105.15315779432643)</td>\n",
       "      <td>NaN</td>\n",
       "    </tr>\n",
       "    <tr>\n",
       "      <th>249</th>\n",
       "      <td>(10.574733898351617, 105.10410108072531)</td>\n",
       "      <td>NaN</td>\n",
       "    </tr>\n",
       "  </tbody>\n",
       "</table>\n",
       "<p>250 rows × 2 columns</p>\n",
       "</div>"
      ],
      "text/plain": [
       "                       Latitude and Longitude  target\n",
       "0     (10.18019073690894, 105.32022315786804)     NaN\n",
       "1    (10.561107033461816, 105.12772097986661)     NaN\n",
       "2    (10.623790611954897, 105.13771401411867)     NaN\n",
       "3    (10.583364246115156, 105.23946127195805)     NaN\n",
       "4     (10.20744446668854, 105.26844107128906)     NaN\n",
       "..                                        ...     ...\n",
       "245  (10.308283266873062, 105.50872812216863)     NaN\n",
       "246  (10.582910017285496, 105.23991550078767)     NaN\n",
       "247  (10.581547330796518, 105.23991550078767)     NaN\n",
       "248  (10.629241357910818, 105.15315779432643)     NaN\n",
       "249  (10.574733898351617, 105.10410108072531)     NaN\n",
       "\n",
       "[250 rows x 2 columns]"
      ]
     },
     "metadata": {},
     "output_type": "display_data"
    }
   ],
   "source": [
    "# reading train data\n",
    "train_data = pd.read_csv(\"../../data/Crop_Location_Data.csv\")\n",
    "display(train_data)\n",
    "\n",
    "# reading test data\n",
    "test_data = pd.read_csv('../../data/challenge_1_submission_template.csv')\n",
    "test_data = test_data.rename(columns={\"id\": \"Latitude and Longitude\"})\n",
    "display(test_data)"
   ]
  },
  {
   "cell_type": "markdown",
   "id": "5f40ebd9-0f1a-4f67-8672-318ffaac059e",
   "metadata": {},
   "source": [
    "## 2. Prepare Box Size Area"
   ]
  },
  {
   "cell_type": "code",
   "execution_count": 47,
   "id": "7f67b5c4-20ca-465d-a87f-a5ad6c9a6a4e",
   "metadata": {},
   "outputs": [],
   "source": [
    "# prepare bounding box\n",
    "box_size_deg_3x3 = 0.0002 # Surrounding box in degrees, yields approximately 3x3 pixel region\n",
    "box_size_deg_5x5 = 0.0004 # Surrounding box in degrees, yields approximately 5x5 pixel region\n",
    "box_size_deg_7x7 = 0.0006 # Surrounding box in degrees, yields approximately 7x7 pixel region\n",
    "box_size_deg_10x10 = 0.0009 # Surrounding box in degrees, yields approximately 10x10 pixel region\n",
    "\n",
    "def create_bbox(lat_long, box_size_deg):\n",
    "    lat, lon = float(lat_long[0]), float(lat_long[1])\n",
    "    min_lon = lon-box_size_deg/2\n",
    "    min_lat = lat-box_size_deg/2\n",
    "    max_lon = lon+box_size_deg/2\n",
    "    max_lat = lat+box_size_deg/2\n",
    "    return (min_lon, min_lat, max_lon, max_lat)"
   ]
  },
  {
   "cell_type": "markdown",
   "id": "442055ff-d69e-4d9c-9048-26956183290e",
   "metadata": {},
   "source": [
    "## 3. Prepare Function for Getting the Sentinel 2 L2A Data"
   ]
  },
  {
   "cell_type": "code",
   "execution_count": 48,
   "id": "5e339a34-cfa7-4899-9165-63ca7c01bbb9",
   "metadata": {},
   "outputs": [],
   "source": [
    "def get_sentinel_data(latlong, time_slice, assets, box_size_deg=None):\n",
    "    '''\n",
    "    Returns VV and VH values for a given latitude and longitude \n",
    "    Attributes:\n",
    "    latlong - A tuple with 2 elements - latitude and longitude\n",
    "    time_slice - Timeframe for which the VV and VH values have to be extracted\n",
    "    assets - A list of bands to be extracted\n",
    "    '''\n",
    "    # 1. extract the longitude and latitude from string\n",
    "    latlong=latlong.replace('(','').replace(')','').replace(' ','').split(',')\n",
    "    \n",
    "    # 2. if the box_size_deg is none then the pixel area will be set to 1x1\n",
    "    if box_size_deg is None:\n",
    "        bbox_of_interest = (float(latlong[1]) , float(latlong[0]), float(latlong[1]) , float(latlong[0]))\n",
    "    else:\n",
    "        bbox_of_interest = create_bbox(latlong, box_size_deg)\n",
    "    time_of_interest = time_slice\n",
    "    \n",
    "    # 3. access the Azure Blob Storage that holding the data\n",
    "    catalog = pystac_client.Client.open(\n",
    "        \"https://planetarycomputer.microsoft.com/api/stac/v1\"\n",
    "    )\n",
    "    \n",
    "    # 4. search the data\n",
    "    search = catalog.search(\n",
    "        collections=[\"sentinel-2-l2a\"], bbox=bbox_of_interest, datetime=time_of_interest\n",
    "    )\n",
    "    items = list(search.get_all_items())\n",
    "    \n",
    "    # 5. load the data bands\n",
    "    bands_of_interest = assets\n",
    "    resolution = 10  # meters per pixel \n",
    "    scale = resolution / 111320.0 # degrees per pixel for CRS:4326 \n",
    "    data = stac_load(\n",
    "        items,\n",
    "        bands=bands_of_interest,\n",
    "        crs=\"EPSG:4326\", # Latitude-Longitude\n",
    "        resolution=scale, # Degrees\n",
    "        dtype=\"uint16\",\n",
    "        patch_url=pc.sign,\n",
    "        bbox=bbox_of_interest,\n",
    "    )\n",
    "    return data"
   ]
  },
  {
   "cell_type": "markdown",
   "id": "cd6da1ff-954d-48f1-9232-95b4bdce883f",
   "metadata": {},
   "source": [
    "## 4. Download the Data"
   ]
  },
  {
   "cell_type": "code",
   "execution_count": 49,
   "id": "23b42673-9f97-4d82-a271-95e0dd0b9157",
   "metadata": {},
   "outputs": [],
   "source": [
    "# set up time slice and assets\n",
    "time_slice = \"2022-01-01/2022-12-31\"\n",
    "assets = ['red', 'green', 'blue', 'nir', 'swir16', 'swir22', 'SCL', 'rededge']"
   ]
  },
  {
   "cell_type": "markdown",
   "id": "3ac831c2-3735-4a4d-8846-7471794cf539",
   "metadata": {
    "tags": []
   },
   "source": [
    "### 1x1"
   ]
  },
  {
   "cell_type": "markdown",
   "id": "9e5ce161-06f3-49a2-8fd3-8964e36c29fa",
   "metadata": {},
   "source": [
    "#### Train Data"
   ]
  },
  {
   "cell_type": "code",
   "execution_count": 50,
   "id": "779e115a-f079-4d2c-ad91-00a2dfc94074",
   "metadata": {},
   "outputs": [
    {
     "name": "stdout",
     "output_type": "stream",
     "text": [
      "../../data/train/sentinel-2-l2a/1-year-202201-202212/1x1 already existed\n"
     ]
    },
    {
     "name": "stderr",
     "output_type": "stream",
     "text": [
      "100%|██████████| 600/600 [00:00<00:00, 113033.70it/s]\n"
     ]
    }
   ],
   "source": [
    "# Prepare the Folder\n",
    "directory=\"../../data/train/sentinel-2-l2a/1-year-202201-202212/1x1\"\n",
    "if not os.path.exists(directory):\n",
    "    print(\"Creating %s\" % (directory))\n",
    "    os.makedirs(directory)\n",
    "    print(\"Done\")\n",
    "else:\n",
    "    print(\"%s already existed\" % (directory))\n",
    "\n",
    "# Download the Data\n",
    "for coordinates in tqdm(train_data['Latitude and Longitude']):\n",
    "    path = os.path.join(directory, coordinates+\".nc\")\n",
    "    if not os.path.exists(path):\n",
    "        data = get_sentinel_data(coordinates,time_slice,assets)\n",
    "        data.to_netcdf(path)"
   ]
  },
  {
   "cell_type": "markdown",
   "id": "36fc0496-1234-41a5-a0e8-3056d2e3088d",
   "metadata": {},
   "source": [
    "#### Test Data"
   ]
  },
  {
   "cell_type": "code",
   "execution_count": 51,
   "id": "da03df78-683a-4ed2-842c-921aba892b00",
   "metadata": {
    "tags": []
   },
   "outputs": [
    {
     "name": "stdout",
     "output_type": "stream",
     "text": [
      "../../data/test/sentinel-2-l2a/1-year-202201-202212/1x1 already existed\n"
     ]
    },
    {
     "name": "stderr",
     "output_type": "stream",
     "text": [
      "100%|██████████| 250/250 [00:00<00:00, 99864.38it/s]\n"
     ]
    }
   ],
   "source": [
    "# Prepare the Folder\n",
    "directory=\"../../data/test/sentinel-2-l2a/1-year-202201-202212/1x1\"\n",
    "if not os.path.exists(directory):\n",
    "    print(\"Creating %s\" % (directory))\n",
    "    os.makedirs(directory)\n",
    "    print(\"Done\")\n",
    "else:\n",
    "    print(\"%s already existed\" % (directory))\n",
    "\n",
    "# Download the Data\n",
    "for coordinates in tqdm(test_data['Latitude and Longitude']):\n",
    "    path = os.path.join(directory, coordinates+\".nc\")\n",
    "    if not os.path.exists(path):\n",
    "        data = get_sentinel_data(coordinates,time_slice,assets)\n",
    "        data.to_netcdf(path)"
   ]
  },
  {
   "cell_type": "markdown",
   "id": "b3a0e5bd-88b6-4d1e-ad26-58fad2d68b2c",
   "metadata": {
    "tags": []
   },
   "source": [
    "### 3x3"
   ]
  },
  {
   "cell_type": "markdown",
   "id": "ca3f922e-eb73-454f-aa65-faa3593ff88a",
   "metadata": {},
   "source": [
    "#### Train Data"
   ]
  },
  {
   "cell_type": "code",
   "execution_count": 52,
   "id": "e80cbffc-921b-43c9-9664-c5b18951a92e",
   "metadata": {},
   "outputs": [
    {
     "name": "stdout",
     "output_type": "stream",
     "text": [
      "../../data/train/sentinel-2-l2a/1-year-202201-202212/3x3 already existed\n"
     ]
    },
    {
     "name": "stderr",
     "output_type": "stream",
     "text": [
      "100%|██████████| 600/600 [00:00<00:00, 114797.12it/s]\n"
     ]
    }
   ],
   "source": [
    "# Prepare the Folder\n",
    "directory=\"../../data/train/sentinel-2-l2a/1-year-202201-202212/3x3\"\n",
    "if not os.path.exists(directory):\n",
    "    print(\"Creating %s\" % (directory))\n",
    "    os.makedirs(directory)\n",
    "    print(\"Done\")\n",
    "else:\n",
    "    print(\"%s already existed\" % (directory))\n",
    "\n",
    "# Download the Data\n",
    "for coordinates in tqdm(train_data['Latitude and Longitude']):\n",
    "    path = os.path.join(directory, coordinates+\".nc\")\n",
    "    if not os.path.exists(path):\n",
    "        data = get_sentinel_data(coordinates,time_slice,assets, box_size_deg_3x3)\n",
    "        data.to_netcdf(path)"
   ]
  },
  {
   "cell_type": "markdown",
   "id": "6ce403f7-bebb-41b8-9c4f-7d2aeb56afbd",
   "metadata": {},
   "source": [
    "#### Test Data"
   ]
  },
  {
   "cell_type": "code",
   "execution_count": 53,
   "id": "8570e86c-1f5b-4486-b7b8-21d553094823",
   "metadata": {
    "tags": []
   },
   "outputs": [
    {
     "name": "stdout",
     "output_type": "stream",
     "text": [
      "../../data/test/sentinel-2-l2a/1-year-202201-202212/3x3 already existed\n"
     ]
    },
    {
     "name": "stderr",
     "output_type": "stream",
     "text": [
      "100%|██████████| 250/250 [00:00<00:00, 94059.56it/s]\n"
     ]
    }
   ],
   "source": [
    "# Prepare the Folder\n",
    "directory=\"../../data/test/sentinel-2-l2a/1-year-202201-202212/3x3\"\n",
    "if not os.path.exists(directory):\n",
    "    print(\"Creating %s\" % (directory))\n",
    "    os.makedirs(directory)\n",
    "    print(\"Done\")\n",
    "else:\n",
    "    print(\"%s already existed\" % (directory))\n",
    "\n",
    "# Download the Data\n",
    "for coordinates in tqdm(test_data['Latitude and Longitude']):\n",
    "    path = os.path.join(directory, coordinates+\".nc\")\n",
    "    if not os.path.exists(path):\n",
    "        data = get_sentinel_data(coordinates,time_slice,assets, box_size_deg_3x3)\n",
    "        data.to_netcdf(path)"
   ]
  },
  {
   "cell_type": "markdown",
   "id": "8592af2d-3a12-4e16-a846-e2db67aaeaa3",
   "metadata": {
    "tags": []
   },
   "source": [
    "### 5x5"
   ]
  },
  {
   "cell_type": "markdown",
   "id": "8bbc7fc2-3739-4a6c-aded-500380aa4534",
   "metadata": {},
   "source": [
    "#### Train Data"
   ]
  },
  {
   "cell_type": "code",
   "execution_count": 54,
   "id": "a80b7e72-61f2-4a9d-8afb-1b8ae11cc376",
   "metadata": {},
   "outputs": [
    {
     "name": "stdout",
     "output_type": "stream",
     "text": [
      "../../data/train/sentinel-2-l2a/1-year-202201-202212/5x5 already existed\n"
     ]
    },
    {
     "name": "stderr",
     "output_type": "stream",
     "text": [
      "100%|██████████| 600/600 [00:00<00:00, 116298.46it/s]\n"
     ]
    }
   ],
   "source": [
    "# Prepare the Folder\n",
    "directory=\"../../data/train/sentinel-2-l2a/1-year-202201-202212/5x5\"\n",
    "if not os.path.exists(directory):\n",
    "    print(\"Creating %s\" % (directory))\n",
    "    os.makedirs(directory)\n",
    "    print(\"Done\")\n",
    "else:\n",
    "    print(\"%s already existed\" % (directory))\n",
    "\n",
    "# Download the Data\n",
    "for coordinates in tqdm(train_data['Latitude and Longitude']):\n",
    "    path = os.path.join(directory, coordinates+\".nc\")\n",
    "    if not os.path.exists(path):\n",
    "        data = get_sentinel_data(coordinates,time_slice,assets, box_size_deg_5x5)\n",
    "        data.to_netcdf(path)"
   ]
  },
  {
   "cell_type": "markdown",
   "id": "2195e509-5b55-47c0-8a38-30c7727db074",
   "metadata": {},
   "source": [
    "#### Test Data"
   ]
  },
  {
   "cell_type": "code",
   "execution_count": 55,
   "id": "136a8159-4f83-4bb6-b441-cc22577acc40",
   "metadata": {
    "tags": []
   },
   "outputs": [
    {
     "name": "stdout",
     "output_type": "stream",
     "text": [
      "../../data/test/sentinel-2-l2a/1-year-202201-202212/5x5 already existed\n"
     ]
    },
    {
     "name": "stderr",
     "output_type": "stream",
     "text": [
      "100%|██████████| 250/250 [00:00<00:00, 89081.30it/s]\n"
     ]
    }
   ],
   "source": [
    "# Prepare the Folder\n",
    "directory=\"../../data/test/sentinel-2-l2a/1-year-202201-202212/5x5\"\n",
    "if not os.path.exists(directory):\n",
    "    print(\"Creating %s\" % (directory))\n",
    "    os.makedirs(directory)\n",
    "    print(\"Done\")\n",
    "else:\n",
    "    print(\"%s already existed\" % (directory))\n",
    "\n",
    "# Download the Data\n",
    "for coordinates in tqdm(test_data['Latitude and Longitude']):\n",
    "    path = os.path.join(directory, coordinates+\".nc\")\n",
    "    if not os.path.exists(path):\n",
    "        data = get_sentinel_data(coordinates,time_slice,assets, box_size_deg_5x5)\n",
    "        data.to_netcdf(path)"
   ]
  },
  {
   "cell_type": "markdown",
   "id": "905dc3e8-f6c4-4beb-874c-d6f9550f7cdc",
   "metadata": {
    "tags": []
   },
   "source": [
    "### 7x7"
   ]
  },
  {
   "cell_type": "markdown",
   "id": "f379b4f8-bbbc-4977-9d2c-f9e4fa1e8e4c",
   "metadata": {},
   "source": [
    "#### Train Data"
   ]
  },
  {
   "cell_type": "code",
   "execution_count": 56,
   "id": "da8a2f70-17a4-4fae-b337-5cb63f37d468",
   "metadata": {},
   "outputs": [
    {
     "name": "stdout",
     "output_type": "stream",
     "text": [
      "../../data/train/sentinel-2-l2a/1-year-202201-202212/5x5 already existed\n"
     ]
    },
    {
     "name": "stderr",
     "output_type": "stream",
     "text": [
      "100%|██████████| 600/600 [00:00<00:00, 113170.95it/s]\n"
     ]
    }
   ],
   "source": [
    "# Prepare the Folder\n",
    "directory=\"../../data/train/sentinel-2-l2a/1-year-202201-202212/5x5\"\n",
    "if not os.path.exists(directory):\n",
    "    print(\"Creating %s\" % (directory))\n",
    "    os.makedirs(directory)\n",
    "    print(\"Done\")\n",
    "else:\n",
    "    print(\"%s already existed\" % (directory))\n",
    "\n",
    "# Download the Data\n",
    "for coordinates in tqdm(train_data['Latitude and Longitude']):\n",
    "    path = os.path.join(directory, coordinates+\".nc\")\n",
    "    if not os.path.exists(path):\n",
    "        data = get_sentinel_data(coordinates,time_slice,assets,box_size_deg_5x5)\n",
    "        data.to_netcdf(path)"
   ]
  },
  {
   "cell_type": "markdown",
   "id": "ec00eb10-725b-4d68-b3b6-3e1fdd7bef38",
   "metadata": {},
   "source": [
    "#### Test Data"
   ]
  },
  {
   "cell_type": "code",
   "execution_count": 57,
   "id": "a53d93ed-17ae-475c-98d9-ed11cacfeb2a",
   "metadata": {
    "tags": []
   },
   "outputs": [
    {
     "name": "stdout",
     "output_type": "stream",
     "text": [
      "../../data/test/sentinel-2-l2a/1-year-202201-202212/7x7 already existed\n"
     ]
    },
    {
     "name": "stderr",
     "output_type": "stream",
     "text": [
      "100%|██████████| 250/250 [00:00<00:00, 90449.06it/s]\n"
     ]
    }
   ],
   "source": [
    "# Prepare the Folder\n",
    "directory=\"../../data/test/sentinel-2-l2a/1-year-202201-202212/7x7\"\n",
    "if not os.path.exists(directory):\n",
    "    print(\"Creating %s\" % (directory))\n",
    "    os.makedirs(directory)\n",
    "    print(\"Done\")\n",
    "else:\n",
    "    print(\"%s already existed\" % (directory))\n",
    "\n",
    "# Download the Data\n",
    "for coordinates in tqdm(test_data['Latitude and Longitude']):\n",
    "    path = os.path.join(directory, coordinates+\".nc\")\n",
    "    if not os.path.exists(path):\n",
    "        data = get_sentinel_data(coordinates,time_slice,assets, box_size_deg_7x7)\n",
    "        data.to_netcdf(path)"
   ]
  },
  {
   "cell_type": "markdown",
   "id": "3d5079c4-431f-4b6e-90aa-b0498a7938a5",
   "metadata": {
    "tags": []
   },
   "source": [
    "### 10x10"
   ]
  },
  {
   "cell_type": "markdown",
   "id": "866a3d72-6ec4-4cb6-b9cb-cd10587fa9f7",
   "metadata": {},
   "source": [
    "#### Train Data"
   ]
  },
  {
   "cell_type": "code",
   "execution_count": 58,
   "id": "3c88b887-62e7-43a7-8727-b451dfa87eda",
   "metadata": {},
   "outputs": [
    {
     "name": "stdout",
     "output_type": "stream",
     "text": [
      "../../data/train/sentinel-2-l2a/1-year-202201-202212/10x10 already existed\n"
     ]
    },
    {
     "name": "stderr",
     "output_type": "stream",
     "text": [
      "100%|██████████| 600/600 [00:00<00:00, 109236.15it/s]\n"
     ]
    }
   ],
   "source": [
    "# Prepare the Folder\n",
    "directory=\"../../data/train/sentinel-2-l2a/1-year-202201-202212/10x10\"\n",
    "if not os.path.exists(directory):\n",
    "    print(\"Creating %s\" % (directory))\n",
    "    os.makedirs(directory)\n",
    "    print(\"Done\")\n",
    "else:\n",
    "    print(\"%s already existed\" % (directory))\n",
    "\n",
    "# Download the Data\n",
    "for coordinates in tqdm(train_data['Latitude and Longitude']):\n",
    "    path = os.path.join(directory, coordinates+\".nc\")\n",
    "    if not os.path.exists(path):\n",
    "        data = get_sentinel_data(coordinates,time_slice,assets,box_size_deg_10x10)\n",
    "        data.to_netcdf(path)"
   ]
  },
  {
   "cell_type": "markdown",
   "id": "8d6a8450-23a5-4902-bcf0-80005e19e27e",
   "metadata": {},
   "source": [
    "#### Test Data"
   ]
  },
  {
   "cell_type": "code",
   "execution_count": 59,
   "id": "c0a285dc-4087-4392-aa57-3b3cae73262b",
   "metadata": {
    "tags": []
   },
   "outputs": [
    {
     "name": "stdout",
     "output_type": "stream",
     "text": [
      "../../data/test/sentinel-2-l2a/1-year-202201-202212/10x10 already existed\n"
     ]
    },
    {
     "name": "stderr",
     "output_type": "stream",
     "text": [
      "100%|██████████| 250/250 [00:00<00:00, 100169.66it/s]\n"
     ]
    }
   ],
   "source": [
    "# Prepare the Folder\n",
    "directory=\"../../data/test/sentinel-2-l2a/1-year-202201-202212/10x10\"\n",
    "if not os.path.exists(directory):\n",
    "    print(\"Creating %s\" % (directory))\n",
    "    os.makedirs(directory)\n",
    "    print(\"Done\")\n",
    "else:\n",
    "    print(\"%s already existed\" % (directory))\n",
    "\n",
    "# Download the Data\n",
    "for coordinates in tqdm(test_data['Latitude and Longitude']):\n",
    "    path = os.path.join(directory, coordinates+\".nc\")\n",
    "    if not os.path.exists(path):\n",
    "        data = get_sentinel_data(coordinates,time_slice,assets, box_size_deg_10x10)\n",
    "        data.to_netcdf(path)"
   ]
  }
 ],
 "metadata": {
  "kernelspec": {
   "display_name": "Python [conda env:notebook] *",
   "language": "python",
   "name": "conda-env-notebook-py"
  },
  "language_info": {
   "codemirror_mode": {
    "name": "ipython",
    "version": 3
   },
   "file_extension": ".py",
   "mimetype": "text/x-python",
   "name": "python",
   "nbconvert_exporter": "python",
   "pygments_lexer": "ipython3",
   "version": "3.10.6"
  }
 },
 "nbformat": 4,
 "nbformat_minor": 5
}
